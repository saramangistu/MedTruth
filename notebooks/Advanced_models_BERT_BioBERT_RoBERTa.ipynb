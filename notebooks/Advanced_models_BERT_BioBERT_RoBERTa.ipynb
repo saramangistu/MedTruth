{
  "cells": [
    {
      "cell_type": "code",
      "execution_count": null,
      "metadata": {
        "id": "osSG4ixRCVUJ"
      },
      "outputs": [],
      "source": [
        "!rm -rf /usr/local/lib/python*/dist-packages/transformers*"
      ]
    },
    {
      "cell_type": "code",
      "execution_count": null,
      "metadata": {
        "colab": {
          "base_uri": "https://localhost:8080/"
        },
        "id": "5WAybtw0qmRV",
        "outputId": "d2172718-4f9a-49da-efd6-69391da961dd"
      },
      "outputs": [
        {
          "name": "stdout",
          "output_type": "stream",
          "text": [
            "Collecting transformers\n",
            "  Downloading transformers-4.52.4-py3-none-any.whl.metadata (38 kB)\n",
            "Requirement already satisfied: datasets in /usr/local/lib/python3.11/dist-packages (2.14.4)\n",
            "Collecting datasets\n",
            "  Downloading datasets-3.6.0-py3-none-any.whl.metadata (19 kB)\n",
            "Collecting evaluate\n",
            "  Downloading evaluate-0.4.3-py3-none-any.whl.metadata (9.2 kB)\n",
            "Requirement already satisfied: scikit-learn in /usr/local/lib/python3.11/dist-packages (1.6.1)\n",
            "Requirement already satisfied: filelock in /usr/local/lib/python3.11/dist-packages (from transformers) (3.18.0)\n",
            "Requirement already satisfied: huggingface-hub<1.0,>=0.30.0 in /usr/local/lib/python3.11/dist-packages (from transformers) (0.31.4)\n",
            "Requirement already satisfied: numpy>=1.17 in /usr/local/lib/python3.11/dist-packages (from transformers) (2.0.2)\n",
            "Requirement already satisfied: packaging>=20.0 in /usr/local/lib/python3.11/dist-packages (from transformers) (24.2)\n",
            "Requirement already satisfied: pyyaml>=5.1 in /usr/local/lib/python3.11/dist-packages (from transformers) (6.0.2)\n",
            "Requirement already satisfied: regex!=2019.12.17 in /usr/local/lib/python3.11/dist-packages (from transformers) (2024.11.6)\n",
            "Requirement already satisfied: requests in /usr/local/lib/python3.11/dist-packages (from transformers) (2.32.3)\n",
            "Requirement already satisfied: tokenizers<0.22,>=0.21 in /usr/local/lib/python3.11/dist-packages (from transformers) (0.21.1)\n",
            "Requirement already satisfied: safetensors>=0.4.3 in /usr/local/lib/python3.11/dist-packages (from transformers) (0.5.3)\n",
            "Requirement already satisfied: tqdm>=4.27 in /usr/local/lib/python3.11/dist-packages (from transformers) (4.67.1)\n",
            "Requirement already satisfied: pyarrow>=15.0.0 in /usr/local/lib/python3.11/dist-packages (from datasets) (18.1.0)\n",
            "Requirement already satisfied: dill<0.3.9,>=0.3.0 in /usr/local/lib/python3.11/dist-packages (from datasets) (0.3.7)\n",
            "Requirement already satisfied: pandas in /usr/local/lib/python3.11/dist-packages (from datasets) (2.2.2)\n",
            "Requirement already satisfied: xxhash in /usr/local/lib/python3.11/dist-packages (from datasets) (3.5.0)\n",
            "Requirement already satisfied: multiprocess<0.70.17 in /usr/local/lib/python3.11/dist-packages (from datasets) (0.70.15)\n",
            "Collecting fsspec<=2025.3.0,>=2023.1.0 (from fsspec[http]<=2025.3.0,>=2023.1.0->datasets)\n",
            "  Downloading fsspec-2025.3.0-py3-none-any.whl.metadata (11 kB)\n",
            "Requirement already satisfied: scipy>=1.6.0 in /usr/local/lib/python3.11/dist-packages (from scikit-learn) (1.15.3)\n",
            "Requirement already satisfied: joblib>=1.2.0 in /usr/local/lib/python3.11/dist-packages (from scikit-learn) (1.5.0)\n",
            "Requirement already satisfied: threadpoolctl>=3.1.0 in /usr/local/lib/python3.11/dist-packages (from scikit-learn) (3.6.0)\n",
            "Requirement already satisfied: aiohttp!=4.0.0a0,!=4.0.0a1 in /usr/local/lib/python3.11/dist-packages (from fsspec[http]<=2025.3.0,>=2023.1.0->datasets) (3.11.15)\n",
            "Requirement already satisfied: typing-extensions>=3.7.4.3 in /usr/local/lib/python3.11/dist-packages (from huggingface-hub<1.0,>=0.30.0->transformers) (4.13.2)\n",
            "Requirement already satisfied: charset-normalizer<4,>=2 in /usr/local/lib/python3.11/dist-packages (from requests->transformers) (3.4.2)\n",
            "Requirement already satisfied: idna<4,>=2.5 in /usr/local/lib/python3.11/dist-packages (from requests->transformers) (3.10)\n",
            "Requirement already satisfied: urllib3<3,>=1.21.1 in /usr/local/lib/python3.11/dist-packages (from requests->transformers) (2.4.0)\n",
            "Requirement already satisfied: certifi>=2017.4.17 in /usr/local/lib/python3.11/dist-packages (from requests->transformers) (2025.4.26)\n",
            "Requirement already satisfied: python-dateutil>=2.8.2 in /usr/local/lib/python3.11/dist-packages (from pandas->datasets) (2.9.0.post0)\n",
            "Requirement already satisfied: pytz>=2020.1 in /usr/local/lib/python3.11/dist-packages (from pandas->datasets) (2025.2)\n",
            "Requirement already satisfied: tzdata>=2022.7 in /usr/local/lib/python3.11/dist-packages (from pandas->datasets) (2025.2)\n",
            "Requirement already satisfied: aiohappyeyeballs>=2.3.0 in /usr/local/lib/python3.11/dist-packages (from aiohttp!=4.0.0a0,!=4.0.0a1->fsspec[http]<=2025.3.0,>=2023.1.0->datasets) (2.6.1)\n",
            "Requirement already satisfied: aiosignal>=1.1.2 in /usr/local/lib/python3.11/dist-packages (from aiohttp!=4.0.0a0,!=4.0.0a1->fsspec[http]<=2025.3.0,>=2023.1.0->datasets) (1.3.2)\n",
            "Requirement already satisfied: attrs>=17.3.0 in /usr/local/lib/python3.11/dist-packages (from aiohttp!=4.0.0a0,!=4.0.0a1->fsspec[http]<=2025.3.0,>=2023.1.0->datasets) (25.3.0)\n",
            "Requirement already satisfied: frozenlist>=1.1.1 in /usr/local/lib/python3.11/dist-packages (from aiohttp!=4.0.0a0,!=4.0.0a1->fsspec[http]<=2025.3.0,>=2023.1.0->datasets) (1.6.0)\n",
            "Requirement already satisfied: multidict<7.0,>=4.5 in /usr/local/lib/python3.11/dist-packages (from aiohttp!=4.0.0a0,!=4.0.0a1->fsspec[http]<=2025.3.0,>=2023.1.0->datasets) (6.4.4)\n",
            "Requirement already satisfied: propcache>=0.2.0 in /usr/local/lib/python3.11/dist-packages (from aiohttp!=4.0.0a0,!=4.0.0a1->fsspec[http]<=2025.3.0,>=2023.1.0->datasets) (0.3.1)\n",
            "Requirement already satisfied: yarl<2.0,>=1.17.0 in /usr/local/lib/python3.11/dist-packages (from aiohttp!=4.0.0a0,!=4.0.0a1->fsspec[http]<=2025.3.0,>=2023.1.0->datasets) (1.20.0)\n",
            "Requirement already satisfied: six>=1.5 in /usr/local/lib/python3.11/dist-packages (from python-dateutil>=2.8.2->pandas->datasets) (1.17.0)\n",
            "Downloading transformers-4.52.4-py3-none-any.whl (10.5 MB)\n",
            "\u001b[2K   \u001b[90m━━━━━━━━━━━━━━━━━━━━━━━━━━━━━━━━━━━━━━━━\u001b[0m \u001b[32m10.5/10.5 MB\u001b[0m \u001b[31m59.3 MB/s\u001b[0m eta \u001b[36m0:00:00\u001b[0m\n",
            "\u001b[?25hDownloading datasets-3.6.0-py3-none-any.whl (491 kB)\n",
            "\u001b[2K   \u001b[90m━━━━━━━━━━━━━━━━━━━━━━━━━━━━━━━━━━━━━━━━\u001b[0m \u001b[32m491.5/491.5 kB\u001b[0m \u001b[31m28.3 MB/s\u001b[0m eta \u001b[36m0:00:00\u001b[0m\n",
            "\u001b[?25hDownloading evaluate-0.4.3-py3-none-any.whl (84 kB)\n",
            "\u001b[2K   \u001b[90m━━━━━━━━━━━━━━━━━━━━━━━━━━━━━━━━━━━━━━━━\u001b[0m \u001b[32m84.0/84.0 kB\u001b[0m \u001b[31m7.8 MB/s\u001b[0m eta \u001b[36m0:00:00\u001b[0m\n",
            "\u001b[?25hDownloading fsspec-2025.3.0-py3-none-any.whl (193 kB)\n",
            "\u001b[2K   \u001b[90m━━━━━━━━━━━━━━━━━━━━━━━━━━━━━━━━━━━━━━━━\u001b[0m \u001b[32m193.6/193.6 kB\u001b[0m \u001b[31m15.1 MB/s\u001b[0m eta \u001b[36m0:00:00\u001b[0m\n",
            "\u001b[?25hInstalling collected packages: fsspec, transformers, datasets, evaluate\n",
            "  Attempting uninstall: fsspec\n",
            "    Found existing installation: fsspec 2025.3.2\n",
            "    Uninstalling fsspec-2025.3.2:\n",
            "      Successfully uninstalled fsspec-2025.3.2\n",
            "  Attempting uninstall: datasets\n",
            "    Found existing installation: datasets 2.14.4\n",
            "    Uninstalling datasets-2.14.4:\n",
            "      Successfully uninstalled datasets-2.14.4\n",
            "\u001b[31mERROR: pip's dependency resolver does not currently take into account all the packages that are installed. This behaviour is the source of the following dependency conflicts.\n",
            "gcsfs 2025.3.2 requires fsspec==2025.3.2, but you have fsspec 2025.3.0 which is incompatible.\n",
            "torch 2.6.0+cu124 requires nvidia-cublas-cu12==12.4.5.8; platform_system == \"Linux\" and platform_machine == \"x86_64\", but you have nvidia-cublas-cu12 12.5.3.2 which is incompatible.\n",
            "torch 2.6.0+cu124 requires nvidia-cuda-cupti-cu12==12.4.127; platform_system == \"Linux\" and platform_machine == \"x86_64\", but you have nvidia-cuda-cupti-cu12 12.5.82 which is incompatible.\n",
            "torch 2.6.0+cu124 requires nvidia-cuda-nvrtc-cu12==12.4.127; platform_system == \"Linux\" and platform_machine == \"x86_64\", but you have nvidia-cuda-nvrtc-cu12 12.5.82 which is incompatible.\n",
            "torch 2.6.0+cu124 requires nvidia-cuda-runtime-cu12==12.4.127; platform_system == \"Linux\" and platform_machine == \"x86_64\", but you have nvidia-cuda-runtime-cu12 12.5.82 which is incompatible.\n",
            "torch 2.6.0+cu124 requires nvidia-cudnn-cu12==9.1.0.70; platform_system == \"Linux\" and platform_machine == \"x86_64\", but you have nvidia-cudnn-cu12 9.3.0.75 which is incompatible.\n",
            "torch 2.6.0+cu124 requires nvidia-cufft-cu12==11.2.1.3; platform_system == \"Linux\" and platform_machine == \"x86_64\", but you have nvidia-cufft-cu12 11.2.3.61 which is incompatible.\n",
            "torch 2.6.0+cu124 requires nvidia-curand-cu12==10.3.5.147; platform_system == \"Linux\" and platform_machine == \"x86_64\", but you have nvidia-curand-cu12 10.3.6.82 which is incompatible.\n",
            "torch 2.6.0+cu124 requires nvidia-cusolver-cu12==11.6.1.9; platform_system == \"Linux\" and platform_machine == \"x86_64\", but you have nvidia-cusolver-cu12 11.6.3.83 which is incompatible.\n",
            "torch 2.6.0+cu124 requires nvidia-cusparse-cu12==12.3.1.170; platform_system == \"Linux\" and platform_machine == \"x86_64\", but you have nvidia-cusparse-cu12 12.5.1.3 which is incompatible.\n",
            "torch 2.6.0+cu124 requires nvidia-nvjitlink-cu12==12.4.127; platform_system == \"Linux\" and platform_machine == \"x86_64\", but you have nvidia-nvjitlink-cu12 12.5.82 which is incompatible.\u001b[0m\u001b[31m\n",
            "\u001b[0mSuccessfully installed datasets-3.6.0 evaluate-0.4.3 fsspec-2025.3.0 transformers-4.52.4\n"
          ]
        }
      ],
      "source": [
        "# Uninstall potential culprits\n",
        "!pip install -U transformers datasets evaluate scikit-learn"
      ]
    },
    {
      "cell_type": "code",
      "execution_count": null,
      "metadata": {
        "id": "WuLXzsvavVmC"
      },
      "outputs": [],
      "source": [
        "import kagglehub\n",
        "import pandas as pd\n",
        "import numpy as np\n",
        "import transformers\n",
        "import torch\n",
        "import os\n",
        "os.environ[\"WANDB_DISABLED\"] = \"true\""
      ]
    },
    {
      "cell_type": "markdown",
      "metadata": {
        "id": "k-Cbcwy-wIeW"
      },
      "source": [
        "# Load datasets"
      ]
    },
    {
      "cell_type": "markdown",
      "metadata": {
        "id": "jVhtuvCwCUW-"
      },
      "source": [
        "## COVID"
      ]
    },
    {
      "cell_type": "code",
      "execution_count": null,
      "metadata": {
        "colab": {
          "base_uri": "https://localhost:8080/"
        },
        "id": "O1phv8_CvXmZ",
        "outputId": "95305321-2765-4e87-d8ff-0c42a23fb042"
      },
      "outputs": [
        {
          "name": "stdout",
          "output_type": "stream",
          "text": [
            "Downloading from https://www.kaggle.com/api/v1/datasets/download/elvinagammed/covid19-fake-news-dataset-nlp?dataset_version_number=1...\n"
          ]
        },
        {
          "name": "stderr",
          "output_type": "stream",
          "text": [
            "100%|██████████| 1.67M/1.67M [00:00<00:00, 136MB/s]"
          ]
        },
        {
          "name": "stdout",
          "output_type": "stream",
          "text": [
            "Extracting files...\n"
          ]
        },
        {
          "name": "stderr",
          "output_type": "stream",
          "text": [
            "\n"
          ]
        }
      ],
      "source": [
        "path = kagglehub.dataset_download(\"elvinagammed/covid19-fake-news-dataset-nlp\")"
      ]
    },
    {
      "cell_type": "code",
      "execution_count": null,
      "metadata": {
        "colab": {
          "base_uri": "https://localhost:8080/"
        },
        "id": "fmC9N9Q7vb-J",
        "outputId": "ce2e609f-50d8-4dea-921a-bdd385a68e14"
      },
      "outputs": [
        {
          "name": "stdout",
          "output_type": "stream",
          "text": [
            "['english_test_with_labels.csv', 'Constraint_Train.xlsx', 'Constraint_Test.xlsx', 'Constraint_Val.csv', 'Constraint_Train.csv', 'Constraint_Test.csv', 'test_ernie2.0_results.csv']\n"
          ]
        }
      ],
      "source": [
        "files = os.listdir(path)\n",
        "print(files)"
      ]
    },
    {
      "cell_type": "code",
      "execution_count": null,
      "metadata": {
        "id": "wz9H26BmvhJB"
      },
      "outputs": [],
      "source": [
        "# Train data - NOT USED\n",
        "# ONLY TRAIN DATA WILL BE TAKEN FOR THE PROJECT\n",
        "#csv_file = f\"{path}/Constraint_Train.csv\"\n",
        "#covid_train = pd.read_csv(csv_file, encoding='latin-1')\n",
        "#covid_train = covid_train[['tweet', 'label']]\n",
        "#covid_train.label.value_counts()"
      ]
    },
    {
      "cell_type": "code",
      "execution_count": null,
      "metadata": {
        "colab": {
          "base_uri": "https://localhost:8080/",
          "height": 178
        },
        "id": "NUbE6F39vmg6",
        "outputId": "d34d540e-39a8-4528-a263-abcaf06ee294"
      },
      "outputs": [
        {
          "data": {
            "text/html": [
              "<div>\n",
              "<style scoped>\n",
              "    .dataframe tbody tr th:only-of-type {\n",
              "        vertical-align: middle;\n",
              "    }\n",
              "\n",
              "    .dataframe tbody tr th {\n",
              "        vertical-align: top;\n",
              "    }\n",
              "\n",
              "    .dataframe thead th {\n",
              "        text-align: right;\n",
              "    }\n",
              "</style>\n",
              "<table border=\"1\" class=\"dataframe\">\n",
              "  <thead>\n",
              "    <tr style=\"text-align: right;\">\n",
              "      <th></th>\n",
              "      <th>count</th>\n",
              "    </tr>\n",
              "    <tr>\n",
              "      <th>label</th>\n",
              "      <th></th>\n",
              "    </tr>\n",
              "  </thead>\n",
              "  <tbody>\n",
              "    <tr>\n",
              "      <th>real</th>\n",
              "      <td>1120</td>\n",
              "    </tr>\n",
              "    <tr>\n",
              "      <th>fake</th>\n",
              "      <td>1020</td>\n",
              "    </tr>\n",
              "  </tbody>\n",
              "</table>\n",
              "</div><br><label><b>dtype:</b> int64</label>"
            ],
            "text/plain": [
              "label\n",
              "real    1120\n",
              "fake    1020\n",
              "Name: count, dtype: int64"
            ]
          },
          "execution_count": 5,
          "metadata": {},
          "output_type": "execute_result"
        }
      ],
      "source": [
        "# Test data\n",
        "csv_file = f\"{path}/english_test_with_labels.csv\"\n",
        "covid_test = pd.read_csv(csv_file, encoding='latin-1')\n",
        "covid_test = covid_test[['tweet', 'label']]\n",
        "covid_test.label.value_counts()"
      ]
    },
    {
      "cell_type": "code",
      "execution_count": null,
      "metadata": {
        "colab": {
          "base_uri": "https://localhost:8080/"
        },
        "id": "gIZDuTenv6dQ",
        "outputId": "9b038833-f476-4396-d567-1dbba73e19c5"
      },
      "outputs": [
        {
          "data": {
            "text/plain": [
              "(2140, 2)"
            ]
          },
          "execution_count": 6,
          "metadata": {},
          "output_type": "execute_result"
        }
      ],
      "source": [
        "# Validation data\n",
        "csv_file = f\"{path}/Constraint_Val.csv\"\n",
        "covid_val = pd.read_csv(csv_file, encoding='latin-1')\n",
        "covid_val = covid_val[['tweet', 'label']]\n",
        "covid_val.shape"
      ]
    },
    {
      "cell_type": "code",
      "execution_count": null,
      "metadata": {
        "colab": {
          "base_uri": "https://localhost:8080/",
          "height": 178
        },
        "id": "jsV5XNZdmCoZ",
        "outputId": "b03dc00d-397c-42c8-96ad-c4d1f1069e90"
      },
      "outputs": [
        {
          "data": {
            "text/html": [
              "<div>\n",
              "<style scoped>\n",
              "    .dataframe tbody tr th:only-of-type {\n",
              "        vertical-align: middle;\n",
              "    }\n",
              "\n",
              "    .dataframe tbody tr th {\n",
              "        vertical-align: top;\n",
              "    }\n",
              "\n",
              "    .dataframe thead th {\n",
              "        text-align: right;\n",
              "    }\n",
              "</style>\n",
              "<table border=\"1\" class=\"dataframe\">\n",
              "  <thead>\n",
              "    <tr style=\"text-align: right;\">\n",
              "      <th></th>\n",
              "      <th>proportion</th>\n",
              "    </tr>\n",
              "    <tr>\n",
              "      <th>label</th>\n",
              "      <th></th>\n",
              "    </tr>\n",
              "  </thead>\n",
              "  <tbody>\n",
              "    <tr>\n",
              "      <th>true</th>\n",
              "      <td>0.523364</td>\n",
              "    </tr>\n",
              "    <tr>\n",
              "      <th>false</th>\n",
              "      <td>0.476636</td>\n",
              "    </tr>\n",
              "  </tbody>\n",
              "</table>\n",
              "</div><br><label><b>dtype:</b> float64</label>"
            ],
            "text/plain": [
              "label\n",
              "true     0.523364\n",
              "false    0.476636\n",
              "Name: proportion, dtype: float64"
            ]
          },
          "execution_count": 7,
          "metadata": {},
          "output_type": "execute_result"
        }
      ],
      "source": [
        "# final covid dataset\n",
        "covid_all = pd.concat([covid_test,covid_val], ignore_index=True)\n",
        "covid_all['label'] = ['false' if (str(i) == 'fake') else 'true' if (str(i) == 'real') else str(i) for i in covid_all.label]\n",
        "covid_all.columns = ['claim', 'label']\n",
        "covid_all.label.value_counts(normalize=True)"
      ]
    },
    {
      "cell_type": "markdown",
      "metadata": {
        "id": "SfvJNwd8DbiG"
      },
      "source": [
        "## Pubhealth"
      ]
    },
    {
      "cell_type": "code",
      "execution_count": null,
      "metadata": {
        "colab": {
          "base_uri": "https://localhost:8080/"
        },
        "id": "O6rxTT4TNzBu",
        "outputId": "485eb7e6-65c7-4fd8-92f4-c8a9e78159b6"
      },
      "outputs": [
        {
          "name": "stdout",
          "output_type": "stream",
          "text": [
            "Downloading from https://www.kaggle.com/api/v1/datasets/download/ersindemirel/pubhealthdataset?dataset_version_number=1...\n"
          ]
        },
        {
          "name": "stderr",
          "output_type": "stream",
          "text": [
            "100%|██████████| 21.6M/21.6M [00:00<00:00, 72.0MB/s]"
          ]
        },
        {
          "name": "stdout",
          "output_type": "stream",
          "text": [
            "Extracting files...\n"
          ]
        },
        {
          "name": "stderr",
          "output_type": "stream",
          "text": [
            "\n"
          ]
        },
        {
          "name": "stdout",
          "output_type": "stream",
          "text": [
            "Path to dataset files: /root/.cache/kagglehub/datasets/ersindemirel/pubhealthdataset/versions/1\n"
          ]
        }
      ],
      "source": [
        "path = kagglehub.dataset_download(\"ersindemirel/pubhealthdataset\")\n",
        "print(\"Path to dataset files:\", path)"
      ]
    },
    {
      "cell_type": "code",
      "execution_count": null,
      "metadata": {
        "colab": {
          "base_uri": "https://localhost:8080/"
        },
        "id": "hi8GRsMNOWp5",
        "outputId": "f4ae19e1-40fe-4a3e-9158-0bca5f64d7a5"
      },
      "outputs": [
        {
          "name": "stdout",
          "output_type": "stream",
          "text": [
            "['train.tsv', 'test.tsv']\n"
          ]
        }
      ],
      "source": [
        "files = os.listdir(path)\n",
        "print(files)"
      ]
    },
    {
      "cell_type": "code",
      "execution_count": null,
      "metadata": {
        "colab": {
          "base_uri": "https://localhost:8080/",
          "height": 178
        },
        "id": "b4ZGQCyvOe7B",
        "outputId": "0b31805a-179d-4f81-f5a6-aa81a8b5067f"
      },
      "outputs": [
        {
          "data": {
            "text/html": [
              "<div>\n",
              "<style scoped>\n",
              "    .dataframe tbody tr th:only-of-type {\n",
              "        vertical-align: middle;\n",
              "    }\n",
              "\n",
              "    .dataframe tbody tr th {\n",
              "        vertical-align: top;\n",
              "    }\n",
              "\n",
              "    .dataframe thead th {\n",
              "        text-align: right;\n",
              "    }\n",
              "</style>\n",
              "<table border=\"1\" class=\"dataframe\">\n",
              "  <thead>\n",
              "    <tr style=\"text-align: right;\">\n",
              "      <th></th>\n",
              "      <th>count</th>\n",
              "    </tr>\n",
              "    <tr>\n",
              "      <th>label</th>\n",
              "      <th></th>\n",
              "    </tr>\n",
              "  </thead>\n",
              "  <tbody>\n",
              "    <tr>\n",
              "      <th>true</th>\n",
              "      <td>5078</td>\n",
              "    </tr>\n",
              "    <tr>\n",
              "      <th>false</th>\n",
              "      <td>3001</td>\n",
              "    </tr>\n",
              "  </tbody>\n",
              "</table>\n",
              "</div><br><label><b>dtype:</b> int64</label>"
            ],
            "text/plain": [
              "label\n",
              "true     5078\n",
              "false    3001\n",
              "Name: count, dtype: int64"
            ]
          },
          "execution_count": 10,
          "metadata": {},
          "output_type": "execute_result"
        }
      ],
      "source": [
        "# Train data\n",
        "csv_file = f\"{path}/train.tsv\"\n",
        "pubhealth_train = pd.read_csv(csv_file, sep='\\t')\n",
        "pubhealth_train = pubhealth_train[pubhealth_train.label.isin(['false', 'true'])]\n",
        "pubhealth_train.label.value_counts()"
      ]
    },
    {
      "cell_type": "code",
      "execution_count": null,
      "metadata": {
        "colab": {
          "base_uri": "https://localhost:8080/",
          "height": 178
        },
        "id": "vBGQb0n8OjWc",
        "outputId": "e8c6378b-a840-460d-cc0c-7e5dfd4d09aa"
      },
      "outputs": [
        {
          "data": {
            "text/html": [
              "<div>\n",
              "<style scoped>\n",
              "    .dataframe tbody tr th:only-of-type {\n",
              "        vertical-align: middle;\n",
              "    }\n",
              "\n",
              "    .dataframe tbody tr th {\n",
              "        vertical-align: top;\n",
              "    }\n",
              "\n",
              "    .dataframe thead th {\n",
              "        text-align: right;\n",
              "    }\n",
              "</style>\n",
              "<table border=\"1\" class=\"dataframe\">\n",
              "  <thead>\n",
              "    <tr style=\"text-align: right;\">\n",
              "      <th></th>\n",
              "      <th>count</th>\n",
              "    </tr>\n",
              "    <tr>\n",
              "      <th>label</th>\n",
              "      <th></th>\n",
              "    </tr>\n",
              "  </thead>\n",
              "  <tbody>\n",
              "    <tr>\n",
              "      <th>true</th>\n",
              "      <td>599</td>\n",
              "    </tr>\n",
              "    <tr>\n",
              "      <th>false</th>\n",
              "      <td>388</td>\n",
              "    </tr>\n",
              "  </tbody>\n",
              "</table>\n",
              "</div><br><label><b>dtype:</b> int64</label>"
            ],
            "text/plain": [
              "label\n",
              "true     599\n",
              "false    388\n",
              "Name: count, dtype: int64"
            ]
          },
          "execution_count": 11,
          "metadata": {},
          "output_type": "execute_result"
        }
      ],
      "source": [
        "# Test data\n",
        "csv_file = f\"{path}/test.tsv\"\n",
        "pubhealth_test = pd.read_csv(csv_file, sep='\\t')\n",
        "pubhealth_test = pubhealth_test[pubhealth_test.label.isin(['false', 'true'])]\n",
        "pubhealth_test.label.value_counts()"
      ]
    },
    {
      "cell_type": "code",
      "execution_count": null,
      "metadata": {
        "colab": {
          "base_uri": "https://localhost:8080/",
          "height": 178
        },
        "id": "81N2Y2lqDbLh",
        "outputId": "41135980-2e6a-4467-a888-4a467665f293"
      },
      "outputs": [
        {
          "data": {
            "text/html": [
              "<div>\n",
              "<style scoped>\n",
              "    .dataframe tbody tr th:only-of-type {\n",
              "        vertical-align: middle;\n",
              "    }\n",
              "\n",
              "    .dataframe tbody tr th {\n",
              "        vertical-align: top;\n",
              "    }\n",
              "\n",
              "    .dataframe thead th {\n",
              "        text-align: right;\n",
              "    }\n",
              "</style>\n",
              "<table border=\"1\" class=\"dataframe\">\n",
              "  <thead>\n",
              "    <tr style=\"text-align: right;\">\n",
              "      <th></th>\n",
              "      <th>proportion</th>\n",
              "    </tr>\n",
              "    <tr>\n",
              "      <th>label</th>\n",
              "      <th></th>\n",
              "    </tr>\n",
              "  </thead>\n",
              "  <tbody>\n",
              "    <tr>\n",
              "      <th>true</th>\n",
              "      <td>0.626186</td>\n",
              "    </tr>\n",
              "    <tr>\n",
              "      <th>false</th>\n",
              "      <td>0.373814</td>\n",
              "    </tr>\n",
              "  </tbody>\n",
              "</table>\n",
              "</div><br><label><b>dtype:</b> float64</label>"
            ],
            "text/plain": [
              "label\n",
              "true     0.626186\n",
              "false    0.373814\n",
              "Name: proportion, dtype: float64"
            ]
          },
          "execution_count": 12,
          "metadata": {},
          "output_type": "execute_result"
        }
      ],
      "source": [
        "# final pubhealth dataset\n",
        "pubhealth_all = pd.concat([pubhealth_train,pubhealth_test], ignore_index=True)\n",
        "pubhealth_all = pubhealth_all[['claim', 'label']]\n",
        "pubhealth_all.label.value_counts(normalize=True)"
      ]
    },
    {
      "cell_type": "markdown",
      "metadata": {
        "id": "PnAVevdtIO5b"
      },
      "source": [
        "## Misinformation-Detection"
      ]
    },
    {
      "cell_type": "code",
      "execution_count": null,
      "metadata": {
        "colab": {
          "base_uri": "https://localhost:8080/"
        },
        "id": "kkyxy4S7DbIE",
        "outputId": "58298e14-cc84-433c-f008-f666ba61d9d5"
      },
      "outputs": [
        {
          "name": "stdout",
          "output_type": "stream",
          "text": [
            "Cloning into 'Misinformation-Detection'...\n",
            "remote: Enumerating objects: 833, done.\u001b[K\n",
            "remote: Counting objects: 100% (833/833), done.\u001b[K\n",
            "remote: Compressing objects: 100% (506/506), done.\u001b[K\n",
            "remote: Total 833 (delta 326), reused 824 (delta 322), pack-reused 0 (from 0)\u001b[K\n",
            "Receiving objects: 100% (833/833), 6.31 MiB | 11.87 MiB/s, done.\n",
            "Resolving deltas: 100% (326/326), done.\n"
          ]
        }
      ],
      "source": [
        "!git clone https://github.com/HLR/Misinformation-Detection.git"
      ]
    },
    {
      "cell_type": "code",
      "execution_count": null,
      "metadata": {
        "id": "d_qKhrGBDbF1"
      },
      "outputs": [],
      "source": [
        "misinfo_xlsx = ['/content/Misinformation-Detection/data/all.xlsx','/content/Misinformation-Detection/data/all_article.xlsx',\n",
        "       '/content/Misinformation-Detection/data/test.xlsx','/content/Misinformation-Detection/data/test_article.xlsx',\n",
        "       '/content/Misinformation-Detection/data/train.xlsx','/content/Misinformation-Detection/data/train_article.xlsx']\n",
        "misinfo_csv = ['/content/Misinformation-Detection/data/test_article_data_high.csv','/content/Misinformation-Detection/data/test_article_data_low.csv',\n",
        "        '/content/Misinformation-Detection/data/test_article_data_none.csv','/content/Misinformation-Detection/data/train_article_data_high.csv',\n",
        "        '/content/Misinformation-Detection/data/train_article_data_low.csv','/content/Misinformation-Detection/data/train_article_data_none.csv']\n",
        "\n"
      ]
    },
    {
      "cell_type": "code",
      "execution_count": null,
      "metadata": {
        "id": "-O3vlfGwIzVs"
      },
      "outputs": [],
      "source": [
        "def csv(file):\n",
        "  d = pd.read_csv(file)\n",
        "  d = d[['claim', 'label']]\n",
        "  return d\n",
        "\n",
        "def xlsx(file):\n",
        "  d = pd.read_excel(file)\n",
        "  d = d[['claim', 'claim_label']]\n",
        "  d.columns = ['claim', 'label']\n",
        "  return d\n",
        "\n",
        "gg = []\n",
        "for i in misinfo_xlsx:\n",
        "  g = xlsx(i)\n",
        "  gg.append(g)\n",
        "\n",
        "for i in misinfo_csv:\n",
        "  g = csv(i)\n",
        "  gg.append(g)"
      ]
    },
    {
      "cell_type": "code",
      "execution_count": null,
      "metadata": {
        "colab": {
          "base_uri": "https://localhost:8080/",
          "height": 178
        },
        "id": "lUzMsQxzJo5S",
        "outputId": "cd51a930-1832-4796-ce18-4ca29d8376d9"
      },
      "outputs": [
        {
          "data": {
            "text/html": [
              "<div>\n",
              "<style scoped>\n",
              "    .dataframe tbody tr th:only-of-type {\n",
              "        vertical-align: middle;\n",
              "    }\n",
              "\n",
              "    .dataframe tbody tr th {\n",
              "        vertical-align: top;\n",
              "    }\n",
              "\n",
              "    .dataframe thead th {\n",
              "        text-align: right;\n",
              "    }\n",
              "</style>\n",
              "<table border=\"1\" class=\"dataframe\">\n",
              "  <thead>\n",
              "    <tr style=\"text-align: right;\">\n",
              "      <th></th>\n",
              "      <th>count</th>\n",
              "    </tr>\n",
              "    <tr>\n",
              "      <th>label</th>\n",
              "      <th></th>\n",
              "    </tr>\n",
              "  </thead>\n",
              "  <tbody>\n",
              "    <tr>\n",
              "      <th>false</th>\n",
              "      <td>223</td>\n",
              "    </tr>\n",
              "    <tr>\n",
              "      <th>true</th>\n",
              "      <td>87</td>\n",
              "    </tr>\n",
              "  </tbody>\n",
              "</table>\n",
              "</div><br><label><b>dtype:</b> int64</label>"
            ],
            "text/plain": [
              "label\n",
              "false    223\n",
              "true      87\n",
              "Name: count, dtype: int64"
            ]
          },
          "execution_count": 16,
          "metadata": {},
          "output_type": "execute_result"
        }
      ],
      "source": [
        "misinfo = pd.concat(gg, ignore_index=True)\n",
        "misinfo['label'] = ['false' if (str(i) == 'false' or str(i) == 'False')\n",
        "                    else 'true' if (str(i) == 'True' or str(i) == 'true')\n",
        "                    else str(i) for i in misinfo.label]\n",
        "misinfo.drop_duplicates(ignore_index=True, inplace=True)\n",
        "misinfo = misinfo[misinfo.label.isin(['false', 'true'])]\n",
        "misinfo.label.value_counts()"
      ]
    },
    {
      "cell_type": "markdown",
      "metadata": {
        "id": "KzSi_QoFBv-Y"
      },
      "source": [
        "## gpt4-turbu generated dataset"
      ]
    },
    {
      "cell_type": "code",
      "execution_count": null,
      "metadata": {
        "colab": {
          "base_uri": "https://localhost:8080/",
          "height": 423
        },
        "id": "WOTvbMmaB5sr",
        "outputId": "dac3070b-863e-46f7-8c35-87053fbabab4"
      },
      "outputs": [
        {
          "data": {
            "application/vnd.google.colaboratory.intrinsic+json": {
              "summary": "{\n  \"name\": \"synthetic\",\n  \"rows\": 2314,\n  \"fields\": [\n    {\n      \"column\": \"claim\",\n      \"properties\": {\n        \"dtype\": \"string\",\n        \"num_unique_values\": 2314,\n        \"samples\": [\n          \"Attention Parents! \\ud83d\\udeb8 Pediatricians warn that letting children use smartphones can permanently lower their IQ! Time to rethink screen time! \\ud83d\\udcf5 #SmartKidsNotSmartPhones\",\n          \"Scientists Confirm Eating Chocolate Daily Reduces Risk of Heart Disease by 70%! \\ud83c\\udf6b\\ud83d\\udc96 #HeartHealth #ChocolateLovers\",\n          \"Researchers have identified that drinking peppermint tea can reverse aging by regenerating skin cells. #FountainOfYouth\\\"\"\n        ],\n        \"semantic_type\": \"\",\n        \"description\": \"\"\n      }\n    },\n    {\n      \"column\": \"label\",\n      \"properties\": {\n        \"dtype\": \"category\",\n        \"num_unique_values\": 1,\n        \"samples\": [\n          \"false\"\n        ],\n        \"semantic_type\": \"\",\n        \"description\": \"\"\n      }\n    }\n  ]\n}",
              "type": "dataframe",
              "variable_name": "synthetic"
            },
            "text/html": [
              "\n",
              "  <div id=\"df-76f2c56a-aa0d-4b3f-b19e-48deed490acd\" class=\"colab-df-container\">\n",
              "    <div>\n",
              "<style scoped>\n",
              "    .dataframe tbody tr th:only-of-type {\n",
              "        vertical-align: middle;\n",
              "    }\n",
              "\n",
              "    .dataframe tbody tr th {\n",
              "        vertical-align: top;\n",
              "    }\n",
              "\n",
              "    .dataframe thead th {\n",
              "        text-align: right;\n",
              "    }\n",
              "</style>\n",
              "<table border=\"1\" class=\"dataframe\">\n",
              "  <thead>\n",
              "    <tr style=\"text-align: right;\">\n",
              "      <th></th>\n",
              "      <th>claim</th>\n",
              "      <th>label</th>\n",
              "    </tr>\n",
              "  </thead>\n",
              "  <tbody>\n",
              "    <tr>\n",
              "      <th>0</th>\n",
              "      <td>Top nutritionists reveal that skipping breakfa...</td>\n",
              "      <td>false</td>\n",
              "    </tr>\n",
              "    <tr>\n",
              "      <th>1</th>\n",
              "      <td>Scientists discovered that listening to classi...</td>\n",
              "      <td>false</td>\n",
              "    </tr>\n",
              "    <tr>\n",
              "      <th>2</th>\n",
              "      <td>Doctors are now prescribing listening to class...</td>\n",
              "      <td>false</td>\n",
              "    </tr>\n",
              "    <tr>\n",
              "      <th>3</th>\n",
              "      <td>New research claims that switching your phone ...</td>\n",
              "      <td>false</td>\n",
              "    </tr>\n",
              "    <tr>\n",
              "      <th>4</th>\n",
              "      <td>Studies show that drinking three cups of green...</td>\n",
              "      <td>false</td>\n",
              "    </tr>\n",
              "    <tr>\n",
              "      <th>...</th>\n",
              "      <td>...</td>\n",
              "      <td>...</td>\n",
              "    </tr>\n",
              "    <tr>\n",
              "      <th>2309</th>\n",
              "      <td>A naturopathic doctor reveals on her blog that...</td>\n",
              "      <td>false</td>\n",
              "    </tr>\n",
              "    <tr>\n",
              "      <th>2310</th>\n",
              "      <td>A recent study found that drinking two glasses...</td>\n",
              "      <td>false</td>\n",
              "    </tr>\n",
              "    <tr>\n",
              "      <th>2311</th>\n",
              "      <td>Experts now confirm that switching to a raw di...</td>\n",
              "      <td>false</td>\n",
              "    </tr>\n",
              "    <tr>\n",
              "      <th>2312</th>\n",
              "      <td>Breaking news! Researchers in California have ...</td>\n",
              "      <td>false</td>\n",
              "    </tr>\n",
              "    <tr>\n",
              "      <th>2313</th>\n",
              "      <td>Major discovery! Sleeping with your phone unde...</td>\n",
              "      <td>false</td>\n",
              "    </tr>\n",
              "  </tbody>\n",
              "</table>\n",
              "<p>2314 rows × 2 columns</p>\n",
              "</div>\n",
              "    <div class=\"colab-df-buttons\">\n",
              "\n",
              "  <div class=\"colab-df-container\">\n",
              "    <button class=\"colab-df-convert\" onclick=\"convertToInteractive('df-76f2c56a-aa0d-4b3f-b19e-48deed490acd')\"\n",
              "            title=\"Convert this dataframe to an interactive table.\"\n",
              "            style=\"display:none;\">\n",
              "\n",
              "  <svg xmlns=\"http://www.w3.org/2000/svg\" height=\"24px\" viewBox=\"0 -960 960 960\">\n",
              "    <path d=\"M120-120v-720h720v720H120Zm60-500h600v-160H180v160Zm220 220h160v-160H400v160Zm0 220h160v-160H400v160ZM180-400h160v-160H180v160Zm440 0h160v-160H620v160ZM180-180h160v-160H180v160Zm440 0h160v-160H620v160Z\"/>\n",
              "  </svg>\n",
              "    </button>\n",
              "\n",
              "  <style>\n",
              "    .colab-df-container {\n",
              "      display:flex;\n",
              "      gap: 12px;\n",
              "    }\n",
              "\n",
              "    .colab-df-convert {\n",
              "      background-color: #E8F0FE;\n",
              "      border: none;\n",
              "      border-radius: 50%;\n",
              "      cursor: pointer;\n",
              "      display: none;\n",
              "      fill: #1967D2;\n",
              "      height: 32px;\n",
              "      padding: 0 0 0 0;\n",
              "      width: 32px;\n",
              "    }\n",
              "\n",
              "    .colab-df-convert:hover {\n",
              "      background-color: #E2EBFA;\n",
              "      box-shadow: 0px 1px 2px rgba(60, 64, 67, 0.3), 0px 1px 3px 1px rgba(60, 64, 67, 0.15);\n",
              "      fill: #174EA6;\n",
              "    }\n",
              "\n",
              "    .colab-df-buttons div {\n",
              "      margin-bottom: 4px;\n",
              "    }\n",
              "\n",
              "    [theme=dark] .colab-df-convert {\n",
              "      background-color: #3B4455;\n",
              "      fill: #D2E3FC;\n",
              "    }\n",
              "\n",
              "    [theme=dark] .colab-df-convert:hover {\n",
              "      background-color: #434B5C;\n",
              "      box-shadow: 0px 1px 3px 1px rgba(0, 0, 0, 0.15);\n",
              "      filter: drop-shadow(0px 1px 2px rgba(0, 0, 0, 0.3));\n",
              "      fill: #FFFFFF;\n",
              "    }\n",
              "  </style>\n",
              "\n",
              "    <script>\n",
              "      const buttonEl =\n",
              "        document.querySelector('#df-76f2c56a-aa0d-4b3f-b19e-48deed490acd button.colab-df-convert');\n",
              "      buttonEl.style.display =\n",
              "        google.colab.kernel.accessAllowed ? 'block' : 'none';\n",
              "\n",
              "      async function convertToInteractive(key) {\n",
              "        const element = document.querySelector('#df-76f2c56a-aa0d-4b3f-b19e-48deed490acd');\n",
              "        const dataTable =\n",
              "          await google.colab.kernel.invokeFunction('convertToInteractive',\n",
              "                                                    [key], {});\n",
              "        if (!dataTable) return;\n",
              "\n",
              "        const docLinkHtml = 'Like what you see? Visit the ' +\n",
              "          '<a target=\"_blank\" href=https://colab.research.google.com/notebooks/data_table.ipynb>data table notebook</a>'\n",
              "          + ' to learn more about interactive tables.';\n",
              "        element.innerHTML = '';\n",
              "        dataTable['output_type'] = 'display_data';\n",
              "        await google.colab.output.renderOutput(dataTable, element);\n",
              "        const docLink = document.createElement('div');\n",
              "        docLink.innerHTML = docLinkHtml;\n",
              "        element.appendChild(docLink);\n",
              "      }\n",
              "    </script>\n",
              "  </div>\n",
              "\n",
              "\n",
              "    <div id=\"df-f8454375-9d13-41a2-bc29-0dd8688df020\">\n",
              "      <button class=\"colab-df-quickchart\" onclick=\"quickchart('df-f8454375-9d13-41a2-bc29-0dd8688df020')\"\n",
              "                title=\"Suggest charts\"\n",
              "                style=\"display:none;\">\n",
              "\n",
              "<svg xmlns=\"http://www.w3.org/2000/svg\" height=\"24px\"viewBox=\"0 0 24 24\"\n",
              "     width=\"24px\">\n",
              "    <g>\n",
              "        <path d=\"M19 3H5c-1.1 0-2 .9-2 2v14c0 1.1.9 2 2 2h14c1.1 0 2-.9 2-2V5c0-1.1-.9-2-2-2zM9 17H7v-7h2v7zm4 0h-2V7h2v10zm4 0h-2v-4h2v4z\"/>\n",
              "    </g>\n",
              "</svg>\n",
              "      </button>\n",
              "\n",
              "<style>\n",
              "  .colab-df-quickchart {\n",
              "      --bg-color: #E8F0FE;\n",
              "      --fill-color: #1967D2;\n",
              "      --hover-bg-color: #E2EBFA;\n",
              "      --hover-fill-color: #174EA6;\n",
              "      --disabled-fill-color: #AAA;\n",
              "      --disabled-bg-color: #DDD;\n",
              "  }\n",
              "\n",
              "  [theme=dark] .colab-df-quickchart {\n",
              "      --bg-color: #3B4455;\n",
              "      --fill-color: #D2E3FC;\n",
              "      --hover-bg-color: #434B5C;\n",
              "      --hover-fill-color: #FFFFFF;\n",
              "      --disabled-bg-color: #3B4455;\n",
              "      --disabled-fill-color: #666;\n",
              "  }\n",
              "\n",
              "  .colab-df-quickchart {\n",
              "    background-color: var(--bg-color);\n",
              "    border: none;\n",
              "    border-radius: 50%;\n",
              "    cursor: pointer;\n",
              "    display: none;\n",
              "    fill: var(--fill-color);\n",
              "    height: 32px;\n",
              "    padding: 0;\n",
              "    width: 32px;\n",
              "  }\n",
              "\n",
              "  .colab-df-quickchart:hover {\n",
              "    background-color: var(--hover-bg-color);\n",
              "    box-shadow: 0 1px 2px rgba(60, 64, 67, 0.3), 0 1px 3px 1px rgba(60, 64, 67, 0.15);\n",
              "    fill: var(--button-hover-fill-color);\n",
              "  }\n",
              "\n",
              "  .colab-df-quickchart-complete:disabled,\n",
              "  .colab-df-quickchart-complete:disabled:hover {\n",
              "    background-color: var(--disabled-bg-color);\n",
              "    fill: var(--disabled-fill-color);\n",
              "    box-shadow: none;\n",
              "  }\n",
              "\n",
              "  .colab-df-spinner {\n",
              "    border: 2px solid var(--fill-color);\n",
              "    border-color: transparent;\n",
              "    border-bottom-color: var(--fill-color);\n",
              "    animation:\n",
              "      spin 1s steps(1) infinite;\n",
              "  }\n",
              "\n",
              "  @keyframes spin {\n",
              "    0% {\n",
              "      border-color: transparent;\n",
              "      border-bottom-color: var(--fill-color);\n",
              "      border-left-color: var(--fill-color);\n",
              "    }\n",
              "    20% {\n",
              "      border-color: transparent;\n",
              "      border-left-color: var(--fill-color);\n",
              "      border-top-color: var(--fill-color);\n",
              "    }\n",
              "    30% {\n",
              "      border-color: transparent;\n",
              "      border-left-color: var(--fill-color);\n",
              "      border-top-color: var(--fill-color);\n",
              "      border-right-color: var(--fill-color);\n",
              "    }\n",
              "    40% {\n",
              "      border-color: transparent;\n",
              "      border-right-color: var(--fill-color);\n",
              "      border-top-color: var(--fill-color);\n",
              "    }\n",
              "    60% {\n",
              "      border-color: transparent;\n",
              "      border-right-color: var(--fill-color);\n",
              "    }\n",
              "    80% {\n",
              "      border-color: transparent;\n",
              "      border-right-color: var(--fill-color);\n",
              "      border-bottom-color: var(--fill-color);\n",
              "    }\n",
              "    90% {\n",
              "      border-color: transparent;\n",
              "      border-bottom-color: var(--fill-color);\n",
              "    }\n",
              "  }\n",
              "</style>\n",
              "\n",
              "      <script>\n",
              "        async function quickchart(key) {\n",
              "          const quickchartButtonEl =\n",
              "            document.querySelector('#' + key + ' button');\n",
              "          quickchartButtonEl.disabled = true;  // To prevent multiple clicks.\n",
              "          quickchartButtonEl.classList.add('colab-df-spinner');\n",
              "          try {\n",
              "            const charts = await google.colab.kernel.invokeFunction(\n",
              "                'suggestCharts', [key], {});\n",
              "          } catch (error) {\n",
              "            console.error('Error during call to suggestCharts:', error);\n",
              "          }\n",
              "          quickchartButtonEl.classList.remove('colab-df-spinner');\n",
              "          quickchartButtonEl.classList.add('colab-df-quickchart-complete');\n",
              "        }\n",
              "        (() => {\n",
              "          let quickchartButtonEl =\n",
              "            document.querySelector('#df-f8454375-9d13-41a2-bc29-0dd8688df020 button');\n",
              "          quickchartButtonEl.style.display =\n",
              "            google.colab.kernel.accessAllowed ? 'block' : 'none';\n",
              "        })();\n",
              "      </script>\n",
              "    </div>\n",
              "\n",
              "  <div id=\"id_ad27b99a-857e-42ef-bc97-befa573c8f60\">\n",
              "    <style>\n",
              "      .colab-df-generate {\n",
              "        background-color: #E8F0FE;\n",
              "        border: none;\n",
              "        border-radius: 50%;\n",
              "        cursor: pointer;\n",
              "        display: none;\n",
              "        fill: #1967D2;\n",
              "        height: 32px;\n",
              "        padding: 0 0 0 0;\n",
              "        width: 32px;\n",
              "      }\n",
              "\n",
              "      .colab-df-generate:hover {\n",
              "        background-color: #E2EBFA;\n",
              "        box-shadow: 0px 1px 2px rgba(60, 64, 67, 0.3), 0px 1px 3px 1px rgba(60, 64, 67, 0.15);\n",
              "        fill: #174EA6;\n",
              "      }\n",
              "\n",
              "      [theme=dark] .colab-df-generate {\n",
              "        background-color: #3B4455;\n",
              "        fill: #D2E3FC;\n",
              "      }\n",
              "\n",
              "      [theme=dark] .colab-df-generate:hover {\n",
              "        background-color: #434B5C;\n",
              "        box-shadow: 0px 1px 3px 1px rgba(0, 0, 0, 0.15);\n",
              "        filter: drop-shadow(0px 1px 2px rgba(0, 0, 0, 0.3));\n",
              "        fill: #FFFFFF;\n",
              "      }\n",
              "    </style>\n",
              "    <button class=\"colab-df-generate\" onclick=\"generateWithVariable('synthetic')\"\n",
              "            title=\"Generate code using this dataframe.\"\n",
              "            style=\"display:none;\">\n",
              "\n",
              "  <svg xmlns=\"http://www.w3.org/2000/svg\" height=\"24px\"viewBox=\"0 0 24 24\"\n",
              "       width=\"24px\">\n",
              "    <path d=\"M7,19H8.4L18.45,9,17,7.55,7,17.6ZM5,21V16.75L18.45,3.32a2,2,0,0,1,2.83,0l1.4,1.43a1.91,1.91,0,0,1,.58,1.4,1.91,1.91,0,0,1-.58,1.4L9.25,21ZM18.45,9,17,7.55Zm-12,3A5.31,5.31,0,0,0,4.9,8.1,5.31,5.31,0,0,0,1,6.5,5.31,5.31,0,0,0,4.9,4.9,5.31,5.31,0,0,0,6.5,1,5.31,5.31,0,0,0,8.1,4.9,5.31,5.31,0,0,0,12,6.5,5.46,5.46,0,0,0,6.5,12Z\"/>\n",
              "  </svg>\n",
              "    </button>\n",
              "    <script>\n",
              "      (() => {\n",
              "      const buttonEl =\n",
              "        document.querySelector('#id_ad27b99a-857e-42ef-bc97-befa573c8f60 button.colab-df-generate');\n",
              "      buttonEl.style.display =\n",
              "        google.colab.kernel.accessAllowed ? 'block' : 'none';\n",
              "\n",
              "      buttonEl.onclick = () => {\n",
              "        google.colab.notebook.generateWithVariable('synthetic');\n",
              "      }\n",
              "      })();\n",
              "    </script>\n",
              "  </div>\n",
              "\n",
              "    </div>\n",
              "  </div>\n"
            ],
            "text/plain": [
              "                                                  claim  label\n",
              "0     Top nutritionists reveal that skipping breakfa...  false\n",
              "1     Scientists discovered that listening to classi...  false\n",
              "2     Doctors are now prescribing listening to class...  false\n",
              "3     New research claims that switching your phone ...  false\n",
              "4     Studies show that drinking three cups of green...  false\n",
              "...                                                 ...    ...\n",
              "2309  A naturopathic doctor reveals on her blog that...  false\n",
              "2310  A recent study found that drinking two glasses...  false\n",
              "2311  Experts now confirm that switching to a raw di...  false\n",
              "2312  Breaking news! Researchers in California have ...  false\n",
              "2313  Major discovery! Sleeping with your phone unde...  false\n",
              "\n",
              "[2314 rows x 2 columns]"
            ]
          },
          "execution_count": 18,
          "metadata": {},
          "output_type": "execute_result"
        }
      ],
      "source": [
        "# final gpt genereted dataset\n",
        "synthetic = pd.read_csv(\"/content/drive/MyDrive/final_GPTclaims.csv\")\n",
        "synthetic['label'] = 'false'\n",
        "synthetic"
      ]
    },
    {
      "cell_type": "markdown",
      "metadata": {
        "id": "UzT091wcB8Kn"
      },
      "source": [
        "## complete final datadet"
      ]
    },
    {
      "cell_type": "code",
      "execution_count": null,
      "metadata": {
        "colab": {
          "base_uri": "https://localhost:8080/",
          "height": 423
        },
        "id": "Ik5xiWKSLPQn",
        "outputId": "2df10518-bd09-4501-c0b5-6766b49c4462"
      },
      "outputs": [
        {
          "data": {
            "application/vnd.google.colaboratory.intrinsic+json": {
              "summary": "{\n  \"name\": \"all_data\",\n  \"rows\": 15877,\n  \"fields\": [\n    {\n      \"column\": \"claim\",\n      \"properties\": {\n        \"dtype\": \"string\",\n        \"num_unique_values\": 15877,\n        \"samples\": [\n          \"Dialysis more often doesn\\u2019t help patients\",\n          \"Carrying a blue crystal in your pocket reduces anxiety by 80%! Find your peace! \\ud83d\\udd35\\u2728 #crystalhealing #anxietyrelief\",\n          \"New study suggests that listening to classical music once a day can strengthen your immune system! Time to turn up Mozart & Beethoven! \\ud83c\\udfb6\\ud83d\\ude0a #MusicTherapy #StayHealthy\"\n        ],\n        \"semantic_type\": \"\",\n        \"description\": \"\"\n      }\n    },\n    {\n      \"column\": \"label\",\n      \"properties\": {\n        \"dtype\": \"category\",\n        \"num_unique_values\": 2,\n        \"samples\": [\n          \"true\",\n          \"false\"\n        ],\n        \"semantic_type\": \"\",\n        \"description\": \"\"\n      }\n    }\n  ]\n}",
              "type": "dataframe",
              "variable_name": "all_data"
            },
            "text/html": [
              "\n",
              "  <div id=\"df-490b66e6-c0bc-48ea-a820-eed520c3375f\" class=\"colab-df-container\">\n",
              "    <div>\n",
              "<style scoped>\n",
              "    .dataframe tbody tr th:only-of-type {\n",
              "        vertical-align: middle;\n",
              "    }\n",
              "\n",
              "    .dataframe tbody tr th {\n",
              "        vertical-align: top;\n",
              "    }\n",
              "\n",
              "    .dataframe thead th {\n",
              "        text-align: right;\n",
              "    }\n",
              "</style>\n",
              "<table border=\"1\" class=\"dataframe\">\n",
              "  <thead>\n",
              "    <tr style=\"text-align: right;\">\n",
              "      <th></th>\n",
              "      <th>claim</th>\n",
              "      <th>label</th>\n",
              "    </tr>\n",
              "  </thead>\n",
              "  <tbody>\n",
              "    <tr>\n",
              "      <th>0</th>\n",
              "      <td>Top nutritionists reveal that skipping breakfa...</td>\n",
              "      <td>false</td>\n",
              "    </tr>\n",
              "    <tr>\n",
              "      <th>1</th>\n",
              "      <td>Scientists discovered that listening to classi...</td>\n",
              "      <td>false</td>\n",
              "    </tr>\n",
              "    <tr>\n",
              "      <th>2</th>\n",
              "      <td>Doctors are now prescribing listening to class...</td>\n",
              "      <td>false</td>\n",
              "    </tr>\n",
              "    <tr>\n",
              "      <th>3</th>\n",
              "      <td>New research claims that switching your phone ...</td>\n",
              "      <td>false</td>\n",
              "    </tr>\n",
              "    <tr>\n",
              "      <th>4</th>\n",
              "      <td>Studies show that drinking three cups of green...</td>\n",
              "      <td>false</td>\n",
              "    </tr>\n",
              "    <tr>\n",
              "      <th>...</th>\n",
              "      <td>...</td>\n",
              "      <td>...</td>\n",
              "    </tr>\n",
              "    <tr>\n",
              "      <th>15872</th>\n",
              "      <td>HIV infected needle at McDonald's in the ball pit</td>\n",
              "      <td>false</td>\n",
              "    </tr>\n",
              "    <tr>\n",
              "      <th>15873</th>\n",
              "      <td>Authorities in Kenya warned of a new outbreak ...</td>\n",
              "      <td>false</td>\n",
              "    </tr>\n",
              "    <tr>\n",
              "      <th>15874</th>\n",
              "      <td>\"Automobile components emit dangerous levels o...</td>\n",
              "      <td>false</td>\n",
              "    </tr>\n",
              "    <tr>\n",
              "      <th>15875</th>\n",
              "      <td>Suave brand shampoos and conditioners contains...</td>\n",
              "      <td>false</td>\n",
              "    </tr>\n",
              "    <tr>\n",
              "      <th>15876</th>\n",
              "      <td>A 12-year-old Wisconsin girl in died as a resu...</td>\n",
              "      <td>false</td>\n",
              "    </tr>\n",
              "  </tbody>\n",
              "</table>\n",
              "<p>15877 rows × 2 columns</p>\n",
              "</div>\n",
              "    <div class=\"colab-df-buttons\">\n",
              "\n",
              "  <div class=\"colab-df-container\">\n",
              "    <button class=\"colab-df-convert\" onclick=\"convertToInteractive('df-490b66e6-c0bc-48ea-a820-eed520c3375f')\"\n",
              "            title=\"Convert this dataframe to an interactive table.\"\n",
              "            style=\"display:none;\">\n",
              "\n",
              "  <svg xmlns=\"http://www.w3.org/2000/svg\" height=\"24px\" viewBox=\"0 -960 960 960\">\n",
              "    <path d=\"M120-120v-720h720v720H120Zm60-500h600v-160H180v160Zm220 220h160v-160H400v160Zm0 220h160v-160H400v160ZM180-400h160v-160H180v160Zm440 0h160v-160H620v160ZM180-180h160v-160H180v160Zm440 0h160v-160H620v160Z\"/>\n",
              "  </svg>\n",
              "    </button>\n",
              "\n",
              "  <style>\n",
              "    .colab-df-container {\n",
              "      display:flex;\n",
              "      gap: 12px;\n",
              "    }\n",
              "\n",
              "    .colab-df-convert {\n",
              "      background-color: #E8F0FE;\n",
              "      border: none;\n",
              "      border-radius: 50%;\n",
              "      cursor: pointer;\n",
              "      display: none;\n",
              "      fill: #1967D2;\n",
              "      height: 32px;\n",
              "      padding: 0 0 0 0;\n",
              "      width: 32px;\n",
              "    }\n",
              "\n",
              "    .colab-df-convert:hover {\n",
              "      background-color: #E2EBFA;\n",
              "      box-shadow: 0px 1px 2px rgba(60, 64, 67, 0.3), 0px 1px 3px 1px rgba(60, 64, 67, 0.15);\n",
              "      fill: #174EA6;\n",
              "    }\n",
              "\n",
              "    .colab-df-buttons div {\n",
              "      margin-bottom: 4px;\n",
              "    }\n",
              "\n",
              "    [theme=dark] .colab-df-convert {\n",
              "      background-color: #3B4455;\n",
              "      fill: #D2E3FC;\n",
              "    }\n",
              "\n",
              "    [theme=dark] .colab-df-convert:hover {\n",
              "      background-color: #434B5C;\n",
              "      box-shadow: 0px 1px 3px 1px rgba(0, 0, 0, 0.15);\n",
              "      filter: drop-shadow(0px 1px 2px rgba(0, 0, 0, 0.3));\n",
              "      fill: #FFFFFF;\n",
              "    }\n",
              "  </style>\n",
              "\n",
              "    <script>\n",
              "      const buttonEl =\n",
              "        document.querySelector('#df-490b66e6-c0bc-48ea-a820-eed520c3375f button.colab-df-convert');\n",
              "      buttonEl.style.display =\n",
              "        google.colab.kernel.accessAllowed ? 'block' : 'none';\n",
              "\n",
              "      async function convertToInteractive(key) {\n",
              "        const element = document.querySelector('#df-490b66e6-c0bc-48ea-a820-eed520c3375f');\n",
              "        const dataTable =\n",
              "          await google.colab.kernel.invokeFunction('convertToInteractive',\n",
              "                                                    [key], {});\n",
              "        if (!dataTable) return;\n",
              "\n",
              "        const docLinkHtml = 'Like what you see? Visit the ' +\n",
              "          '<a target=\"_blank\" href=https://colab.research.google.com/notebooks/data_table.ipynb>data table notebook</a>'\n",
              "          + ' to learn more about interactive tables.';\n",
              "        element.innerHTML = '';\n",
              "        dataTable['output_type'] = 'display_data';\n",
              "        await google.colab.output.renderOutput(dataTable, element);\n",
              "        const docLink = document.createElement('div');\n",
              "        docLink.innerHTML = docLinkHtml;\n",
              "        element.appendChild(docLink);\n",
              "      }\n",
              "    </script>\n",
              "  </div>\n",
              "\n",
              "\n",
              "    <div id=\"df-9bc4887e-05fd-44e6-8096-50b345eff6d8\">\n",
              "      <button class=\"colab-df-quickchart\" onclick=\"quickchart('df-9bc4887e-05fd-44e6-8096-50b345eff6d8')\"\n",
              "                title=\"Suggest charts\"\n",
              "                style=\"display:none;\">\n",
              "\n",
              "<svg xmlns=\"http://www.w3.org/2000/svg\" height=\"24px\"viewBox=\"0 0 24 24\"\n",
              "     width=\"24px\">\n",
              "    <g>\n",
              "        <path d=\"M19 3H5c-1.1 0-2 .9-2 2v14c0 1.1.9 2 2 2h14c1.1 0 2-.9 2-2V5c0-1.1-.9-2-2-2zM9 17H7v-7h2v7zm4 0h-2V7h2v10zm4 0h-2v-4h2v4z\"/>\n",
              "    </g>\n",
              "</svg>\n",
              "      </button>\n",
              "\n",
              "<style>\n",
              "  .colab-df-quickchart {\n",
              "      --bg-color: #E8F0FE;\n",
              "      --fill-color: #1967D2;\n",
              "      --hover-bg-color: #E2EBFA;\n",
              "      --hover-fill-color: #174EA6;\n",
              "      --disabled-fill-color: #AAA;\n",
              "      --disabled-bg-color: #DDD;\n",
              "  }\n",
              "\n",
              "  [theme=dark] .colab-df-quickchart {\n",
              "      --bg-color: #3B4455;\n",
              "      --fill-color: #D2E3FC;\n",
              "      --hover-bg-color: #434B5C;\n",
              "      --hover-fill-color: #FFFFFF;\n",
              "      --disabled-bg-color: #3B4455;\n",
              "      --disabled-fill-color: #666;\n",
              "  }\n",
              "\n",
              "  .colab-df-quickchart {\n",
              "    background-color: var(--bg-color);\n",
              "    border: none;\n",
              "    border-radius: 50%;\n",
              "    cursor: pointer;\n",
              "    display: none;\n",
              "    fill: var(--fill-color);\n",
              "    height: 32px;\n",
              "    padding: 0;\n",
              "    width: 32px;\n",
              "  }\n",
              "\n",
              "  .colab-df-quickchart:hover {\n",
              "    background-color: var(--hover-bg-color);\n",
              "    box-shadow: 0 1px 2px rgba(60, 64, 67, 0.3), 0 1px 3px 1px rgba(60, 64, 67, 0.15);\n",
              "    fill: var(--button-hover-fill-color);\n",
              "  }\n",
              "\n",
              "  .colab-df-quickchart-complete:disabled,\n",
              "  .colab-df-quickchart-complete:disabled:hover {\n",
              "    background-color: var(--disabled-bg-color);\n",
              "    fill: var(--disabled-fill-color);\n",
              "    box-shadow: none;\n",
              "  }\n",
              "\n",
              "  .colab-df-spinner {\n",
              "    border: 2px solid var(--fill-color);\n",
              "    border-color: transparent;\n",
              "    border-bottom-color: var(--fill-color);\n",
              "    animation:\n",
              "      spin 1s steps(1) infinite;\n",
              "  }\n",
              "\n",
              "  @keyframes spin {\n",
              "    0% {\n",
              "      border-color: transparent;\n",
              "      border-bottom-color: var(--fill-color);\n",
              "      border-left-color: var(--fill-color);\n",
              "    }\n",
              "    20% {\n",
              "      border-color: transparent;\n",
              "      border-left-color: var(--fill-color);\n",
              "      border-top-color: var(--fill-color);\n",
              "    }\n",
              "    30% {\n",
              "      border-color: transparent;\n",
              "      border-left-color: var(--fill-color);\n",
              "      border-top-color: var(--fill-color);\n",
              "      border-right-color: var(--fill-color);\n",
              "    }\n",
              "    40% {\n",
              "      border-color: transparent;\n",
              "      border-right-color: var(--fill-color);\n",
              "      border-top-color: var(--fill-color);\n",
              "    }\n",
              "    60% {\n",
              "      border-color: transparent;\n",
              "      border-right-color: var(--fill-color);\n",
              "    }\n",
              "    80% {\n",
              "      border-color: transparent;\n",
              "      border-right-color: var(--fill-color);\n",
              "      border-bottom-color: var(--fill-color);\n",
              "    }\n",
              "    90% {\n",
              "      border-color: transparent;\n",
              "      border-bottom-color: var(--fill-color);\n",
              "    }\n",
              "  }\n",
              "</style>\n",
              "\n",
              "      <script>\n",
              "        async function quickchart(key) {\n",
              "          const quickchartButtonEl =\n",
              "            document.querySelector('#' + key + ' button');\n",
              "          quickchartButtonEl.disabled = true;  // To prevent multiple clicks.\n",
              "          quickchartButtonEl.classList.add('colab-df-spinner');\n",
              "          try {\n",
              "            const charts = await google.colab.kernel.invokeFunction(\n",
              "                'suggestCharts', [key], {});\n",
              "          } catch (error) {\n",
              "            console.error('Error during call to suggestCharts:', error);\n",
              "          }\n",
              "          quickchartButtonEl.classList.remove('colab-df-spinner');\n",
              "          quickchartButtonEl.classList.add('colab-df-quickchart-complete');\n",
              "        }\n",
              "        (() => {\n",
              "          let quickchartButtonEl =\n",
              "            document.querySelector('#df-9bc4887e-05fd-44e6-8096-50b345eff6d8 button');\n",
              "          quickchartButtonEl.style.display =\n",
              "            google.colab.kernel.accessAllowed ? 'block' : 'none';\n",
              "        })();\n",
              "      </script>\n",
              "    </div>\n",
              "\n",
              "  <div id=\"id_882de8fd-0049-4738-be71-eed5d555c01e\">\n",
              "    <style>\n",
              "      .colab-df-generate {\n",
              "        background-color: #E8F0FE;\n",
              "        border: none;\n",
              "        border-radius: 50%;\n",
              "        cursor: pointer;\n",
              "        display: none;\n",
              "        fill: #1967D2;\n",
              "        height: 32px;\n",
              "        padding: 0 0 0 0;\n",
              "        width: 32px;\n",
              "      }\n",
              "\n",
              "      .colab-df-generate:hover {\n",
              "        background-color: #E2EBFA;\n",
              "        box-shadow: 0px 1px 2px rgba(60, 64, 67, 0.3), 0px 1px 3px 1px rgba(60, 64, 67, 0.15);\n",
              "        fill: #174EA6;\n",
              "      }\n",
              "\n",
              "      [theme=dark] .colab-df-generate {\n",
              "        background-color: #3B4455;\n",
              "        fill: #D2E3FC;\n",
              "      }\n",
              "\n",
              "      [theme=dark] .colab-df-generate:hover {\n",
              "        background-color: #434B5C;\n",
              "        box-shadow: 0px 1px 3px 1px rgba(0, 0, 0, 0.15);\n",
              "        filter: drop-shadow(0px 1px 2px rgba(0, 0, 0, 0.3));\n",
              "        fill: #FFFFFF;\n",
              "      }\n",
              "    </style>\n",
              "    <button class=\"colab-df-generate\" onclick=\"generateWithVariable('all_data')\"\n",
              "            title=\"Generate code using this dataframe.\"\n",
              "            style=\"display:none;\">\n",
              "\n",
              "  <svg xmlns=\"http://www.w3.org/2000/svg\" height=\"24px\"viewBox=\"0 0 24 24\"\n",
              "       width=\"24px\">\n",
              "    <path d=\"M7,19H8.4L18.45,9,17,7.55,7,17.6ZM5,21V16.75L18.45,3.32a2,2,0,0,1,2.83,0l1.4,1.43a1.91,1.91,0,0,1,.58,1.4,1.91,1.91,0,0,1-.58,1.4L9.25,21ZM18.45,9,17,7.55Zm-12,3A5.31,5.31,0,0,0,4.9,8.1,5.31,5.31,0,0,0,1,6.5,5.31,5.31,0,0,0,4.9,4.9,5.31,5.31,0,0,0,6.5,1,5.31,5.31,0,0,0,8.1,4.9,5.31,5.31,0,0,0,12,6.5,5.46,5.46,0,0,0,6.5,12Z\"/>\n",
              "  </svg>\n",
              "    </button>\n",
              "    <script>\n",
              "      (() => {\n",
              "      const buttonEl =\n",
              "        document.querySelector('#id_882de8fd-0049-4738-be71-eed5d555c01e button.colab-df-generate');\n",
              "      buttonEl.style.display =\n",
              "        google.colab.kernel.accessAllowed ? 'block' : 'none';\n",
              "\n",
              "      buttonEl.onclick = () => {\n",
              "        google.colab.notebook.generateWithVariable('all_data');\n",
              "      }\n",
              "      })();\n",
              "    </script>\n",
              "  </div>\n",
              "\n",
              "    </div>\n",
              "  </div>\n"
            ],
            "text/plain": [
              "                                                   claim  label\n",
              "0      Top nutritionists reveal that skipping breakfa...  false\n",
              "1      Scientists discovered that listening to classi...  false\n",
              "2      Doctors are now prescribing listening to class...  false\n",
              "3      New research claims that switching your phone ...  false\n",
              "4      Studies show that drinking three cups of green...  false\n",
              "...                                                  ...    ...\n",
              "15872  HIV infected needle at McDonald's in the ball pit  false\n",
              "15873  Authorities in Kenya warned of a new outbreak ...  false\n",
              "15874  \"Automobile components emit dangerous levels o...  false\n",
              "15875  Suave brand shampoos and conditioners contains...  false\n",
              "15876  A 12-year-old Wisconsin girl in died as a resu...  false\n",
              "\n",
              "[15877 rows x 2 columns]"
            ]
          },
          "execution_count": 19,
          "metadata": {},
          "output_type": "execute_result"
        }
      ],
      "source": [
        "# ccombined datasets\n",
        "all_data = pd.concat([synthetic,covid_all,pubhealth_all,misinfo], ignore_index=True)\n",
        "all_data.drop_duplicates(ignore_index=True, inplace=True)\n",
        "all_data"
      ]
    },
    {
      "cell_type": "code",
      "execution_count": null,
      "metadata": {
        "colab": {
          "base_uri": "https://localhost:8080/",
          "height": 178
        },
        "id": "A6y61sK8PSlj",
        "outputId": "5dab8142-1a4e-4c78-b350-261044e6ac3d"
      },
      "outputs": [
        {
          "data": {
            "text/html": [
              "<div>\n",
              "<style scoped>\n",
              "    .dataframe tbody tr th:only-of-type {\n",
              "        vertical-align: middle;\n",
              "    }\n",
              "\n",
              "    .dataframe tbody tr th {\n",
              "        vertical-align: top;\n",
              "    }\n",
              "\n",
              "    .dataframe thead th {\n",
              "        text-align: right;\n",
              "    }\n",
              "</style>\n",
              "<table border=\"1\" class=\"dataframe\">\n",
              "  <thead>\n",
              "    <tr style=\"text-align: right;\">\n",
              "      <th></th>\n",
              "      <th>proportion</th>\n",
              "    </tr>\n",
              "    <tr>\n",
              "      <th>label</th>\n",
              "      <th></th>\n",
              "    </tr>\n",
              "  </thead>\n",
              "  <tbody>\n",
              "    <tr>\n",
              "      <th>true</th>\n",
              "      <td>0.502866</td>\n",
              "    </tr>\n",
              "    <tr>\n",
              "      <th>false</th>\n",
              "      <td>0.497134</td>\n",
              "    </tr>\n",
              "  </tbody>\n",
              "</table>\n",
              "</div><br><label><b>dtype:</b> float64</label>"
            ],
            "text/plain": [
              "label\n",
              "true     0.502866\n",
              "false    0.497134\n",
              "Name: proportion, dtype: float64"
            ]
          },
          "execution_count": 20,
          "metadata": {},
          "output_type": "execute_result"
        }
      ],
      "source": [
        "# complete final dataset (shuffeled)\n",
        "final_data = all_data.sample(frac=1, random_state=42).reset_index(drop=True)\n",
        "final_data.label.value_counts(normalize=True)"
      ]
    },
    {
      "cell_type": "code",
      "execution_count": null,
      "metadata": {
        "id": "Z7cgleVd0qTf"
      },
      "outputs": [],
      "source": [
        "# CSV saving\n",
        "final_data.to_csv('/content/drive/MyDrive/final_advanced_data.csv', index=False)"
      ]
    },
    {
      "cell_type": "markdown",
      "metadata": {
        "id": "avvfJ8khGQM7"
      },
      "source": [
        "# EDA"
      ]
    },
    {
      "cell_type": "markdown",
      "metadata": {
        "id": "J53yIgc3xOrx"
      },
      "source": [
        "## Label distribution plot"
      ]
    },
    {
      "cell_type": "code",
      "execution_count": null,
      "metadata": {
        "colab": {
          "base_uri": "https://localhost:8080/",
          "height": 472
        },
        "id": "U8-wAVd2_B0O",
        "outputId": "d109007f-b17b-4b8e-f382-a6697aae5783"
      },
      "outputs": [
        {
          "data": {
            "image/png": "[encoded data removed]",
            "text/plain": [
              "<Figure size 640x480 with 1 Axes>"
            ]
          },
          "metadata": {},
          "output_type": "display_data"
        }
      ],
      "source": [
        "import matplotlib.pyplot as plt\n",
        "import seaborn as sns\n",
        "\n",
        "plt.bar(final_data['label'].value_counts().index, final_data['label'].value_counts(normalize=True).values)\n",
        "plt.title('Label Distribution')\n",
        "plt.xlabel('Label')\n",
        "plt.ylabel('Count')\n",
        "plt.savefig('label_distribution.png')\n",
        "plt.show()"
      ]
    },
    {
      "cell_type": "markdown",
      "metadata": {
        "id": "_fnk_Yjnxdyc"
      },
      "source": [
        "## Data cleaning"
      ]
    },
    {
      "cell_type": "code",
      "execution_count": null,
      "metadata": {
        "colab": {
          "base_uri": "https://localhost:8080/"
        },
        "id": "XFAeVOKNHUvF",
        "outputId": "55c94ce1-f501-4f04-d1ab-b796d1fdbf4a"
      },
      "outputs": [
        {
          "name": "stderr",
          "output_type": "stream",
          "text": [
            "[nltk_data] Downloading package stopwords to /root/nltk_data...\n",
            "[nltk_data]   Unzipping corpora/stopwords.zip.\n",
            "[nltk_data] Downloading package wordnet to /root/nltk_data...\n",
            "[nltk_data] Downloading package omw-1.4 to /root/nltk_data...\n"
          ]
        }
      ],
      "source": [
        "import re\n",
        "import string\n",
        "import nltk\n",
        "from nltk.corpus import stopwords\n",
        "from nltk.stem import WordNetLemmatizer\n",
        "\n",
        "nltk.download('stopwords')\n",
        "nltk.download('wordnet')\n",
        "nltk.download('omw-1.4')\n",
        "\n",
        "def clean_text(text):\n",
        "    text = text.lower()\n",
        "    text = re.sub(r\"http\\S+|www\\S+|https\\S+\", '', text)\n",
        "    text = text.translate(str.maketrans('', '', string.punctuation))\n",
        "    tokens = text.split()\n",
        "    tokens = [word for word in tokens if word not in stopwords.words('english')]\n",
        "    lemmatizer = WordNetLemmatizer()\n",
        "    cleaned_tokens = [lemmatizer.lemmatize(word) for word in tokens]\n",
        "    return ' '.join(cleaned_tokens)\n",
        "\n",
        "final_data['clean_claim'] = final_data['claim'].apply(clean_text)"
      ]
    },
    {
      "cell_type": "markdown",
      "metadata": {
        "id": "VJ94TylPxmge"
      },
      "source": [
        "# Average length of post/claim"
      ]
    },
    {
      "cell_type": "code",
      "execution_count": null,
      "metadata": {
        "colab": {
          "base_uri": "https://localhost:8080/"
        },
        "id": "QGzM4P50_B33",
        "outputId": "76a8b3e2-f968-48e1-edff-9c0a10d82054"
      },
      "outputs": [
        {
          "name": "stdout",
          "output_type": "stream",
          "text": [
            "Average words per post: 12.14\n"
          ]
        }
      ],
      "source": [
        "# average length\n",
        "def average_words_per_text(texts):\n",
        "    lengths = [len(str(text).split()) for text in texts]\n",
        "    return sum(lengths) / len(lengths) if lengths else 0\n",
        "\n",
        "avg_words = average_words_per_text(final_data[\"clean_claim\"])\n",
        "print(f\"Average words per post: {avg_words:.2f}\")"
      ]
    },
    {
      "cell_type": "markdown",
      "metadata": {
        "id": "uZ4p8FDyzhLU"
      },
      "source": [
        "## Top common words"
      ]
    },
    {
      "cell_type": "code",
      "execution_count": null,
      "metadata": {
        "colab": {
          "base_uri": "https://localhost:8080/"
        },
        "id": "GNveOgaVHUxO",
        "outputId": "d9914e0d-e32d-4e9d-e897-8940abad3740"
      },
      "outputs": [
        {
          "name": "stdout",
          "output_type": "stream",
          "text": [
            "Top words in TRUE claims:\n",
            "[('covid19', 1449), ('case', 1357), ('new', 994), ('test', 723), ('state', 665), ('coronavirus', 650), ('death', 635), ('health', 568), ('u', 506), ('number', 460), ('say', 460), ('people', 451), ('study', 386), ('report', 367), ('day', 346), ('drug', 337), ('testing', 331), ('total', 330), ('reported', 314), ('cancer', 306)]\n",
            "\n",
            "Top words in FALSE claims:\n",
            "[('coronavirus', 949), ('covid19', 908), ('say', 695), ('new', 669), ('day', 652), ('study', 616), ('health', 480), ('time', 452), ('drinking', 445), ('cancer', 430), ('people', 422), ('show', 411), ('daily', 407), ('cure', 395), ('claim', 388), ('two', 374), ('eating', 365), ('disease', 352), ('scientist', 326), ('heart', 322)]\n"
          ]
        }
      ],
      "source": [
        "from collections import Counter\n",
        "import re\n",
        "\n",
        "def get_top_words_by_label(texts, labels, top_n=20):\n",
        "\n",
        "    true_counter = Counter()\n",
        "    false_counter = Counter()\n",
        "\n",
        "    for text, label in zip(texts, labels):\n",
        "        words = clean_text(text).split()\n",
        "        if label.lower() == \"true\":\n",
        "            true_counter.update(words)\n",
        "        elif label.lower() == \"false\":\n",
        "            false_counter.update(words)\n",
        "\n",
        "    return true_counter.most_common(top_n), false_counter.most_common(top_n)\n",
        "\n",
        "top_true, top_false = get_top_words_by_label(final_data['clean_claim'].tolist(), final_data['label'].tolist())\n",
        "\n",
        "print(\"Top words in TRUE claims:\")\n",
        "print(top_true)\n",
        "\n",
        "print(\"\\nTop words in FALSE claims:\")\n",
        "print(top_false)"
      ]
    },
    {
      "cell_type": "code",
      "execution_count": null,
      "metadata": {
        "colab": {
          "base_uri": "https://localhost:8080/",
          "height": 607
        },
        "id": "Si4GSiVgHU0p",
        "outputId": "99e467cc-eb14-43be-b261-e25cb785c4f0"
      },
      "outputs": [
        {
          "data": {
            "image/png": "[encoded data removed]",
            "text/plain": [
              "<Figure size 800x600 with 2 Axes>"
            ]
          },
          "metadata": {},
          "output_type": "display_data"
        }
      ],
      "source": [
        "import matplotlib.pyplot as plt\n",
        "import numpy as np\n",
        "\n",
        "def plot_top_words_dual_subplot(top_words_false, top_words_true):\n",
        "    words_false, counts_false = zip(*top_words_false)\n",
        "    words_true, counts_true = zip(*top_words_true)\n",
        "\n",
        "    fig, axes = plt.subplots(2, 1, figsize=(8, 6), sharey=True)\n",
        "\n",
        "    # False\n",
        "    axes[0].bar(words_false, counts_false, color='tomato')\n",
        "    axes[0].set_title(\"Top Words in 'False' Claims/Posts\")\n",
        "    axes[0].set_xlabel(\"Words\")\n",
        "    axes[0].set_ylabel(\"Frequency\")\n",
        "    axes[0].tick_params(axis='x', rotation=45)\n",
        "\n",
        "    # True\n",
        "    axes[1].bar(words_true, counts_true, color='seagreen')\n",
        "    axes[1].set_title(\"Top Words in 'True' Claims/Posts\")\n",
        "    axes[1].set_xlabel(\"Words\")\n",
        "    axes[1].tick_params(axis='x', rotation=45)\n",
        "\n",
        "    plt.tight_layout()\n",
        "    plt.savefig(\"top_words_true_vs_false.png\")\n",
        "    plt.show()\n",
        "\n",
        "plot_top_words_dual_subplot(top_false, top_true)"
      ]
    },
    {
      "cell_type": "markdown",
      "metadata": {
        "id": "r0suGv31uVyo"
      },
      "source": [
        "# Advanced models (BERT, BioBERT, RoBERTa)"
      ]
    },
    {
      "cell_type": "code",
      "execution_count": null,
      "metadata": {
        "id": "Fr2ywh-iuU7s"
      },
      "outputs": [],
      "source": [
        "# labels in 1,0 format\n",
        "final_data['label'] = final_data['label'].map({'true': 1, 'false': 0})"
      ]
    },
    {
      "cell_type": "code",
      "execution_count": null,
      "metadata": {
        "id": "p4N_-MnKeGxa"
      },
      "outputs": [],
      "source": [
        "import matplotlib.pyplot as plt\n",
        "import seaborn as sns\n",
        "from sklearn.metrics import confusion_matrix\n",
        "\n",
        "# Plot and save a confusion matrix heatmap for model evaluation\n",
        "def plot_confusion_matrix(y_true, y_pred, model_name=\"Model\"):\n",
        "    cm = confusion_matrix(y_true, y_pred)\n",
        "    labels = [\"False\", \"True\"]\n",
        "\n",
        "    plt.figure(figsize=(5, 4))\n",
        "    sns.heatmap(cm, annot=True, fmt='d', cmap=\"Blues\",\n",
        "                xticklabels=labels, yticklabels=labels)\n",
        "    plt.xlabel(\"Predicted\")\n",
        "    plt.ylabel(\"Actual\")\n",
        "    plt.title(f\"Confusion Matrix – {model_name}\")\n",
        "    plt.tight_layout()\n",
        "    plt.savefig(f\"confusion_matrix{model_name}.png\")\n",
        "    plt.show()"
      ]
    },
    {
      "cell_type": "markdown",
      "metadata": {
        "id": "hL1hf3Sgd9_2"
      },
      "source": [
        "## BERT"
      ]
    },
    {
      "cell_type": "code",
      "execution_count": null,
      "metadata": {
        "colab": {
          "base_uri": "https://localhost:8080/",
          "height": 301,
          "referenced_widgets": [
            "b32a238a7ca74ce192ebdd25b729b0b7",
            "49ecc93c352043aeaec411ead35e07f0",
            "37b7134feafc41308bf48c5330d773c8",
            "08d95de44fe84b8ca9a8a66515b5644d",
            "d1036b9f69364714809bad022eb13818",
            "466eac141591447ab160e5440cffb046",
            "f95b1664688b4a3cad5aae3d03adf8f9",
            "cb58c89e8d5a45eabc99cbfa3c7ed75d",
            "b57f7066ede84f8e8a1ed00623571f32",
            "a5465b624c8848e996b5f3a1d5e95590",
            "49344b26d1d143f084f0a6fe0ab2a627",
            "1c600348a05d4491acc1b0360d558439",
            "c77096a0eb154986a2d6f8b6137d2352",
            "a53427675c0946abad29cdd170ba108d",
            "ec61eea09da7468ca2330c91b9b28bb2",
            "6b325de5b2a1402999eed169cf6f18ce",
            "47fb2460b1c141aa9beef9724b7f1154",
            "d395594f352a4129ab34fb7afbc3121c",
            "07ea3aaea79846c5b207e4e25d723b02",
            "e9e78ebd6d3846058586807ac4450948",
            "d7caa4b055a3435ebd35d01dd2030a16",
            "59615a6c3a4f48e5b4af524c78a499db",
            "bd54ab00ecf44dac8b1e5950a301d9e3",
            "9a37b9d4109a4a0bae6f7f06fa7ae93d",
            "d2eb1991c4414da9a4321abe2656f8c5",
            "f0e9001ec4084ea79ed0c4077973cc63",
            "1502582fd47547a9839ff9e9c38408a7",
            "7bbfe6c0f9f3468b83931380b09fb462",
            "880c9dc62b394ebd8463c5e8539f2c14",
            "dcf92d097dc047999dbe1a9e9d3fbbb5",
            "ca0d03e6245b4ff9af982000f4c3a692",
            "442c6d374c1b4d7182291e94f5b72f4c",
            "53ac934d6f5745aba3b33ce03d309461",
            "d05df63d71524d7f85ea976f31ac7582",
            "6a989e62951b4b5ca57e4cdc9d340932",
            "494e17fab4c04969891a9c1d0c6c4995",
            "6a9c82b4e96741fa8a42045fdb7aa7b2",
            "c8b00b04626646d392e967d5aae02db0",
            "94d51a12ee1749c7a32cd0def94942b7",
            "e0f3566211af42a0a3f9e5bb23ced85f",
            "e7359bde2a7445e38cd43a82312b1584",
            "e24bcbb9286049378c1b4f0aa503a049",
            "e4504c91adb34d4b88daaf1311d9ab29",
            "079eaa3c20424c1291c6d137897586f3",
            "6c1b9c0d82b24d719cfe20e640566569",
            "fef6669ee17f4364a0bb75113953d7ef",
            "03e067bf60344d709f882c3da692e46b",
            "6ec47faa01ea4c38a8dc148bb3e0a223",
            "b5734fc084974796a202b0dc8affd4b6",
            "0a75972979f4437badb2c3fdeea5c298",
            "3a91ace1283846d69a66592aa4bd7bf8",
            "5810389820dc406288246a813aa9603b",
            "1b8634f076be4afa8e62cd830eef6435",
            "ab33012ce9db4dcc916b5cf810cd5e32",
            "197e1529608147758766d5e27747ecff"
          ]
        },
        "id": "E_1sKjhPeAOM",
        "outputId": "7aaa6262-5b55-4d96-a503-53afe9ddbb8b"
      },
      "outputs": [
        {
          "name": "stderr",
          "output_type": "stream",
          "text": [
            "/usr/local/lib/python3.11/dist-packages/huggingface_hub/utils/_auth.py:94: UserWarning: \n",
            "The secret `HF_TOKEN` does not exist in your Colab secrets.\n",
            "To authenticate with the Hugging Face Hub, create a token in your settings tab (https://huggingface.co/settings/tokens), set it as secret in your Google Colab and restart your session.\n",
            "You will be able to reuse this secret in all of your notebooks.\n",
            "Please note that authentication is recommended but still optional to access public models or datasets.\n",
            "  warnings.warn(\n"
          ]
        },
        {
          "data": {
            "application/vnd.jupyter.widget-view+json": {
              "model_id": "b32a238a7ca74ce192ebdd25b729b0b7",
              "version_major": 2,
              "version_minor": 0
            },
            "text/plain": [
              "tokenizer_config.json:   0%|          | 0.00/48.0 [00:00<?, ?B/s]"
            ]
          },
          "metadata": {},
          "output_type": "display_data"
        },
        {
          "data": {
            "application/vnd.jupyter.widget-view+json": {
              "model_id": "1c600348a05d4491acc1b0360d558439",
              "version_major": 2,
              "version_minor": 0
            },
            "text/plain": [
              "config.json:   0%|          | 0.00/570 [00:00<?, ?B/s]"
            ]
          },
          "metadata": {},
          "output_type": "display_data"
        },
        {
          "data": {
            "application/vnd.jupyter.widget-view+json": {
              "model_id": "bd54ab00ecf44dac8b1e5950a301d9e3",
              "version_major": 2,
              "version_minor": 0
            },
            "text/plain": [
              "vocab.txt:   0%|          | 0.00/232k [00:00<?, ?B/s]"
            ]
          },
          "metadata": {},
          "output_type": "display_data"
        },
        {
          "data": {
            "application/vnd.jupyter.widget-view+json": {
              "model_id": "d05df63d71524d7f85ea976f31ac7582",
              "version_major": 2,
              "version_minor": 0
            },
            "text/plain": [
              "tokenizer.json:   0%|          | 0.00/466k [00:00<?, ?B/s]"
            ]
          },
          "metadata": {},
          "output_type": "display_data"
        },
        {
          "data": {
            "application/vnd.jupyter.widget-view+json": {
              "model_id": "6c1b9c0d82b24d719cfe20e640566569",
              "version_major": 2,
              "version_minor": 0
            },
            "text/plain": [
              "Map:   0%|          | 0/15877 [00:00<?, ? examples/s]"
            ]
          },
          "metadata": {},
          "output_type": "display_data"
        }
      ],
      "source": [
        "from datasets import Dataset\n",
        "from transformers import AutoTokenizer\n",
        "\n",
        "# Preprocess dataset for model input\n",
        "dataset = Dataset.from_pandas(final_data)\n",
        "\n",
        "# Load BERT tokenizer\n",
        "tokenizer = AutoTokenizer.from_pretrained(\"bert-base-uncased\")\n",
        "\n",
        "# tokenize\n",
        "def tokenize(example):\n",
        "    return tokenizer(\n",
        "        example[\"claim\"],\n",
        "        padding=\"max_length\",\n",
        "        truncation=True,\n",
        "        max_length=256\n",
        "    )\n",
        "\n",
        "tokenized_dataset = dataset.map(tokenize, batched=True)\n",
        "tokenized_dataset.set_format(\"torch\", columns=[\"input_ids\", \"attention_mask\", \"label\"])"
      ]
    },
    {
      "cell_type": "code",
      "execution_count": null,
      "metadata": {
        "id": "gX7EHI_FeBcA"
      },
      "outputs": [],
      "source": [
        "from sklearn.model_selection import train_test_split\n",
        "\n",
        "# Split dataset into stratified train/test sets\n",
        "train_indices, test_indices = train_test_split(\n",
        "    range(len(final_data)),\n",
        "    test_size=0.2,\n",
        "    stratify=final_data[\"label\"],\n",
        "    random_state=42\n",
        ")\n",
        "\n",
        "# Train dataset\n",
        "train_dataset = tokenized_dataset.select(train_indices)\n",
        "# Test dataset\n",
        "test_dataset = tokenized_dataset.select(test_indices)"
      ]
    },
    {
      "cell_type": "code",
      "execution_count": null,
      "metadata": {
        "colab": {
          "base_uri": "https://localhost:8080/",
          "height": 138,
          "referenced_widgets": [
            "2b994e59f03d4cf483bf8ab2a9dc63a6",
            "788c17c187af435b8eb83324395597ec",
            "43d6c047f9024816bab389a4a5f51343",
            "5d6d47f80d20408eb3e37adbbbcdf00e",
            "ec9f3f8f47d342289a1d891f2f9fb9e6",
            "15c56e56db954d73a14e21133728ce90",
            "1648899f83a54db3bfe56b04cf85110a",
            "4f62a9f16fef4a8cb119ffc4c971a320",
            "09bcec3ad14c454e8486bc15f5c1bda1",
            "189c9cde9ea746aea5eaf5c9f7d59141",
            "92109cd59b734079ae07e9d0c3942040"
          ]
        },
        "id": "93HzEoybeBuf",
        "outputId": "2a1dd581-b80e-4aa2-85eb-bee3e320191b"
      },
      "outputs": [
        {
          "name": "stderr",
          "output_type": "stream",
          "text": [
            "Xet Storage is enabled for this repo, but the 'hf_xet' package is not installed. Falling back to regular HTTP download. For better performance, install the package with: `pip install huggingface_hub[hf_xet]` or `pip install hf_xet`\n",
            "WARNING:huggingface_hub.file_download:Xet Storage is enabled for this repo, but the 'hf_xet' package is not installed. Falling back to regular HTTP download. For better performance, install the package with: `pip install huggingface_hub[hf_xet]` or `pip install hf_xet`\n"
          ]
        },
        {
          "data": {
            "application/vnd.jupyter.widget-view+json": {
              "model_id": "2b994e59f03d4cf483bf8ab2a9dc63a6",
              "version_major": 2,
              "version_minor": 0
            },
            "text/plain": [
              "model.safetensors:   0%|          | 0.00/440M [00:00<?, ?B/s]"
            ]
          },
          "metadata": {},
          "output_type": "display_data"
        },
        {
          "name": "stderr",
          "output_type": "stream",
          "text": [
            "Some weights of BertForSequenceClassification were not initialized from the model checkpoint at bert-base-uncased and are newly initialized: ['classifier.bias', 'classifier.weight']\n",
            "You should probably TRAIN this model on a down-stream task to be able to use it for predictions and inference.\n"
          ]
        }
      ],
      "source": [
        "from transformers import AutoModelForSequenceClassification\n",
        "\n",
        "# Load pre-trained BERT model for binary classification\n",
        "model = AutoModelForSequenceClassification.from_pretrained(\n",
        "    \"bert-base-uncased\",\n",
        "    num_labels=2\n",
        ")"
      ]
    },
    {
      "cell_type": "code",
      "execution_count": null,
      "metadata": {
        "id": "zsU7WEKBeB4n"
      },
      "outputs": [],
      "source": [
        "from sklearn.metrics import accuracy_score, precision_recall_fscore_support, confusion_matrix\n",
        "import numpy as np\n",
        "\n",
        "# Define evaluation metrics: accuracy, precision, recall, F1, and print confusion matrix\n",
        "def compute_metrics(eval_pred):\n",
        "    logits, labels = eval_pred\n",
        "    preds = np.argmax(logits, axis=-1)\n",
        "    precision, recall, f1, _ = precision_recall_fscore_support(labels, preds, average=\"binary\", zero_division=0)\n",
        "    acc = accuracy_score(labels, preds)\n",
        "    cm = confusion_matrix(labels, preds)\n",
        "    print(\"\\nConfusion Matrix:\\n\", cm)\n",
        "    return {\n",
        "        \"accuracy\": acc,\n",
        "        \"precision\": precision,\n",
        "        \"recall\": recall,\n",
        "        \"f1\": f1\n",
        "    }"
      ]
    },
    {
      "cell_type": "code",
      "execution_count": null,
      "metadata": {
        "colab": {
          "base_uri": "https://localhost:8080/"
        },
        "id": "irI3eHDweCDE",
        "outputId": "d95565a0-56be-403d-e5f7-3531f2510933"
      },
      "outputs": [
        {
          "name": "stderr",
          "output_type": "stream",
          "text": [
            "Using the `WANDB_DISABLED` environment variable is deprecated and will be removed in v5. Use the --report_to flag to control the integrations used for logging result (for instance --report_to none).\n"
          ]
        }
      ],
      "source": [
        "from transformers import TrainingArguments, Trainer\n",
        "\n",
        "# Define TrainingArguments\n",
        "training_args = TrainingArguments(\n",
        "    output_dir=\"./bert_results\",\n",
        "    eval_strategy=\"epoch\",\n",
        "    save_strategy=\"epoch\",\n",
        "    learning_rate=2e-5,\n",
        "    per_device_train_batch_size=16,\n",
        "    per_device_eval_batch_size=16,\n",
        "    num_train_epochs=3,\n",
        "    weight_decay=0.01,\n",
        "    logging_dir=\"./logs\",\n",
        "    load_best_model_at_end=True,\n",
        "    metric_for_best_model=\"f1\"\n",
        ")\n",
        "\n",
        "# Initialize Trainer with model, data, and metrics\n",
        "trainer = Trainer(\n",
        "    model=model,\n",
        "    args=training_args,\n",
        "    train_dataset=train_dataset,\n",
        "    eval_dataset=test_dataset,\n",
        "    compute_metrics=compute_metrics\n",
        ")"
      ]
    },
    {
      "cell_type": "code",
      "execution_count": null,
      "metadata": {
        "colab": {
          "base_uri": "https://localhost:8080/",
          "height": 504
        },
        "id": "UIHj8ER2eCOu",
        "outputId": "f3437edd-17e0-47c2-d608-c622e4b6846e"
      },
      "outputs": [
        {
          "data": {
            "text/html": [
              "\n",
              "    <div>\n",
              "      \n",
              "      <progress value='2382' max='2382' style='width:300px; height:20px; vertical-align: middle;'></progress>\n",
              "      [2382/2382 29:01, Epoch 3/3]\n",
              "    </div>\n",
              "    <table border=\"1\" class=\"dataframe\">\n",
              "  <thead>\n",
              " <tr style=\"text-align: left;\">\n",
              "      <th>Epoch</th>\n",
              "      <th>Training Loss</th>\n",
              "      <th>Validation Loss</th>\n",
              "      <th>Accuracy</th>\n",
              "      <th>Precision</th>\n",
              "      <th>Recall</th>\n",
              "      <th>F1</th>\n",
              "    </tr>\n",
              "  </thead>\n",
              "  <tbody>\n",
              "    <tr>\n",
              "      <td>1</td>\n",
              "      <td>0.395600</td>\n",
              "      <td>0.279308</td>\n",
              "      <td>0.862406</td>\n",
              "      <td>0.914286</td>\n",
              "      <td>0.801503</td>\n",
              "      <td>0.854188</td>\n",
              "    </tr>\n",
              "    <tr>\n",
              "      <td>2</td>\n",
              "      <td>0.222500</td>\n",
              "      <td>0.297845</td>\n",
              "      <td>0.869647</td>\n",
              "      <td>0.897781</td>\n",
              "      <td>0.835942</td>\n",
              "      <td>0.865759</td>\n",
              "    </tr>\n",
              "    <tr>\n",
              "      <td>3</td>\n",
              "      <td>0.155400</td>\n",
              "      <td>0.401550</td>\n",
              "      <td>0.867443</td>\n",
              "      <td>0.865217</td>\n",
              "      <td>0.872260</td>\n",
              "      <td>0.868725</td>\n",
              "    </tr>\n",
              "  </tbody>\n",
              "</table><p>"
            ],
            "text/plain": [
              "<IPython.core.display.HTML object>"
            ]
          },
          "metadata": {},
          "output_type": "display_data"
        },
        {
          "name": "stdout",
          "output_type": "stream",
          "text": [
            "\n",
            "Confusion Matrix:\n",
            " [[1459  120]\n",
            " [ 317 1280]]\n",
            "\n",
            "Confusion Matrix:\n",
            " [[1427  152]\n",
            " [ 262 1335]]\n",
            "\n",
            "Confusion Matrix:\n",
            " [[1362  217]\n",
            " [ 204 1393]]\n"
          ]
        },
        {
          "data": {
            "text/html": [
              "\n",
              "    <div>\n",
              "      \n",
              "      <progress value='199' max='199' style='width:300px; height:20px; vertical-align: middle;'></progress>\n",
              "      [199/199 00:43]\n",
              "    </div>\n",
              "    "
            ],
            "text/plain": [
              "<IPython.core.display.HTML object>"
            ]
          },
          "metadata": {},
          "output_type": "display_data"
        },
        {
          "name": "stdout",
          "output_type": "stream",
          "text": [
            "\n",
            "Confusion Matrix:\n",
            " [[1362  217]\n",
            " [ 204 1393]]\n",
            "{'eval_loss': 0.4015496075153351, 'eval_accuracy': 0.8674433249370277, 'eval_precision': 0.8652173913043478, 'eval_recall': 0.8722604884157796, 'eval_f1': 0.8687246647957593, 'eval_runtime': 43.921, 'eval_samples_per_second': 72.312, 'eval_steps_per_second': 4.531, 'epoch': 3.0}\n"
          ]
        }
      ],
      "source": [
        "# Train the model\n",
        "trainer.train()\n",
        "\n",
        "# Evaluate model's performance on the test set\n",
        "results = trainer.evaluate()\n",
        "print(results)"
      ]
    },
    {
      "cell_type": "code",
      "execution_count": null,
      "metadata": {
        "colab": {
          "base_uri": "https://localhost:8080/",
          "height": 86
        },
        "id": "4AWiHYv1eGe6",
        "outputId": "73964ea9-91ba-4e93-863b-0a9e240bee6a"
      },
      "outputs": [
        {
          "data": {
            "text/html": [],
            "text/plain": [
              "<IPython.core.display.HTML object>"
            ]
          },
          "metadata": {},
          "output_type": "display_data"
        },
        {
          "name": "stdout",
          "output_type": "stream",
          "text": [
            "\n",
            "Confusion Matrix:\n",
            " [[1362  217]\n",
            " [ 204 1393]]\n"
          ]
        }
      ],
      "source": [
        "# Generate predictions and extract true/predicted labels\n",
        "predictions = trainer.predict(test_dataset)\n",
        "y_true = predictions.label_ids\n",
        "y_pred = np.argmax(predictions.predictions, axis=-1)"
      ]
    },
    {
      "cell_type": "code",
      "execution_count": null,
      "metadata": {
        "colab": {
          "base_uri": "https://localhost:8080/"
        },
        "id": "JrsltP5NF3GA",
        "outputId": "5f6ae04a-6a8e-41ea-a4e9-9d9743680533"
      },
      "outputs": [
        {
          "name": "stdout",
          "output_type": "stream",
          "text": [
            "\n",
            "🔷 Metrics per label:\n",
            "   label  precision    recall  f1_score  support\n",
            "0      0   0.869732  0.862571  0.866137     1579\n",
            "1      1   0.865217  0.872260  0.868725     1597\n"
          ]
        }
      ],
      "source": [
        "from sklearn.metrics import confusion_matrix, precision_recall_fscore_support\n",
        "\n",
        "# confusion matrix\n",
        "#cm = confusion_matrix(y_true, y_pred)\n",
        "\n",
        "# scores per label\n",
        "precision, recall, f1, support = precision_recall_fscore_support(\n",
        "    y_true, y_pred, labels=[0, 1], zero_division=0\n",
        ")\n",
        "\n",
        "# label's scores dataframe\n",
        "metrics_df = pd.DataFrame({\n",
        "    \"label\": [0, 1],\n",
        "    \"precision\": precision,\n",
        "    \"recall\": recall,\n",
        "    \"f1_score\": f1,\n",
        "    \"support\": support\n",
        "})\n",
        "\n",
        "print(\"\\n🔷 Metrics per label:\")\n",
        "print(metrics_df)\n",
        "\n",
        "#metrics_df.to_csv(f\"{training_args.output_dir}/metrics_per_label.csv\", index=False)"
      ]
    },
    {
      "cell_type": "code",
      "execution_count": null,
      "metadata": {
        "colab": {
          "base_uri": "https://localhost:8080/",
          "height": 407
        },
        "id": "g31YQFOLvtW2",
        "outputId": "ec26b0cf-4c86-444f-a6c8-efd50beec9f9"
      },
      "outputs": [
        {
          "data": {
            "image/png": "[encoded data removed]",
            "text/plain": [
              "<Figure size 500x400 with 2 Axes>"
            ]
          },
          "metadata": {},
          "output_type": "display_data"
        }
      ],
      "source": [
        "# confusion matrix\n",
        "plot_confusion_matrix(y_true, y_pred, model_name=\"BERT\")"
      ]
    },
    {
      "cell_type": "markdown",
      "metadata": {
        "id": "HV4PJ-HEvDqJ"
      },
      "source": [
        "## BioBERT"
      ]
    },
    {
      "cell_type": "code",
      "execution_count": null,
      "metadata": {
        "colab": {
          "base_uri": "https://localhost:8080/",
          "height": 113,
          "referenced_widgets": [
            "f82b86af50114943898a5a65fa1f98b4",
            "65fad1c799e44407b4811a433f1d5a51",
            "9e703567122245bb9044110bce5395c8",
            "868f9640fe4b48fa94510eec80c50caf",
            "34ff0dcaa6214bcfb1ab10ec4e02e8af",
            "f53a917b7a5748ef86e48c26ba92f3d5",
            "6ce8688c68d644709165ee6e71efe06c",
            "59228e67b26f48d48d769d7676519e44",
            "36c6816eb5394ede939d395700755070",
            "d788480e387d4689b32b472500dcdb4a",
            "39e1004c14254954a4cffb0fdb6761e5",
            "1fbfa9199c604caa95936d44f7bee168",
            "a0ab548680fa41e0be2b70bbd5d45e34",
            "9266e2b53f934f1e90aa44d652c3f97b",
            "129765bc28124bad93fee819a6f06e56",
            "7b181e268abe417ca181e270dfe53cfc",
            "4f8f4ae274e9432b854989a07ae218f3",
            "1c374410dde34f51965f8b3c011f1346",
            "ac27f5e2609d49d39d4a16770d17c4bd",
            "6c0041c2bc594a19b6411a458c3c6a1a",
            "a861817af64f4021ac6ffb284ba01acc",
            "5a189fc9f1e54c0bae7e2c42ca8c6217",
            "98a8e4be4e604fb3a79c25d46d98f477",
            "5246100f5b174e3b89cb4432fdf421cc",
            "ab6245ac743a4a098de9444c652a646b",
            "d30b431829f14b4a80937ec4ade93db3",
            "716de9e89c9249ea935d90b81114b3dd",
            "dd5ea7f20efb450393321309023ea3b3",
            "f8278be30a29438ebb2fa1c7721c4236",
            "34889e96f328410e969fca3870020aac",
            "a8e32cde7aef459490ad3b26872a86f3",
            "a6ec4b0d48684318a18ad73b2b4ab2e0",
            "42e5d2ebea534548b95466ca622f21d9"
          ]
        },
        "id": "8594GO0XLykF",
        "outputId": "4b98a1cc-8949-4cad-e5d4-2da7e3625464"
      },
      "outputs": [
        {
          "data": {
            "application/vnd.jupyter.widget-view+json": {
              "model_id": "f82b86af50114943898a5a65fa1f98b4",
              "version_major": 2,
              "version_minor": 0
            },
            "text/plain": [
              "config.json:   0%|          | 0.00/313 [00:00<?, ?B/s]"
            ]
          },
          "metadata": {},
          "output_type": "display_data"
        },
        {
          "data": {
            "application/vnd.jupyter.widget-view+json": {
              "model_id": "1fbfa9199c604caa95936d44f7bee168",
              "version_major": 2,
              "version_minor": 0
            },
            "text/plain": [
              "vocab.txt:   0%|          | 0.00/213k [00:00<?, ?B/s]"
            ]
          },
          "metadata": {},
          "output_type": "display_data"
        },
        {
          "data": {
            "application/vnd.jupyter.widget-view+json": {
              "model_id": "98a8e4be4e604fb3a79c25d46d98f477",
              "version_major": 2,
              "version_minor": 0
            },
            "text/plain": [
              "Map:   0%|          | 0/15877 [00:00<?, ? examples/s]"
            ]
          },
          "metadata": {},
          "output_type": "display_data"
        }
      ],
      "source": [
        "from datasets import Dataset\n",
        "from transformers import AutoTokenizer\n",
        "\n",
        "# Preprocess dataset for model input\n",
        "dataset = Dataset.from_pandas(final_data)\n",
        "\n",
        "# Load BioBERT tokenizer\n",
        "tokenizer = AutoTokenizer.from_pretrained(\"dmis-lab/biobert-base-cased-v1.1\")\n",
        "\n",
        "# tokenize\n",
        "def tokenize(example):\n",
        "    return tokenizer(example[\"claim\"],\n",
        "                     padding=\"max_length\",\n",
        "                     truncation=True,\n",
        "                     max_length=256)\n",
        "\n",
        "tokenized_dataset = dataset.map(tokenize, batched=True)\n",
        "tokenized_dataset.set_format(\"torch\", columns=[\"input_ids\", \"attention_mask\", \"label\"])"
      ]
    },
    {
      "cell_type": "code",
      "execution_count": null,
      "metadata": {
        "id": "1WCoWRdEL__0"
      },
      "outputs": [],
      "source": [
        "from sklearn.model_selection import train_test_split\n",
        "\n",
        "# Split dataset into stratified train/test sets\n",
        "train_indices, test_indices = train_test_split(\n",
        "    range(len(final_data)),\n",
        "    test_size=0.2,\n",
        "    stratify=final_data[\"label\"],\n",
        "    random_state=42\n",
        ")\n",
        "\n",
        "# Train dataset\n",
        "train_dataset = tokenized_dataset.select(train_indices)\n",
        "# Test dataset\n",
        "test_dataset = tokenized_dataset.select(test_indices)"
      ]
    },
    {
      "cell_type": "code",
      "execution_count": null,
      "metadata": {
        "colab": {
          "base_uri": "https://localhost:8080/",
          "height": 136,
          "referenced_widgets": [
            "9b89d6c4a56f438b89c691854652d8a7",
            "c22deab9789a461cb6640a4ad8c65278",
            "5fe29aa8218d4fbb8f005d5a5af0b1be",
            "65bbcdbaccca4b9b97d287c09680aa10",
            "9908a57623a04da6bf38a4fa60a25158",
            "2712456bff90449f86877563a612e64f",
            "aafa0786807a49d8883f647e8a2c9b64",
            "9485793e023042159fb84c7f49a8958b",
            "ec3815fd982b4786b7dc5c4db332bcef",
            "fbe34135a87d4fff84d9527ba2cf8472",
            "70932903b8b4411f8452d07d90e22787",
            "44d1e3f50358472fa2424ea8515e86b1",
            "b96e01f08f2640098a3419cd52fd962e",
            "5cc79cab80224b9ab314b4472cf57a68",
            "f16cc86ccf0d4671bfe577dc18ade010",
            "adf2b922a0d84b4b85826f203a21c7d7",
            "b9cfa90fba464121ac07774758e9838c",
            "cef13d4a27bc4456ada540b5a6a9633d",
            "2ad4661c88a54f8cae4a4ee476c2ca0f",
            "affcb446ee4c4643a4f0700b9a7e7991",
            "42867fbfe02c49369f4dd80ada3b103c",
            "81f1f236e65541b6a8e75bca28cff05e"
          ]
        },
        "id": "o_r538_GMfLU",
        "outputId": "127194f4-5199-499e-86b3-0a7cf94d97c8"
      },
      "outputs": [
        {
          "data": {
            "application/vnd.jupyter.widget-view+json": {
              "model_id": "9b89d6c4a56f438b89c691854652d8a7",
              "version_major": 2,
              "version_minor": 0
            },
            "text/plain": [
              "pytorch_model.bin:   0%|          | 0.00/436M [00:00<?, ?B/s]"
            ]
          },
          "metadata": {},
          "output_type": "display_data"
        },
        {
          "data": {
            "application/vnd.jupyter.widget-view+json": {
              "model_id": "44d1e3f50358472fa2424ea8515e86b1",
              "version_major": 2,
              "version_minor": 0
            },
            "text/plain": [
              "model.safetensors:   0%|          | 0.00/436M [00:00<?, ?B/s]"
            ]
          },
          "metadata": {},
          "output_type": "display_data"
        },
        {
          "name": "stderr",
          "output_type": "stream",
          "text": [
            "Some weights of BertForSequenceClassification were not initialized from the model checkpoint at dmis-lab/biobert-base-cased-v1.1 and are newly initialized: ['classifier.bias', 'classifier.weight']\n",
            "You should probably TRAIN this model on a down-stream task to be able to use it for predictions and inference.\n"
          ]
        }
      ],
      "source": [
        "from transformers import AutoModelForSequenceClassification\n",
        "\n",
        "# Load BioBERT model for binary classification\n",
        "model = AutoModelForSequenceClassification.from_pretrained(\n",
        "    \"dmis-lab/biobert-base-cased-v1.1\",\n",
        "    num_labels=2\n",
        ")"
      ]
    },
    {
      "cell_type": "code",
      "execution_count": null,
      "metadata": {
        "id": "jf5-IGFkMfWw"
      },
      "outputs": [],
      "source": [
        "from sklearn.metrics import accuracy_score, precision_recall_fscore_support, confusion_matrix\n",
        "import numpy as np\n",
        "\n",
        "# Define evaluation metrics: accuracy, precision, recall, F1, and print confusion matrix\n",
        "def compute_metrics(eval_pred):\n",
        "    logits, labels = eval_pred\n",
        "    preds = np.argmax(logits, axis=-1)\n",
        "    precision, recall, f1, _ = precision_recall_fscore_support(labels, preds, average=\"binary\", zero_division=0)\n",
        "    acc = accuracy_score(labels, preds)\n",
        "    cm = confusion_matrix(labels, preds)\n",
        "    print(\"\\nConfusion Matrix:\\n\", cm)\n",
        "    return {\n",
        "        \"accuracy\": acc,\n",
        "        \"precision\": precision,\n",
        "        \"recall\": recall,\n",
        "        \"f1\": f1\n",
        "    }"
      ]
    },
    {
      "cell_type": "code",
      "execution_count": null,
      "metadata": {
        "colab": {
          "base_uri": "https://localhost:8080/"
        },
        "id": "ux6E7-DMRt_S",
        "outputId": "e23d7baf-4a81-4e23-8210-34e64179a59f"
      },
      "outputs": [
        {
          "name": "stderr",
          "output_type": "stream",
          "text": [
            "Using the `WANDB_DISABLED` environment variable is deprecated and will be removed in v5. Use the --report_to flag to control the integrations used for logging result (for instance --report_to none).\n"
          ]
        }
      ],
      "source": [
        "from transformers import TrainingArguments, Trainer\n",
        "\n",
        "# Define TrainingArguments\n",
        "training_args = TrainingArguments(\n",
        "    output_dir=\"./biobert_results\",\n",
        "    eval_strategy=\"epoch\",\n",
        "    save_strategy=\"epoch\",\n",
        "    learning_rate=2e-5,\n",
        "    per_device_train_batch_size=16,\n",
        "    per_device_eval_batch_size=16,\n",
        "    num_train_epochs=3,\n",
        "    weight_decay=0.01,\n",
        "    logging_dir=\"./logs\",\n",
        "    load_best_model_at_end=True,\n",
        "    metric_for_best_model=\"f1\"\n",
        ")\n",
        "\n",
        "# Initialize Trainer with model, data, and metrics\n",
        "trainer = Trainer(\n",
        "    model=model,\n",
        "    args=training_args,\n",
        "    train_dataset=train_dataset,\n",
        "    eval_dataset=test_dataset,\n",
        "    compute_metrics=compute_metrics\n",
        ")"
      ]
    },
    {
      "cell_type": "code",
      "execution_count": null,
      "metadata": {
        "colab": {
          "base_uri": "https://localhost:8080/",
          "height": 504
        },
        "id": "2-xP1YX2RuBc",
        "outputId": "6a46031f-75b2-4360-b2ec-f4010116e8f8"
      },
      "outputs": [
        {
          "data": {
            "text/html": [
              "\n",
              "    <div>\n",
              "      \n",
              "      <progress value='2382' max='2382' style='width:300px; height:20px; vertical-align: middle;'></progress>\n",
              "      [2382/2382 29:25, Epoch 3/3]\n",
              "    </div>\n",
              "    <table border=\"1\" class=\"dataframe\">\n",
              "  <thead>\n",
              " <tr style=\"text-align: left;\">\n",
              "      <th>Epoch</th>\n",
              "      <th>Training Loss</th>\n",
              "      <th>Validation Loss</th>\n",
              "      <th>Accuracy</th>\n",
              "      <th>Precision</th>\n",
              "      <th>Recall</th>\n",
              "      <th>F1</th>\n",
              "    </tr>\n",
              "  </thead>\n",
              "  <tbody>\n",
              "    <tr>\n",
              "      <td>1</td>\n",
              "      <td>0.405400</td>\n",
              "      <td>0.309939</td>\n",
              "      <td>0.848866</td>\n",
              "      <td>0.861489</td>\n",
              "      <td>0.833438</td>\n",
              "      <td>0.847231</td>\n",
              "    </tr>\n",
              "    <tr>\n",
              "      <td>2</td>\n",
              "      <td>0.235900</td>\n",
              "      <td>0.313052</td>\n",
              "      <td>0.859257</td>\n",
              "      <td>0.904930</td>\n",
              "      <td>0.804634</td>\n",
              "      <td>0.851840</td>\n",
              "    </tr>\n",
              "    <tr>\n",
              "      <td>3</td>\n",
              "      <td>0.169000</td>\n",
              "      <td>0.410198</td>\n",
              "      <td>0.859887</td>\n",
              "      <td>0.861809</td>\n",
              "      <td>0.859111</td>\n",
              "      <td>0.860458</td>\n",
              "    </tr>\n",
              "  </tbody>\n",
              "</table><p>"
            ],
            "text/plain": [
              "<IPython.core.display.HTML object>"
            ]
          },
          "metadata": {},
          "output_type": "display_data"
        },
        {
          "name": "stdout",
          "output_type": "stream",
          "text": [
            "\n",
            "Confusion Matrix:\n",
            " [[1365  214]\n",
            " [ 266 1331]]\n",
            "\n",
            "Confusion Matrix:\n",
            " [[1444  135]\n",
            " [ 312 1285]]\n",
            "\n",
            "Confusion Matrix:\n",
            " [[1359  220]\n",
            " [ 225 1372]]\n"
          ]
        },
        {
          "data": {
            "text/html": [
              "\n",
              "    <div>\n",
              "      \n",
              "      <progress value='199' max='199' style='width:300px; height:20px; vertical-align: middle;'></progress>\n",
              "      [199/199 00:43]\n",
              "    </div>\n",
              "    "
            ],
            "text/plain": [
              "<IPython.core.display.HTML object>"
            ]
          },
          "metadata": {},
          "output_type": "display_data"
        },
        {
          "name": "stdout",
          "output_type": "stream",
          "text": [
            "\n",
            "Confusion Matrix:\n",
            " [[1359  220]\n",
            " [ 225 1372]]\n",
            "{'eval_loss': 0.41019800305366516, 'eval_accuracy': 0.8598866498740554, 'eval_precision': 0.8618090452261307, 'eval_recall': 0.8591108328115216, 'eval_f1': 0.8604578237692067, 'eval_runtime': 44.1109, 'eval_samples_per_second': 72.0, 'eval_steps_per_second': 4.511, 'epoch': 3.0}\n"
          ]
        }
      ],
      "source": [
        "# Train the model\n",
        "trainer.train()\n",
        "\n",
        "# Evaluate model's performance on the test set\n",
        "results = trainer.evaluate()\n",
        "print(results)"
      ]
    },
    {
      "cell_type": "code",
      "execution_count": null,
      "metadata": {
        "colab": {
          "base_uri": "https://localhost:8080/",
          "height": 86
        },
        "id": "Pqmef-PZRuE7",
        "outputId": "ac2b1a36-6270-4372-9dd9-4c40a347f4b8"
      },
      "outputs": [
        {
          "data": {
            "text/html": [],
            "text/plain": [
              "<IPython.core.display.HTML object>"
            ]
          },
          "metadata": {},
          "output_type": "display_data"
        },
        {
          "name": "stdout",
          "output_type": "stream",
          "text": [
            "\n",
            "Confusion Matrix:\n",
            " [[1359  220]\n",
            " [ 225 1372]]\n"
          ]
        }
      ],
      "source": [
        "# Generate predictions and extract true/predicted labels\n",
        "predictions = trainer.predict(test_dataset)\n",
        "y_true = predictions.label_ids\n",
        "y_pred = np.argmax(predictions.predictions, axis=-1)"
      ]
    },
    {
      "cell_type": "code",
      "execution_count": null,
      "metadata": {
        "colab": {
          "base_uri": "https://localhost:8080/"
        },
        "id": "h3BKA8n1Nbot",
        "outputId": "ec84807a-2eed-4694-f464-8f7681cae6bb"
      },
      "outputs": [
        {
          "name": "stdout",
          "output_type": "stream",
          "text": [
            "\n",
            "🔷 Metrics per label:\n",
            "   label  precision    recall  f1_score  support\n",
            "0      0   0.857955  0.860671  0.859311     1579\n",
            "1      1   0.861809  0.859111  0.860458     1597\n"
          ]
        }
      ],
      "source": [
        "from sklearn.metrics import confusion_matrix, precision_recall_fscore_support\n",
        "\n",
        "# confusion matrix\n",
        "#cm = confusion_matrix(y_true, y_pred)\n",
        "\n",
        "# scores per label\n",
        "precision, recall, f1, support = precision_recall_fscore_support(\n",
        "    y_true, y_pred, labels=[0, 1], zero_division=0\n",
        ")\n",
        "\n",
        "# labele's scores dataframe\n",
        "metrics_df = pd.DataFrame({\n",
        "    \"label\": [0, 1],\n",
        "    \"precision\": precision,\n",
        "    \"recall\": recall,\n",
        "    \"f1_score\": f1,\n",
        "    \"support\": support\n",
        "})\n",
        "\n",
        "print(\"\\n🔷 Metrics per label:\")\n",
        "print(metrics_df)\n",
        "\n",
        "#metrics_df.to_csv(f\"{training_args.output_dir}/metrics_per_label.csv\", index=False)"
      ]
    },
    {
      "cell_type": "code",
      "execution_count": null,
      "metadata": {
        "colab": {
          "base_uri": "https://localhost:8080/",
          "height": 407
        },
        "id": "XQtA9L0amFFO",
        "outputId": "d7013120-9104-4b4c-8ad2-0d749e252b6d"
      },
      "outputs": [
        {
          "data": {
            "image/png": "[encoded data removed]",
            "text/plain": [
              "<Figure size 500x400 with 2 Axes>"
            ]
          },
          "metadata": {},
          "output_type": "display_data"
        }
      ],
      "source": [
        "# plot confusion matrix\n",
        "plot_confusion_matrix(y_true, y_pred, model_name=\"BioBERT\")"
      ]
    },
    {
      "cell_type": "markdown",
      "metadata": {
        "id": "UZrlNRrRaHYv"
      },
      "source": [
        "## RoBERTa"
      ]
    },
    {
      "cell_type": "code",
      "execution_count": null,
      "metadata": {
        "colab": {
          "base_uri": "https://localhost:8080/",
          "height": 333,
          "referenced_widgets": [
            "d8c80c0fac624860873a17705c1b2743",
            "7254c8f3a2034a10a26860823da86f19",
            "36b5de16010d4ccfb6bc6bf8b0ddf71d",
            "9388009faaa5427e8124b0297d1bb4ce",
            "09ad88ed79dd403eabbefca89a4673c7",
            "6453915e6632447fa7cbe94d04b2c423",
            "b64e002b54484708a44dca553cf32027",
            "4b7ac97647cb4b9ebc51e731562d7eed",
            "541a44a67b7b4d13ad8f3569a45f5a13",
            "0283440608754ed0be04e78a2ff85698",
            "8a36411ee7bb41cc9bcfc32d42b6866d",
            "f0eb95e127d44ed2b1f98193369e14a4",
            "b78dc5d0c92343908756f15d7c31ad2e",
            "69e8a2d79b2042129a7ce576dbd91a9d",
            "44df26e69b9c4d458fc76b6aac0ce7b1",
            "d723083b30634f1a801bb09c9810f398",
            "ea6dd6a8c0584556b6383b38128ff301",
            "f4eaf119b4af4d6293c95dece7541ef0",
            "a1de0a71a415423fa15e91994ea98e69",
            "be91530cd68848d4912a23ee9cc85b28",
            "d9055a815fc744db842c703d8ea84f88",
            "531fd2c2aa574e2e83ca73c53437a6c9",
            "fc8ae204f845433bb8b736c3cb40aaed",
            "1d99c4624a7640f6af30a9e287aea167",
            "df299dc8be7643ecb20388d82d7a046d",
            "f470343329894e88ad67b8f49168d58c",
            "322dc8f8c93d42dbbaa0e4cc9f4ab859",
            "b0126829c578440c96033ec99edc18a7",
            "165ab6a5a46b40b1928fb7f0de080f38",
            "180f4916492640e0a510bff71eaaca71",
            "5d537e010a8d4cb3a021741a9d1b6e21",
            "22f83a360b5b49a891668029a12c3449",
            "fc0fad30b7fd4c5b85e70c25eb03c5ed",
            "b1c36ee3ba7744d9b3907cbe2aad482d",
            "c55e1b20981745178bc1fb04542d3cc5",
            "1ccb5e7eb88e461b8e462777ba8ff3f8",
            "f80b1a97c1f14c8a816baa9ab5bc7fee",
            "a4b68e4ed7464eb88202066d11591d69",
            "8f6db3bae98643b089ba96c10ae7d67e",
            "9c3c1c8200be4d32b1a55170929e0a6b",
            "6eda8335f96146278552fd340217f330",
            "46be97cc737e4e229c8a6cea4c2ea377",
            "70fbf4512b6d4370acd83d3de0b25f95",
            "793003aa498247ef91938424b0d12f26",
            "2dcc2ae0191f44f1a4dc6a88515af65a",
            "f78604f13ddb48258ab8799e77b69b5c",
            "1e4e71d7bba547d69b6f82dcf76fb8ff",
            "2a57b22b414947bfa821a74bfbd95d35",
            "d0b5eceae34c433fafda21a1d1e18d75",
            "3b07e62dc112430ab19fa485cc0f16e8",
            "98d21955079f456c806338b30a89c6fb",
            "2290c16f04e34781b7c4323d35fd63a1",
            "c72af19c143644608c672f2dab9c3534",
            "bd3877b7a7444e1e8d0242f2fe660193",
            "a40957e5437744ba94f5a9126ca261b7",
            "bbd55e39a8d84f26aeaca02650b40a74",
            "8d651653437e47219969b6d9c51d20a6",
            "68b8b207afe142e187cfff1fd0a731df",
            "cf9def02dfb64defbe6b98a50a8adc5e",
            "fab4de912d0f490c9c7591852989573b",
            "c41013d76a22403d952b1ec1ab2f6e03",
            "89f982ee899a42d4a58105acfee2d4ed",
            "55be56915a484f91afa4bd30648ddb35",
            "722023e99c1b4a5f9eb5de1274ddf133",
            "baf7732bebce4f38bd297cd02d10dab1",
            "16042ca583f94f5b9760b145f3b9645c"
          ]
        },
        "id": "s0V6SwMKaKgf",
        "outputId": "74d7b008-9a09-489d-8069-8ca0537ae684"
      },
      "outputs": [
        {
          "name": "stderr",
          "output_type": "stream",
          "text": [
            "/usr/local/lib/python3.11/dist-packages/huggingface_hub/utils/_auth.py:94: UserWarning: \n",
            "The secret `HF_TOKEN` does not exist in your Colab secrets.\n",
            "To authenticate with the Hugging Face Hub, create a token in your settings tab (https://huggingface.co/settings/tokens), set it as secret in your Google Colab and restart your session.\n",
            "You will be able to reuse this secret in all of your notebooks.\n",
            "Please note that authentication is recommended but still optional to access public models or datasets.\n",
            "  warnings.warn(\n"
          ]
        },
        {
          "data": {
            "application/vnd.jupyter.widget-view+json": {
              "model_id": "d8c80c0fac624860873a17705c1b2743",
              "version_major": 2,
              "version_minor": 0
            },
            "text/plain": [
              "tokenizer_config.json:   0%|          | 0.00/25.0 [00:00<?, ?B/s]"
            ]
          },
          "metadata": {},
          "output_type": "display_data"
        },
        {
          "data": {
            "application/vnd.jupyter.widget-view+json": {
              "model_id": "f0eb95e127d44ed2b1f98193369e14a4",
              "version_major": 2,
              "version_minor": 0
            },
            "text/plain": [
              "config.json:   0%|          | 0.00/481 [00:00<?, ?B/s]"
            ]
          },
          "metadata": {},
          "output_type": "display_data"
        },
        {
          "data": {
            "application/vnd.jupyter.widget-view+json": {
              "model_id": "fc8ae204f845433bb8b736c3cb40aaed",
              "version_major": 2,
              "version_minor": 0
            },
            "text/plain": [
              "vocab.json:   0%|          | 0.00/899k [00:00<?, ?B/s]"
            ]
          },
          "metadata": {},
          "output_type": "display_data"
        },
        {
          "data": {
            "application/vnd.jupyter.widget-view+json": {
              "model_id": "b1c36ee3ba7744d9b3907cbe2aad482d",
              "version_major": 2,
              "version_minor": 0
            },
            "text/plain": [
              "merges.txt:   0%|          | 0.00/456k [00:00<?, ?B/s]"
            ]
          },
          "metadata": {},
          "output_type": "display_data"
        },
        {
          "data": {
            "application/vnd.jupyter.widget-view+json": {
              "model_id": "2dcc2ae0191f44f1a4dc6a88515af65a",
              "version_major": 2,
              "version_minor": 0
            },
            "text/plain": [
              "tokenizer.json:   0%|          | 0.00/1.36M [00:00<?, ?B/s]"
            ]
          },
          "metadata": {},
          "output_type": "display_data"
        },
        {
          "data": {
            "application/vnd.jupyter.widget-view+json": {
              "model_id": "bbd55e39a8d84f26aeaca02650b40a74",
              "version_major": 2,
              "version_minor": 0
            },
            "text/plain": [
              "Map:   0%|          | 0/15877 [00:00<?, ? examples/s]"
            ]
          },
          "metadata": {},
          "output_type": "display_data"
        }
      ],
      "source": [
        "from datasets import Dataset\n",
        "from transformers import AutoTokenizer\n",
        "\n",
        "# Preprocess dataset for model input\n",
        "dataset = Dataset.from_pandas(final_data)\n",
        "\n",
        "# Load RoBERTa tokenizer\n",
        "tokenizer = AutoTokenizer.from_pretrained(\"roberta-base\")\n",
        "\n",
        "# tokenize\n",
        "def tokenize(example):\n",
        "    return tokenizer(\n",
        "        example[\"claim\"],\n",
        "        padding=\"max_length\",\n",
        "        truncation=True,\n",
        "        max_length=256\n",
        "    )\n",
        "\n",
        "tokenized_dataset = dataset.map(tokenize, batched=True)\n",
        "tokenized_dataset.set_format(\"torch\", columns=[\"input_ids\", \"attention_mask\", \"label\"])"
      ]
    },
    {
      "cell_type": "code",
      "execution_count": null,
      "metadata": {
        "id": "KH6UEflraY92"
      },
      "outputs": [],
      "source": [
        "from sklearn.model_selection import train_test_split\n",
        "\n",
        "# Split dataset into stratified train/test sets\n",
        "train_indices, test_indices = train_test_split(\n",
        "    range(len(final_data)),\n",
        "    test_size=0.2,\n",
        "    stratify=final_data[\"label\"],\n",
        "    random_state=42\n",
        ")\n",
        "\n",
        "# Train dataset\n",
        "train_dataset = tokenized_dataset.select(train_indices)\n",
        "# Test dataset\n",
        "test_dataset = tokenized_dataset.select(test_indices)"
      ]
    },
    {
      "cell_type": "code",
      "execution_count": null,
      "metadata": {
        "colab": {
          "base_uri": "https://localhost:8080/",
          "height": 138,
          "referenced_widgets": [
            "f5deef551fb443b0b1139fab6219cc42",
            "7376fc2c97be485fbf404f8b564f8ae6",
            "15db37b7eaec4463a9701e24eeef9ae4",
            "d7f1f530b1f241698883bce9c7406ae9",
            "caf951a621c74020954f80bfa14b7a71",
            "ff75f8eebce94c84b1032b79e94970ef",
            "e6c4c2fbfb7c44d4a3945e195c03c660",
            "f163cf85e74d437f883a4e0b1a4bfecd",
            "5a9aee7f17d04611b3bb9cc03beed811",
            "79915d9e6296480dae1d2dfb0bbedc66",
            "a53c597b7fa549f58f5188eb6adcb72f"
          ]
        },
        "id": "lL5OO8CpaZIi",
        "outputId": "5a7ea221-5e36-4b32-8dd4-c2b10f926dd4"
      },
      "outputs": [
        {
          "name": "stderr",
          "output_type": "stream",
          "text": [
            "Xet Storage is enabled for this repo, but the 'hf_xet' package is not installed. Falling back to regular HTTP download. For better performance, install the package with: `pip install huggingface_hub[hf_xet]` or `pip install hf_xet`\n",
            "WARNING:huggingface_hub.file_download:Xet Storage is enabled for this repo, but the 'hf_xet' package is not installed. Falling back to regular HTTP download. For better performance, install the package with: `pip install huggingface_hub[hf_xet]` or `pip install hf_xet`\n"
          ]
        },
        {
          "data": {
            "application/vnd.jupyter.widget-view+json": {
              "model_id": "f5deef551fb443b0b1139fab6219cc42",
              "version_major": 2,
              "version_minor": 0
            },
            "text/plain": [
              "model.safetensors:   0%|          | 0.00/499M [00:00<?, ?B/s]"
            ]
          },
          "metadata": {},
          "output_type": "display_data"
        },
        {
          "name": "stderr",
          "output_type": "stream",
          "text": [
            "Some weights of RobertaForSequenceClassification were not initialized from the model checkpoint at roberta-base and are newly initialized: ['classifier.dense.bias', 'classifier.dense.weight', 'classifier.out_proj.bias', 'classifier.out_proj.weight']\n",
            "You should probably TRAIN this model on a down-stream task to be able to use it for predictions and inference.\n"
          ]
        }
      ],
      "source": [
        "from transformers import AutoModelForSequenceClassification\n",
        "\n",
        "# Load RoBERTa model for binary classification\n",
        "model = AutoModelForSequenceClassification.from_pretrained(\n",
        "    \"roberta-base\",\n",
        "    num_labels=2\n",
        ")"
      ]
    },
    {
      "cell_type": "code",
      "execution_count": null,
      "metadata": {
        "id": "QVVOpwG7aZQW"
      },
      "outputs": [],
      "source": [
        "from sklearn.metrics import accuracy_score, precision_recall_fscore_support, confusion_matrix\n",
        "import numpy as np\n",
        "\n",
        "# Define evaluation metrics: accuracy, precision, recall, F1, and print confusion matrix\n",
        "def compute_metrics(eval_pred):\n",
        "    logits, labels = eval_pred\n",
        "    preds = np.argmax(logits, axis=-1)\n",
        "    precision, recall, f1, _ = precision_recall_fscore_support(labels, preds, average=\"binary\", zero_division=0)\n",
        "    acc = accuracy_score(labels, preds)\n",
        "    cm = confusion_matrix(labels, preds)\n",
        "    print(\"\\nConfusion Matrix:\\n\", cm)\n",
        "    return {\n",
        "        \"accuracy\": acc,\n",
        "        \"precision\": precision,\n",
        "        \"recall\": recall,\n",
        "        \"f1\": f1\n",
        "    }"
      ]
    },
    {
      "cell_type": "code",
      "execution_count": null,
      "metadata": {
        "colab": {
          "base_uri": "https://localhost:8080/"
        },
        "id": "grw5YPT3aZcQ",
        "outputId": "cbeeb46b-684c-48cf-faef-b6c98264bcc6"
      },
      "outputs": [
        {
          "name": "stderr",
          "output_type": "stream",
          "text": [
            "Using the `WANDB_DISABLED` environment variable is deprecated and will be removed in v5. Use the --report_to flag to control the integrations used for logging result (for instance --report_to none).\n"
          ]
        }
      ],
      "source": [
        "from transformers import TrainingArguments, Trainer\n",
        "\n",
        "# Define TrainingArguments\n",
        "training_args = TrainingArguments(\n",
        "    output_dir=\"./roberta_results\",\n",
        "    eval_strategy=\"epoch\",\n",
        "    save_strategy=\"epoch\",\n",
        "    learning_rate=2e-5,\n",
        "    per_device_train_batch_size=16,\n",
        "    per_device_eval_batch_size=16,\n",
        "    num_train_epochs=3,\n",
        "    weight_decay=0.01,\n",
        "    logging_dir=\"./logs\",\n",
        "    load_best_model_at_end=True,\n",
        "    metric_for_best_model=\"f1\"\n",
        ")\n",
        "\n",
        "# Initialize Trainer with model, data, and metrics\n",
        "trainer = Trainer(\n",
        "    model=model,\n",
        "    args=training_args,\n",
        "    train_dataset=train_dataset,\n",
        "    eval_dataset=test_dataset,\n",
        "    compute_metrics=compute_metrics\n",
        ")"
      ]
    },
    {
      "cell_type": "code",
      "execution_count": null,
      "metadata": {
        "colab": {
          "base_uri": "https://localhost:8080/",
          "height": 504
        },
        "id": "iDnoarAMa6o9",
        "outputId": "7a8dfa78-7e47-4bb8-e76f-152287bbf8aa"
      },
      "outputs": [
        {
          "data": {
            "text/html": [
              "\n",
              "    <div>\n",
              "      \n",
              "      <progress value='2382' max='2382' style='width:300px; height:20px; vertical-align: middle;'></progress>\n",
              "      [2382/2382 27:50, Epoch 3/3]\n",
              "    </div>\n",
              "    <table border=\"1\" class=\"dataframe\">\n",
              "  <thead>\n",
              " <tr style=\"text-align: left;\">\n",
              "      <th>Epoch</th>\n",
              "      <th>Training Loss</th>\n",
              "      <th>Validation Loss</th>\n",
              "      <th>Accuracy</th>\n",
              "      <th>Precision</th>\n",
              "      <th>Recall</th>\n",
              "      <th>F1</th>\n",
              "    </tr>\n",
              "  </thead>\n",
              "  <tbody>\n",
              "    <tr>\n",
              "      <td>1</td>\n",
              "      <td>0.383600</td>\n",
              "      <td>0.263382</td>\n",
              "      <td>0.869647</td>\n",
              "      <td>0.898854</td>\n",
              "      <td>0.834690</td>\n",
              "      <td>0.865584</td>\n",
              "    </tr>\n",
              "    <tr>\n",
              "      <td>2</td>\n",
              "      <td>0.243400</td>\n",
              "      <td>0.278775</td>\n",
              "      <td>0.869332</td>\n",
              "      <td>0.874525</td>\n",
              "      <td>0.864120</td>\n",
              "      <td>0.869291</td>\n",
              "    </tr>\n",
              "    <tr>\n",
              "      <td>3</td>\n",
              "      <td>0.191700</td>\n",
              "      <td>0.331745</td>\n",
              "      <td>0.875000</td>\n",
              "      <td>0.873599</td>\n",
              "      <td>0.878522</td>\n",
              "      <td>0.876054</td>\n",
              "    </tr>\n",
              "  </tbody>\n",
              "</table><p>"
            ],
            "text/plain": [
              "<IPython.core.display.HTML object>"
            ]
          },
          "metadata": {},
          "output_type": "display_data"
        },
        {
          "name": "stdout",
          "output_type": "stream",
          "text": [
            "\n",
            "Confusion Matrix:\n",
            " [[1429  150]\n",
            " [ 264 1333]]\n",
            "\n",
            "Confusion Matrix:\n",
            " [[1381  198]\n",
            " [ 217 1380]]\n",
            "\n",
            "Confusion Matrix:\n",
            " [[1376  203]\n",
            " [ 194 1403]]\n"
          ]
        },
        {
          "data": {
            "text/html": [
              "\n",
              "    <div>\n",
              "      \n",
              "      <progress value='199' max='199' style='width:300px; height:20px; vertical-align: middle;'></progress>\n",
              "      [199/199 00:36]\n",
              "    </div>\n",
              "    "
            ],
            "text/plain": [
              "<IPython.core.display.HTML object>"
            ]
          },
          "metadata": {},
          "output_type": "display_data"
        },
        {
          "name": "stdout",
          "output_type": "stream",
          "text": [
            "\n",
            "Confusion Matrix:\n",
            " [[1376  203]\n",
            " [ 194 1403]]\n",
            "{'eval_loss': 0.3317449390888214, 'eval_accuracy': 0.875, 'eval_precision': 0.8735990037359901, 'eval_recall': 0.878522229179712, 'eval_f1': 0.876053699656572, 'eval_runtime': 36.9029, 'eval_samples_per_second': 86.064, 'eval_steps_per_second': 5.393, 'epoch': 3.0}\n"
          ]
        }
      ],
      "source": [
        "# Train the model\n",
        "trainer.train()\n",
        "\n",
        "# Evaluate model's performance on the test set\n",
        "results = trainer.evaluate()\n",
        "print(results)"
      ]
    },
    {
      "cell_type": "code",
      "execution_count": null,
      "metadata": {
        "colab": {
          "base_uri": "https://localhost:8080/",
          "height": 86
        },
        "id": "cinH2nL2bIi9",
        "outputId": "ce1e8cc2-6fb8-42a1-c38d-2b2d752aadb1"
      },
      "outputs": [
        {
          "data": {
            "text/html": [],
            "text/plain": [
              "<IPython.core.display.HTML object>"
            ]
          },
          "metadata": {},
          "output_type": "display_data"
        },
        {
          "name": "stdout",
          "output_type": "stream",
          "text": [
            "\n",
            "Confusion Matrix:\n",
            " [[1376  203]\n",
            " [ 194 1403]]\n"
          ]
        }
      ],
      "source": [
        "# Generate predictions and extract true/predicted labels\n",
        "predictions = trainer.predict(test_dataset)\n",
        "y_true = predictions.label_ids\n",
        "y_pred = np.argmax(predictions.predictions, axis=-1)"
      ]
    },
    {
      "cell_type": "code",
      "execution_count": null,
      "metadata": {
        "colab": {
          "base_uri": "https://localhost:8080/"
        },
        "id": "fKiekD3fag8t",
        "outputId": "8a89394d-fffc-415d-9d75-c891180d7e8e"
      },
      "outputs": [
        {
          "name": "stdout",
          "output_type": "stream",
          "text": [
            "\n",
            "🔷 Metrics per label:\n",
            "   label  precision    recall  f1_score  support\n",
            "0      0   0.876433  0.871438  0.873928     1579\n",
            "1      1   0.873599  0.878522  0.876054     1597\n"
          ]
        }
      ],
      "source": [
        "from sklearn.metrics import confusion_matrix, precision_recall_fscore_support\n",
        "\n",
        "# confusion matrix\n",
        "#cm = confusion_matrix(y_true, y_pred)\n",
        "\n",
        "# scores per label\n",
        "precision, recall, f1, support = precision_recall_fscore_support(\n",
        "    y_true, y_pred, labels=[0, 1], zero_division=0\n",
        ")\n",
        "\n",
        "# labele's scores dataframe\n",
        "metrics_df = pd.DataFrame({\n",
        "    \"label\": [0, 1],\n",
        "    \"precision\": precision,\n",
        "    \"recall\": recall,\n",
        "    \"f1_score\": f1,\n",
        "    \"support\": support\n",
        "})\n",
        "\n",
        "print(\"\\n🔷 Metrics per label:\")\n",
        "print(metrics_df)\n",
        "\n",
        "#metrics_df.to_csv(f\"{training_args.output_dir}/metrics_per_label.csv\", index=False)"
      ]
    },
    {
      "cell_type": "code",
      "execution_count": null,
      "metadata": {
        "colab": {
          "base_uri": "https://localhost:8080/",
          "height": 407
        },
        "id": "IS4LVFGCma0x",
        "outputId": "57e6c040-0d42-4b44-8103-4a1b969c72f2"
      },
      "outputs": [
        {
          "data": {
            "image/png": "[encoded data removed]",
            "text/plain": [
              "<Figure size 500x400 with 2 Axes>"
            ]
          },
          "metadata": {},
          "output_type": "display_data"
        }
      ],
      "source": [
        "# plot confusion matrix\n",
        "plot_confusion_matrix(y_true, y_pred, model_name=\"RoBERTa\")"
      ]
    },
    {
      "cell_type": "code",
      "execution_count": null,
      "metadata": {
        "id": "ao10oSdPgAfP"
      },
      "outputs": [],
      "source": []
    }
  ],
  "metadata": {
    "accelerator": "GPU",
    "colab": {
      "gpuType": "T4",
      "provenance": []
    },
    "kernelspec": {
      "display_name": "Python 3",
      "name": "python3"
    },
    "language_info": {
      "name": "python"
    }
  },
  "nbformat": 4,
  "nbformat_minor": 0
}
