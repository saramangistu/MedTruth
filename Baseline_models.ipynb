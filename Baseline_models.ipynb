{
  "nbformat": 4,
  "nbformat_minor": 0,
  "metadata": {
    "colab": {
      "provenance": []
    },
    "kernelspec": {
      "name": "python3",
      "display_name": "Python 3"
    },
    "language_info": {
      "name": "python"
    }
  },
  "cells": [
    {
      "cell_type": "code",
      "execution_count": null,
      "metadata": {
        "colab": {
          "base_uri": "https://localhost:8080/"
        },
        "collapsed": true,
        "id": "Q-nlImObvUFn",
        "outputId": "d3724665-e3a0-4271-922c-2820b367c1d3"
      },
      "outputs": [
        {
          "output_type": "stream",
          "name": "stdout",
          "text": [
            "Requirement already satisfied: NLTK in /usr/local/lib/python3.11/dist-packages (3.9.1)\n",
            "Requirement already satisfied: click in /usr/local/lib/python3.11/dist-packages (from NLTK) (8.2.0)\n",
            "Requirement already satisfied: joblib in /usr/local/lib/python3.11/dist-packages (from NLTK) (1.5.0)\n",
            "Requirement already satisfied: regex>=2021.8.3 in /usr/local/lib/python3.11/dist-packages (from NLTK) (2024.11.6)\n",
            "Requirement already satisfied: tqdm in /usr/local/lib/python3.11/dist-packages (from NLTK) (4.67.1)\n",
            "Requirement already satisfied: spaCy in /usr/local/lib/python3.11/dist-packages (3.8.5)\n",
            "Requirement already satisfied: spacy-legacy<3.1.0,>=3.0.11 in /usr/local/lib/python3.11/dist-packages (from spaCy) (3.0.12)\n",
            "Requirement already satisfied: spacy-loggers<2.0.0,>=1.0.0 in /usr/local/lib/python3.11/dist-packages (from spaCy) (1.0.5)\n",
            "Requirement already satisfied: murmurhash<1.1.0,>=0.28.0 in /usr/local/lib/python3.11/dist-packages (from spaCy) (1.0.12)\n",
            "Requirement already satisfied: cymem<2.1.0,>=2.0.2 in /usr/local/lib/python3.11/dist-packages (from spaCy) (2.0.11)\n",
            "Requirement already satisfied: preshed<3.1.0,>=3.0.2 in /usr/local/lib/python3.11/dist-packages (from spaCy) (3.0.9)\n",
            "Requirement already satisfied: thinc<8.4.0,>=8.3.4 in /usr/local/lib/python3.11/dist-packages (from spaCy) (8.3.6)\n",
            "Requirement already satisfied: wasabi<1.2.0,>=0.9.1 in /usr/local/lib/python3.11/dist-packages (from spaCy) (1.1.3)\n",
            "Requirement already satisfied: srsly<3.0.0,>=2.4.3 in /usr/local/lib/python3.11/dist-packages (from spaCy) (2.5.1)\n",
            "Requirement already satisfied: catalogue<2.1.0,>=2.0.6 in /usr/local/lib/python3.11/dist-packages (from spaCy) (2.0.10)\n",
            "Requirement already satisfied: weasel<0.5.0,>=0.1.0 in /usr/local/lib/python3.11/dist-packages (from spaCy) (0.4.1)\n",
            "Requirement already satisfied: typer<1.0.0,>=0.3.0 in /usr/local/lib/python3.11/dist-packages (from spaCy) (0.15.3)\n",
            "Requirement already satisfied: tqdm<5.0.0,>=4.38.0 in /usr/local/lib/python3.11/dist-packages (from spaCy) (4.67.1)\n",
            "Requirement already satisfied: numpy>=1.19.0 in /usr/local/lib/python3.11/dist-packages (from spaCy) (2.0.2)\n",
            "Requirement already satisfied: requests<3.0.0,>=2.13.0 in /usr/local/lib/python3.11/dist-packages (from spaCy) (2.32.3)\n",
            "Requirement already satisfied: pydantic!=1.8,!=1.8.1,<3.0.0,>=1.7.4 in /usr/local/lib/python3.11/dist-packages (from spaCy) (2.11.4)\n",
            "Requirement already satisfied: jinja2 in /usr/local/lib/python3.11/dist-packages (from spaCy) (3.1.6)\n",
            "Requirement already satisfied: setuptools in /usr/local/lib/python3.11/dist-packages (from spaCy) (75.2.0)\n",
            "Requirement already satisfied: packaging>=20.0 in /usr/local/lib/python3.11/dist-packages (from spaCy) (24.2)\n",
            "Requirement already satisfied: langcodes<4.0.0,>=3.2.0 in /usr/local/lib/python3.11/dist-packages (from spaCy) (3.5.0)\n",
            "Requirement already satisfied: language-data>=1.2 in /usr/local/lib/python3.11/dist-packages (from langcodes<4.0.0,>=3.2.0->spaCy) (1.3.0)\n",
            "Requirement already satisfied: annotated-types>=0.6.0 in /usr/local/lib/python3.11/dist-packages (from pydantic!=1.8,!=1.8.1,<3.0.0,>=1.7.4->spaCy) (0.7.0)\n",
            "Requirement already satisfied: pydantic-core==2.33.2 in /usr/local/lib/python3.11/dist-packages (from pydantic!=1.8,!=1.8.1,<3.0.0,>=1.7.4->spaCy) (2.33.2)\n",
            "Requirement already satisfied: typing-extensions>=4.12.2 in /usr/local/lib/python3.11/dist-packages (from pydantic!=1.8,!=1.8.1,<3.0.0,>=1.7.4->spaCy) (4.13.2)\n",
            "Requirement already satisfied: typing-inspection>=0.4.0 in /usr/local/lib/python3.11/dist-packages (from pydantic!=1.8,!=1.8.1,<3.0.0,>=1.7.4->spaCy) (0.4.0)\n",
            "Requirement already satisfied: charset-normalizer<4,>=2 in /usr/local/lib/python3.11/dist-packages (from requests<3.0.0,>=2.13.0->spaCy) (3.4.2)\n",
            "Requirement already satisfied: idna<4,>=2.5 in /usr/local/lib/python3.11/dist-packages (from requests<3.0.0,>=2.13.0->spaCy) (3.10)\n",
            "Requirement already satisfied: urllib3<3,>=1.21.1 in /usr/local/lib/python3.11/dist-packages (from requests<3.0.0,>=2.13.0->spaCy) (2.4.0)\n",
            "Requirement already satisfied: certifi>=2017.4.17 in /usr/local/lib/python3.11/dist-packages (from requests<3.0.0,>=2.13.0->spaCy) (2025.4.26)\n",
            "Requirement already satisfied: blis<1.4.0,>=1.3.0 in /usr/local/lib/python3.11/dist-packages (from thinc<8.4.0,>=8.3.4->spaCy) (1.3.0)\n",
            "Requirement already satisfied: confection<1.0.0,>=0.0.1 in /usr/local/lib/python3.11/dist-packages (from thinc<8.4.0,>=8.3.4->spaCy) (0.1.5)\n",
            "Requirement already satisfied: click>=8.0.0 in /usr/local/lib/python3.11/dist-packages (from typer<1.0.0,>=0.3.0->spaCy) (8.2.0)\n",
            "Requirement already satisfied: shellingham>=1.3.0 in /usr/local/lib/python3.11/dist-packages (from typer<1.0.0,>=0.3.0->spaCy) (1.5.4)\n",
            "Requirement already satisfied: rich>=10.11.0 in /usr/local/lib/python3.11/dist-packages (from typer<1.0.0,>=0.3.0->spaCy) (13.9.4)\n",
            "Requirement already satisfied: cloudpathlib<1.0.0,>=0.7.0 in /usr/local/lib/python3.11/dist-packages (from weasel<0.5.0,>=0.1.0->spaCy) (0.21.0)\n",
            "Requirement already satisfied: smart-open<8.0.0,>=5.2.1 in /usr/local/lib/python3.11/dist-packages (from weasel<0.5.0,>=0.1.0->spaCy) (7.1.0)\n",
            "Requirement already satisfied: MarkupSafe>=2.0 in /usr/local/lib/python3.11/dist-packages (from jinja2->spaCy) (3.0.2)\n",
            "Requirement already satisfied: marisa-trie>=1.1.0 in /usr/local/lib/python3.11/dist-packages (from language-data>=1.2->langcodes<4.0.0,>=3.2.0->spaCy) (1.2.1)\n",
            "Requirement already satisfied: markdown-it-py>=2.2.0 in /usr/local/lib/python3.11/dist-packages (from rich>=10.11.0->typer<1.0.0,>=0.3.0->spaCy) (3.0.0)\n",
            "Requirement already satisfied: pygments<3.0.0,>=2.13.0 in /usr/local/lib/python3.11/dist-packages (from rich>=10.11.0->typer<1.0.0,>=0.3.0->spaCy) (2.19.1)\n",
            "Requirement already satisfied: wrapt in /usr/local/lib/python3.11/dist-packages (from smart-open<8.0.0,>=5.2.1->weasel<0.5.0,>=0.1.0->spaCy) (1.17.2)\n",
            "Requirement already satisfied: mdurl~=0.1 in /usr/local/lib/python3.11/dist-packages (from markdown-it-py>=2.2.0->rich>=10.11.0->typer<1.0.0,>=0.3.0->spaCy) (0.1.2)\n",
            "Requirement already satisfied: tiktoken in /usr/local/lib/python3.11/dist-packages (0.9.0)\n",
            "Requirement already satisfied: regex>=2022.1.18 in /usr/local/lib/python3.11/dist-packages (from tiktoken) (2024.11.6)\n",
            "Requirement already satisfied: requests>=2.26.0 in /usr/local/lib/python3.11/dist-packages (from tiktoken) (2.32.3)\n",
            "Requirement already satisfied: charset-normalizer<4,>=2 in /usr/local/lib/python3.11/dist-packages (from requests>=2.26.0->tiktoken) (3.4.2)\n",
            "Requirement already satisfied: idna<4,>=2.5 in /usr/local/lib/python3.11/dist-packages (from requests>=2.26.0->tiktoken) (3.10)\n",
            "Requirement already satisfied: urllib3<3,>=1.21.1 in /usr/local/lib/python3.11/dist-packages (from requests>=2.26.0->tiktoken) (2.4.0)\n",
            "Requirement already satisfied: certifi>=2017.4.17 in /usr/local/lib/python3.11/dist-packages (from requests>=2.26.0->tiktoken) (2025.4.26)\n"
          ]
        }
      ],
      "source": [
        "!pip install NLTK\n",
        "!pip install spaCy\n",
        "!pip install tiktoken"
      ]
    },
    {
      "cell_type": "code",
      "source": [
        "import nltk\n",
        "nltk.download('punkt')\n",
        "import spacy\n",
        "import re\n",
        "import tiktoken\n",
        "import kagglehub\n",
        "import pandas as pd\n",
        "import os"
      ],
      "metadata": {
        "colab": {
          "base_uri": "https://localhost:8080/"
        },
        "id": "WuLXzsvavVmC",
        "outputId": "20eaf6b4-f1ca-44c6-c3f8-bf72bc21cd8f"
      },
      "execution_count": 1,
      "outputs": [
        {
          "output_type": "stream",
          "name": "stderr",
          "text": [
            "[nltk_data] Downloading package punkt to /root/nltk_data...\n",
            "[nltk_data]   Unzipping tokenizers/punkt.zip.\n"
          ]
        }
      ]
    },
    {
      "cell_type": "markdown",
      "source": [
        "# Load datasets"
      ],
      "metadata": {
        "id": "6EO3qL_8lcoS"
      }
    },
    {
      "cell_type": "markdown",
      "source": [
        "## COVID"
      ],
      "metadata": {
        "id": "jVhtuvCwCUW-"
      }
    },
    {
      "cell_type": "code",
      "source": [
        "path = kagglehub.dataset_download(\"elvinagammed/covid19-fake-news-dataset-nlp\")"
      ],
      "metadata": {
        "id": "O1phv8_CvXmZ",
        "colab": {
          "base_uri": "https://localhost:8080/"
        },
        "outputId": "fee91164-aff4-4ace-9606-0e479ab00ef2"
      },
      "execution_count": 2,
      "outputs": [
        {
          "output_type": "stream",
          "name": "stdout",
          "text": [
            "Downloading from https://www.kaggle.com/api/v1/datasets/download/elvinagammed/covid19-fake-news-dataset-nlp?dataset_version_number=1...\n"
          ]
        },
        {
          "output_type": "stream",
          "name": "stderr",
          "text": [
            "100%|██████████| 1.67M/1.67M [00:00<00:00, 108MB/s]"
          ]
        },
        {
          "output_type": "stream",
          "name": "stdout",
          "text": [
            "Extracting files...\n"
          ]
        },
        {
          "output_type": "stream",
          "name": "stderr",
          "text": [
            "\n"
          ]
        }
      ]
    },
    {
      "cell_type": "code",
      "source": [
        "files = os.listdir(path)\n",
        "print(files)"
      ],
      "metadata": {
        "colab": {
          "base_uri": "https://localhost:8080/"
        },
        "id": "fmC9N9Q7vb-J",
        "outputId": "66f74fd2-f342-4dea-a288-90d58ea060b5"
      },
      "execution_count": 3,
      "outputs": [
        {
          "output_type": "stream",
          "name": "stdout",
          "text": [
            "['Constraint_Test.xlsx', 'Constraint_Train.csv', 'english_test_with_labels.csv', 'Constraint_Val.csv', 'Constraint_Test.csv', 'Constraint_Train.xlsx', 'test_ernie2.0_results.csv']\n"
          ]
        }
      ]
    },
    {
      "cell_type": "code",
      "source": [
        "# Train data\n",
        "# ONLY TRAIN DATA WILL BE TAKEN FOR THE PROJECT\n",
        "csv_file = f\"{path}/Constraint_Train.csv\"\n",
        "covid_train = pd.read_csv(csv_file, encoding='latin-1')\n",
        "covid_train = covid_train[['tweet', 'label']]\n",
        "covid_train.label.value_counts()"
      ],
      "metadata": {
        "colab": {
          "base_uri": "https://localhost:8080/",
          "height": 178
        },
        "id": "wz9H26BmvhJB",
        "outputId": "ea2cba61-5004-4530-bc19-bfcd3bf098b0"
      },
      "execution_count": 4,
      "outputs": [
        {
          "output_type": "execute_result",
          "data": {
            "text/plain": [
              "label\n",
              "real    3360\n",
              "fake    3060\n",
              "Name: count, dtype: int64"
            ],
            "text/html": [
              "<div>\n",
              "<style scoped>\n",
              "    .dataframe tbody tr th:only-of-type {\n",
              "        vertical-align: middle;\n",
              "    }\n",
              "\n",
              "    .dataframe tbody tr th {\n",
              "        vertical-align: top;\n",
              "    }\n",
              "\n",
              "    .dataframe thead th {\n",
              "        text-align: right;\n",
              "    }\n",
              "</style>\n",
              "<table border=\"1\" class=\"dataframe\">\n",
              "  <thead>\n",
              "    <tr style=\"text-align: right;\">\n",
              "      <th></th>\n",
              "      <th>count</th>\n",
              "    </tr>\n",
              "    <tr>\n",
              "      <th>label</th>\n",
              "      <th></th>\n",
              "    </tr>\n",
              "  </thead>\n",
              "  <tbody>\n",
              "    <tr>\n",
              "      <th>real</th>\n",
              "      <td>3360</td>\n",
              "    </tr>\n",
              "    <tr>\n",
              "      <th>fake</th>\n",
              "      <td>3060</td>\n",
              "    </tr>\n",
              "  </tbody>\n",
              "</table>\n",
              "</div><br><label><b>dtype:</b> int64</label>"
            ]
          },
          "metadata": {},
          "execution_count": 4
        }
      ]
    },
    {
      "cell_type": "code",
      "source": [
        "# Test data - NOT USED\n",
        "#csv_file = f\"{path}/english_test_with_labels.csv\"  # החלף בשם הקובץ האמיתי\n",
        "#covid_test = pd.read_csv(csv_file, encoding='latin-1')\n",
        "#covid_test = covid_test[['tweet', 'label']]\n",
        "#covid_test.label.value_counts()"
      ],
      "metadata": {
        "id": "NUbE6F39vmg6"
      },
      "execution_count": 5,
      "outputs": []
    },
    {
      "cell_type": "code",
      "source": [
        "# Validation data _ NOT USED\n",
        "#csv_file = f\"{path}/Constraint_Val.csv\"\n",
        "#covid_val = pd.read_csv(csv_file, encoding='latin-1')\n",
        "#covid_val = covid_val[['tweet', 'label']]\n",
        "#covid_val.shape"
      ],
      "metadata": {
        "id": "gIZDuTenv6dQ"
      },
      "execution_count": 6,
      "outputs": []
    },
    {
      "cell_type": "code",
      "source": [
        "#covid_all = pd.concat([covid_train,covid_test,covid_val], ignore_index=True)\n",
        "covid_all = covid_train\n",
        "covid_all['label'] = ['false' if (str(i) == 'fake') else 'true' if (str(i) == 'real') else str(i) for i in covid_all.label]\n",
        "covid_all.columns = ['claim', 'label']\n",
        "covid_all.label.value_counts(normalize=True)"
      ],
      "metadata": {
        "colab": {
          "base_uri": "https://localhost:8080/",
          "height": 178
        },
        "id": "jsV5XNZdmCoZ",
        "outputId": "906ba921-acb0-4adb-9783-02213906b99e"
      },
      "execution_count": 7,
      "outputs": [
        {
          "output_type": "execute_result",
          "data": {
            "text/plain": [
              "label\n",
              "true     0.523364\n",
              "false    0.476636\n",
              "Name: proportion, dtype: float64"
            ],
            "text/html": [
              "<div>\n",
              "<style scoped>\n",
              "    .dataframe tbody tr th:only-of-type {\n",
              "        vertical-align: middle;\n",
              "    }\n",
              "\n",
              "    .dataframe tbody tr th {\n",
              "        vertical-align: top;\n",
              "    }\n",
              "\n",
              "    .dataframe thead th {\n",
              "        text-align: right;\n",
              "    }\n",
              "</style>\n",
              "<table border=\"1\" class=\"dataframe\">\n",
              "  <thead>\n",
              "    <tr style=\"text-align: right;\">\n",
              "      <th></th>\n",
              "      <th>proportion</th>\n",
              "    </tr>\n",
              "    <tr>\n",
              "      <th>label</th>\n",
              "      <th></th>\n",
              "    </tr>\n",
              "  </thead>\n",
              "  <tbody>\n",
              "    <tr>\n",
              "      <th>true</th>\n",
              "      <td>0.523364</td>\n",
              "    </tr>\n",
              "    <tr>\n",
              "      <th>false</th>\n",
              "      <td>0.476636</td>\n",
              "    </tr>\n",
              "  </tbody>\n",
              "</table>\n",
              "</div><br><label><b>dtype:</b> float64</label>"
            ]
          },
          "metadata": {},
          "execution_count": 7
        }
      ]
    },
    {
      "cell_type": "markdown",
      "source": [
        "## Pubhealth"
      ],
      "metadata": {
        "id": "SfvJNwd8DbiG"
      }
    },
    {
      "cell_type": "code",
      "source": [
        "path = kagglehub.dataset_download(\"ersindemirel/pubhealthdataset\")\n",
        "print(\"Path to dataset files:\", path)"
      ],
      "metadata": {
        "colab": {
          "base_uri": "https://localhost:8080/"
        },
        "id": "O6rxTT4TNzBu",
        "outputId": "e57d7cfd-962f-40de-fb10-32348e235577"
      },
      "execution_count": 8,
      "outputs": [
        {
          "output_type": "stream",
          "name": "stdout",
          "text": [
            "Downloading from https://www.kaggle.com/api/v1/datasets/download/ersindemirel/pubhealthdataset?dataset_version_number=1...\n"
          ]
        },
        {
          "output_type": "stream",
          "name": "stderr",
          "text": [
            "100%|██████████| 21.6M/21.6M [00:00<00:00, 139MB/s]"
          ]
        },
        {
          "output_type": "stream",
          "name": "stdout",
          "text": [
            "Extracting files...\n"
          ]
        },
        {
          "output_type": "stream",
          "name": "stderr",
          "text": [
            "\n"
          ]
        },
        {
          "output_type": "stream",
          "name": "stdout",
          "text": [
            "Path to dataset files: /root/.cache/kagglehub/datasets/ersindemirel/pubhealthdataset/versions/1\n"
          ]
        }
      ]
    },
    {
      "cell_type": "code",
      "source": [
        "files = os.listdir(path)\n",
        "print(files)"
      ],
      "metadata": {
        "colab": {
          "base_uri": "https://localhost:8080/"
        },
        "id": "hi8GRsMNOWp5",
        "outputId": "da1991c3-86f5-411d-c60b-6b892a7145c8"
      },
      "execution_count": 9,
      "outputs": [
        {
          "output_type": "stream",
          "name": "stdout",
          "text": [
            "['train.tsv', 'test.tsv']\n"
          ]
        }
      ]
    },
    {
      "cell_type": "code",
      "source": [
        "# Train data\n",
        "csv_file = f\"{path}/train.tsv\"\n",
        "pubhealth_train = pd.read_csv(csv_file, sep='\\t')\n",
        "pubhealth_train = pubhealth_train[pubhealth_train.label.isin(['false', 'true'])]\n",
        "pubhealth_train.label.value_counts()"
      ],
      "metadata": {
        "colab": {
          "base_uri": "https://localhost:8080/",
          "height": 178
        },
        "id": "b4ZGQCyvOe7B",
        "outputId": "68a27508-6998-415c-a434-00ea1e11a120"
      },
      "execution_count": 10,
      "outputs": [
        {
          "output_type": "execute_result",
          "data": {
            "text/plain": [
              "label\n",
              "true     5078\n",
              "false    3001\n",
              "Name: count, dtype: int64"
            ],
            "text/html": [
              "<div>\n",
              "<style scoped>\n",
              "    .dataframe tbody tr th:only-of-type {\n",
              "        vertical-align: middle;\n",
              "    }\n",
              "\n",
              "    .dataframe tbody tr th {\n",
              "        vertical-align: top;\n",
              "    }\n",
              "\n",
              "    .dataframe thead th {\n",
              "        text-align: right;\n",
              "    }\n",
              "</style>\n",
              "<table border=\"1\" class=\"dataframe\">\n",
              "  <thead>\n",
              "    <tr style=\"text-align: right;\">\n",
              "      <th></th>\n",
              "      <th>count</th>\n",
              "    </tr>\n",
              "    <tr>\n",
              "      <th>label</th>\n",
              "      <th></th>\n",
              "    </tr>\n",
              "  </thead>\n",
              "  <tbody>\n",
              "    <tr>\n",
              "      <th>true</th>\n",
              "      <td>5078</td>\n",
              "    </tr>\n",
              "    <tr>\n",
              "      <th>false</th>\n",
              "      <td>3001</td>\n",
              "    </tr>\n",
              "  </tbody>\n",
              "</table>\n",
              "</div><br><label><b>dtype:</b> int64</label>"
            ]
          },
          "metadata": {},
          "execution_count": 10
        }
      ]
    },
    {
      "cell_type": "code",
      "source": [
        "# Test data\n",
        "csv_file = f\"{path}/test.tsv\"\n",
        "pubhealth_test = pd.read_csv(csv_file, sep='\\t')\n",
        "pubhealth_test = pubhealth_test[pubhealth_test.label.isin(['false', 'true'])]\n",
        "pubhealth_test.label.value_counts()"
      ],
      "metadata": {
        "colab": {
          "base_uri": "https://localhost:8080/",
          "height": 178
        },
        "id": "vBGQb0n8OjWc",
        "outputId": "4c51bf70-7240-45cc-9773-2c457c58cfc2"
      },
      "execution_count": 11,
      "outputs": [
        {
          "output_type": "execute_result",
          "data": {
            "text/plain": [
              "label\n",
              "true     599\n",
              "false    388\n",
              "Name: count, dtype: int64"
            ],
            "text/html": [
              "<div>\n",
              "<style scoped>\n",
              "    .dataframe tbody tr th:only-of-type {\n",
              "        vertical-align: middle;\n",
              "    }\n",
              "\n",
              "    .dataframe tbody tr th {\n",
              "        vertical-align: top;\n",
              "    }\n",
              "\n",
              "    .dataframe thead th {\n",
              "        text-align: right;\n",
              "    }\n",
              "</style>\n",
              "<table border=\"1\" class=\"dataframe\">\n",
              "  <thead>\n",
              "    <tr style=\"text-align: right;\">\n",
              "      <th></th>\n",
              "      <th>count</th>\n",
              "    </tr>\n",
              "    <tr>\n",
              "      <th>label</th>\n",
              "      <th></th>\n",
              "    </tr>\n",
              "  </thead>\n",
              "  <tbody>\n",
              "    <tr>\n",
              "      <th>true</th>\n",
              "      <td>599</td>\n",
              "    </tr>\n",
              "    <tr>\n",
              "      <th>false</th>\n",
              "      <td>388</td>\n",
              "    </tr>\n",
              "  </tbody>\n",
              "</table>\n",
              "</div><br><label><b>dtype:</b> int64</label>"
            ]
          },
          "metadata": {},
          "execution_count": 11
        }
      ]
    },
    {
      "cell_type": "code",
      "source": [
        "pubhealth_all = pd.concat([pubhealth_train,pubhealth_test], ignore_index=True)\n",
        "pubhealth_all = pubhealth_all[['claim', 'label']]\n",
        "pubhealth_all.label.value_counts(normalize=True)"
      ],
      "metadata": {
        "colab": {
          "base_uri": "https://localhost:8080/",
          "height": 178
        },
        "id": "81N2Y2lqDbLh",
        "outputId": "8ed252a4-8bf4-4d9d-be6e-d3fb30cca9d9"
      },
      "execution_count": 12,
      "outputs": [
        {
          "output_type": "execute_result",
          "data": {
            "text/plain": [
              "label\n",
              "true     0.626186\n",
              "false    0.373814\n",
              "Name: proportion, dtype: float64"
            ],
            "text/html": [
              "<div>\n",
              "<style scoped>\n",
              "    .dataframe tbody tr th:only-of-type {\n",
              "        vertical-align: middle;\n",
              "    }\n",
              "\n",
              "    .dataframe tbody tr th {\n",
              "        vertical-align: top;\n",
              "    }\n",
              "\n",
              "    .dataframe thead th {\n",
              "        text-align: right;\n",
              "    }\n",
              "</style>\n",
              "<table border=\"1\" class=\"dataframe\">\n",
              "  <thead>\n",
              "    <tr style=\"text-align: right;\">\n",
              "      <th></th>\n",
              "      <th>proportion</th>\n",
              "    </tr>\n",
              "    <tr>\n",
              "      <th>label</th>\n",
              "      <th></th>\n",
              "    </tr>\n",
              "  </thead>\n",
              "  <tbody>\n",
              "    <tr>\n",
              "      <th>true</th>\n",
              "      <td>0.626186</td>\n",
              "    </tr>\n",
              "    <tr>\n",
              "      <th>false</th>\n",
              "      <td>0.373814</td>\n",
              "    </tr>\n",
              "  </tbody>\n",
              "</table>\n",
              "</div><br><label><b>dtype:</b> float64</label>"
            ]
          },
          "metadata": {},
          "execution_count": 12
        }
      ]
    },
    {
      "cell_type": "markdown",
      "source": [
        "## Misinformation-Detection"
      ],
      "metadata": {
        "id": "PnAVevdtIO5b"
      }
    },
    {
      "cell_type": "code",
      "source": [
        "!git clone https://github.com/HLR/Misinformation-Detection.git"
      ],
      "metadata": {
        "colab": {
          "base_uri": "https://localhost:8080/"
        },
        "id": "kkyxy4S7DbIE",
        "outputId": "f5c90b20-4c7d-45e7-c64b-468d4a68c4a8"
      },
      "execution_count": 13,
      "outputs": [
        {
          "output_type": "stream",
          "name": "stdout",
          "text": [
            "Cloning into 'Misinformation-Detection'...\n",
            "remote: Enumerating objects: 833, done.\u001b[K\n",
            "remote: Counting objects: 100% (833/833), done.\u001b[K\n",
            "remote: Compressing objects: 100% (506/506), done.\u001b[K\n",
            "remote: Total 833 (delta 326), reused 824 (delta 322), pack-reused 0 (from 0)\u001b[K\n",
            "Receiving objects: 100% (833/833), 6.31 MiB | 20.70 MiB/s, done.\n",
            "Resolving deltas: 100% (326/326), done.\n"
          ]
        }
      ]
    },
    {
      "cell_type": "code",
      "source": [
        "misinfo_xlsx = ['/content/Misinformation-Detection/data/all.xlsx','/content/Misinformation-Detection/data/all_article.xlsx',\n",
        "       '/content/Misinformation-Detection/data/test.xlsx','/content/Misinformation-Detection/data/test_article.xlsx',\n",
        "       '/content/Misinformation-Detection/data/train.xlsx','/content/Misinformation-Detection/data/train_article.xlsx']\n",
        "misinfo_csv = ['/content/Misinformation-Detection/data/test_article_data_high.csv','/content/Misinformation-Detection/data/test_article_data_low.csv',\n",
        "        '/content/Misinformation-Detection/data/test_article_data_none.csv','/content/Misinformation-Detection/data/train_article_data_high.csv',\n",
        "        '/content/Misinformation-Detection/data/train_article_data_low.csv','/content/Misinformation-Detection/data/train_article_data_none.csv']\n",
        "\n"
      ],
      "metadata": {
        "id": "d_qKhrGBDbF1"
      },
      "execution_count": 14,
      "outputs": []
    },
    {
      "cell_type": "code",
      "source": [
        "def csv(file):\n",
        "  d = pd.read_csv(file)\n",
        "  d = d[['claim', 'label']]\n",
        "  return d\n",
        "\n",
        "def xlsx(file):\n",
        "  d = pd.read_excel(file)\n",
        "  d = d[['claim', 'claim_label']]\n",
        "  d.columns = ['claim', 'label']\n",
        "  return d\n",
        "\n",
        "gg = []\n",
        "for i in misinfo_xlsx:\n",
        "  g = xlsx(i)\n",
        "  gg.append(g)\n",
        "\n",
        "for i in misinfo_csv:\n",
        "  g = csv(i)\n",
        "  gg.append(g)"
      ],
      "metadata": {
        "id": "-O3vlfGwIzVs"
      },
      "execution_count": 15,
      "outputs": []
    },
    {
      "cell_type": "code",
      "source": [
        "misinfo = pd.concat(gg, ignore_index=True)\n",
        "misinfo['label'] = ['false' if (str(i) == 'false' or str(i) == 'False')\n",
        "                    else 'true' if (str(i) == 'True' or str(i) == 'true')\n",
        "                    else str(i) for i in misinfo.label]\n",
        "misinfo.drop_duplicates(ignore_index=True, inplace=True)\n",
        "misinfo = misinfo[misinfo.label.isin(['false', 'true'])]\n",
        "misinfo.label.value_counts()"
      ],
      "metadata": {
        "colab": {
          "base_uri": "https://localhost:8080/",
          "height": 178
        },
        "id": "lUzMsQxzJo5S",
        "outputId": "f3f483da-0590-4dcf-fa3c-2f293cdf9c69"
      },
      "execution_count": 16,
      "outputs": [
        {
          "output_type": "execute_result",
          "data": {
            "text/plain": [
              "label\n",
              "false    223\n",
              "true      87\n",
              "Name: count, dtype: int64"
            ],
            "text/html": [
              "<div>\n",
              "<style scoped>\n",
              "    .dataframe tbody tr th:only-of-type {\n",
              "        vertical-align: middle;\n",
              "    }\n",
              "\n",
              "    .dataframe tbody tr th {\n",
              "        vertical-align: top;\n",
              "    }\n",
              "\n",
              "    .dataframe thead th {\n",
              "        text-align: right;\n",
              "    }\n",
              "</style>\n",
              "<table border=\"1\" class=\"dataframe\">\n",
              "  <thead>\n",
              "    <tr style=\"text-align: right;\">\n",
              "      <th></th>\n",
              "      <th>count</th>\n",
              "    </tr>\n",
              "    <tr>\n",
              "      <th>label</th>\n",
              "      <th></th>\n",
              "    </tr>\n",
              "  </thead>\n",
              "  <tbody>\n",
              "    <tr>\n",
              "      <th>false</th>\n",
              "      <td>223</td>\n",
              "    </tr>\n",
              "    <tr>\n",
              "      <th>true</th>\n",
              "      <td>87</td>\n",
              "    </tr>\n",
              "  </tbody>\n",
              "</table>\n",
              "</div><br><label><b>dtype:</b> int64</label>"
            ]
          },
          "metadata": {},
          "execution_count": 16
        }
      ]
    },
    {
      "cell_type": "markdown",
      "source": [
        "# Final dataset"
      ],
      "metadata": {
        "id": "6tBgCH89oDL-"
      }
    },
    {
      "cell_type": "code",
      "source": [
        "all_data = pd.concat([covid_all,pubhealth_all,misinfo], ignore_index=True)\n",
        "all_data.drop_duplicates(ignore_index=True, inplace=True)\n",
        "all_data"
      ],
      "metadata": {
        "id": "Ik5xiWKSLPQn",
        "colab": {
          "base_uri": "https://localhost:8080/",
          "height": 423
        },
        "outputId": "0701969e-efd8-473d-b1d4-675f3611858d"
      },
      "execution_count": 17,
      "outputs": [
        {
          "output_type": "execute_result",
          "data": {
            "text/plain": [
              "                                                   claim  label\n",
              "0      The CDC currently reports 99031 deaths. In gen...   true\n",
              "1      States reported 1121 deaths a small rise from ...   true\n",
              "2      Politically Correct Woman (Almost) Uses Pandem...  false\n",
              "3      #IndiaFightsCorona: We have 1524 #COVID testin...   true\n",
              "4      Populous states can generate large case counts...   true\n",
              "...                                                  ...    ...\n",
              "15694  HIV infected needle at McDonald's in the ball pit  false\n",
              "15695  Authorities in Kenya warned of a new outbreak ...  false\n",
              "15696  \"Automobile components emit dangerous levels o...  false\n",
              "15697  Suave brand shampoos and conditioners contains...  false\n",
              "15698  A 12-year-old Wisconsin girl in died as a resu...  false\n",
              "\n",
              "[15699 rows x 2 columns]"
            ],
            "text/html": [
              "\n",
              "  <div id=\"df-7f9d2760-e2ff-4977-b290-890cbfa277cf\" class=\"colab-df-container\">\n",
              "    <div>\n",
              "<style scoped>\n",
              "    .dataframe tbody tr th:only-of-type {\n",
              "        vertical-align: middle;\n",
              "    }\n",
              "\n",
              "    .dataframe tbody tr th {\n",
              "        vertical-align: top;\n",
              "    }\n",
              "\n",
              "    .dataframe thead th {\n",
              "        text-align: right;\n",
              "    }\n",
              "</style>\n",
              "<table border=\"1\" class=\"dataframe\">\n",
              "  <thead>\n",
              "    <tr style=\"text-align: right;\">\n",
              "      <th></th>\n",
              "      <th>claim</th>\n",
              "      <th>label</th>\n",
              "    </tr>\n",
              "  </thead>\n",
              "  <tbody>\n",
              "    <tr>\n",
              "      <th>0</th>\n",
              "      <td>The CDC currently reports 99031 deaths. In gen...</td>\n",
              "      <td>true</td>\n",
              "    </tr>\n",
              "    <tr>\n",
              "      <th>1</th>\n",
              "      <td>States reported 1121 deaths a small rise from ...</td>\n",
              "      <td>true</td>\n",
              "    </tr>\n",
              "    <tr>\n",
              "      <th>2</th>\n",
              "      <td>Politically Correct Woman (Almost) Uses Pandem...</td>\n",
              "      <td>false</td>\n",
              "    </tr>\n",
              "    <tr>\n",
              "      <th>3</th>\n",
              "      <td>#IndiaFightsCorona: We have 1524 #COVID testin...</td>\n",
              "      <td>true</td>\n",
              "    </tr>\n",
              "    <tr>\n",
              "      <th>4</th>\n",
              "      <td>Populous states can generate large case counts...</td>\n",
              "      <td>true</td>\n",
              "    </tr>\n",
              "    <tr>\n",
              "      <th>...</th>\n",
              "      <td>...</td>\n",
              "      <td>...</td>\n",
              "    </tr>\n",
              "    <tr>\n",
              "      <th>15694</th>\n",
              "      <td>HIV infected needle at McDonald's in the ball pit</td>\n",
              "      <td>false</td>\n",
              "    </tr>\n",
              "    <tr>\n",
              "      <th>15695</th>\n",
              "      <td>Authorities in Kenya warned of a new outbreak ...</td>\n",
              "      <td>false</td>\n",
              "    </tr>\n",
              "    <tr>\n",
              "      <th>15696</th>\n",
              "      <td>\"Automobile components emit dangerous levels o...</td>\n",
              "      <td>false</td>\n",
              "    </tr>\n",
              "    <tr>\n",
              "      <th>15697</th>\n",
              "      <td>Suave brand shampoos and conditioners contains...</td>\n",
              "      <td>false</td>\n",
              "    </tr>\n",
              "    <tr>\n",
              "      <th>15698</th>\n",
              "      <td>A 12-year-old Wisconsin girl in died as a resu...</td>\n",
              "      <td>false</td>\n",
              "    </tr>\n",
              "  </tbody>\n",
              "</table>\n",
              "<p>15699 rows × 2 columns</p>\n",
              "</div>\n",
              "    <div class=\"colab-df-buttons\">\n",
              "\n",
              "  <div class=\"colab-df-container\">\n",
              "    <button class=\"colab-df-convert\" onclick=\"convertToInteractive('df-7f9d2760-e2ff-4977-b290-890cbfa277cf')\"\n",
              "            title=\"Convert this dataframe to an interactive table.\"\n",
              "            style=\"display:none;\">\n",
              "\n",
              "  <svg xmlns=\"http://www.w3.org/2000/svg\" height=\"24px\" viewBox=\"0 -960 960 960\">\n",
              "    <path d=\"M120-120v-720h720v720H120Zm60-500h600v-160H180v160Zm220 220h160v-160H400v160Zm0 220h160v-160H400v160ZM180-400h160v-160H180v160Zm440 0h160v-160H620v160ZM180-180h160v-160H180v160Zm440 0h160v-160H620v160Z\"/>\n",
              "  </svg>\n",
              "    </button>\n",
              "\n",
              "  <style>\n",
              "    .colab-df-container {\n",
              "      display:flex;\n",
              "      gap: 12px;\n",
              "    }\n",
              "\n",
              "    .colab-df-convert {\n",
              "      background-color: #E8F0FE;\n",
              "      border: none;\n",
              "      border-radius: 50%;\n",
              "      cursor: pointer;\n",
              "      display: none;\n",
              "      fill: #1967D2;\n",
              "      height: 32px;\n",
              "      padding: 0 0 0 0;\n",
              "      width: 32px;\n",
              "    }\n",
              "\n",
              "    .colab-df-convert:hover {\n",
              "      background-color: #E2EBFA;\n",
              "      box-shadow: 0px 1px 2px rgba(60, 64, 67, 0.3), 0px 1px 3px 1px rgba(60, 64, 67, 0.15);\n",
              "      fill: #174EA6;\n",
              "    }\n",
              "\n",
              "    .colab-df-buttons div {\n",
              "      margin-bottom: 4px;\n",
              "    }\n",
              "\n",
              "    [theme=dark] .colab-df-convert {\n",
              "      background-color: #3B4455;\n",
              "      fill: #D2E3FC;\n",
              "    }\n",
              "\n",
              "    [theme=dark] .colab-df-convert:hover {\n",
              "      background-color: #434B5C;\n",
              "      box-shadow: 0px 1px 3px 1px rgba(0, 0, 0, 0.15);\n",
              "      filter: drop-shadow(0px 1px 2px rgba(0, 0, 0, 0.3));\n",
              "      fill: #FFFFFF;\n",
              "    }\n",
              "  </style>\n",
              "\n",
              "    <script>\n",
              "      const buttonEl =\n",
              "        document.querySelector('#df-7f9d2760-e2ff-4977-b290-890cbfa277cf button.colab-df-convert');\n",
              "      buttonEl.style.display =\n",
              "        google.colab.kernel.accessAllowed ? 'block' : 'none';\n",
              "\n",
              "      async function convertToInteractive(key) {\n",
              "        const element = document.querySelector('#df-7f9d2760-e2ff-4977-b290-890cbfa277cf');\n",
              "        const dataTable =\n",
              "          await google.colab.kernel.invokeFunction('convertToInteractive',\n",
              "                                                    [key], {});\n",
              "        if (!dataTable) return;\n",
              "\n",
              "        const docLinkHtml = 'Like what you see? Visit the ' +\n",
              "          '<a target=\"_blank\" href=https://colab.research.google.com/notebooks/data_table.ipynb>data table notebook</a>'\n",
              "          + ' to learn more about interactive tables.';\n",
              "        element.innerHTML = '';\n",
              "        dataTable['output_type'] = 'display_data';\n",
              "        await google.colab.output.renderOutput(dataTable, element);\n",
              "        const docLink = document.createElement('div');\n",
              "        docLink.innerHTML = docLinkHtml;\n",
              "        element.appendChild(docLink);\n",
              "      }\n",
              "    </script>\n",
              "  </div>\n",
              "\n",
              "\n",
              "    <div id=\"df-5185314e-3457-4207-a6a0-fba5a658d29a\">\n",
              "      <button class=\"colab-df-quickchart\" onclick=\"quickchart('df-5185314e-3457-4207-a6a0-fba5a658d29a')\"\n",
              "                title=\"Suggest charts\"\n",
              "                style=\"display:none;\">\n",
              "\n",
              "<svg xmlns=\"http://www.w3.org/2000/svg\" height=\"24px\"viewBox=\"0 0 24 24\"\n",
              "     width=\"24px\">\n",
              "    <g>\n",
              "        <path d=\"M19 3H5c-1.1 0-2 .9-2 2v14c0 1.1.9 2 2 2h14c1.1 0 2-.9 2-2V5c0-1.1-.9-2-2-2zM9 17H7v-7h2v7zm4 0h-2V7h2v10zm4 0h-2v-4h2v4z\"/>\n",
              "    </g>\n",
              "</svg>\n",
              "      </button>\n",
              "\n",
              "<style>\n",
              "  .colab-df-quickchart {\n",
              "      --bg-color: #E8F0FE;\n",
              "      --fill-color: #1967D2;\n",
              "      --hover-bg-color: #E2EBFA;\n",
              "      --hover-fill-color: #174EA6;\n",
              "      --disabled-fill-color: #AAA;\n",
              "      --disabled-bg-color: #DDD;\n",
              "  }\n",
              "\n",
              "  [theme=dark] .colab-df-quickchart {\n",
              "      --bg-color: #3B4455;\n",
              "      --fill-color: #D2E3FC;\n",
              "      --hover-bg-color: #434B5C;\n",
              "      --hover-fill-color: #FFFFFF;\n",
              "      --disabled-bg-color: #3B4455;\n",
              "      --disabled-fill-color: #666;\n",
              "  }\n",
              "\n",
              "  .colab-df-quickchart {\n",
              "    background-color: var(--bg-color);\n",
              "    border: none;\n",
              "    border-radius: 50%;\n",
              "    cursor: pointer;\n",
              "    display: none;\n",
              "    fill: var(--fill-color);\n",
              "    height: 32px;\n",
              "    padding: 0;\n",
              "    width: 32px;\n",
              "  }\n",
              "\n",
              "  .colab-df-quickchart:hover {\n",
              "    background-color: var(--hover-bg-color);\n",
              "    box-shadow: 0 1px 2px rgba(60, 64, 67, 0.3), 0 1px 3px 1px rgba(60, 64, 67, 0.15);\n",
              "    fill: var(--button-hover-fill-color);\n",
              "  }\n",
              "\n",
              "  .colab-df-quickchart-complete:disabled,\n",
              "  .colab-df-quickchart-complete:disabled:hover {\n",
              "    background-color: var(--disabled-bg-color);\n",
              "    fill: var(--disabled-fill-color);\n",
              "    box-shadow: none;\n",
              "  }\n",
              "\n",
              "  .colab-df-spinner {\n",
              "    border: 2px solid var(--fill-color);\n",
              "    border-color: transparent;\n",
              "    border-bottom-color: var(--fill-color);\n",
              "    animation:\n",
              "      spin 1s steps(1) infinite;\n",
              "  }\n",
              "\n",
              "  @keyframes spin {\n",
              "    0% {\n",
              "      border-color: transparent;\n",
              "      border-bottom-color: var(--fill-color);\n",
              "      border-left-color: var(--fill-color);\n",
              "    }\n",
              "    20% {\n",
              "      border-color: transparent;\n",
              "      border-left-color: var(--fill-color);\n",
              "      border-top-color: var(--fill-color);\n",
              "    }\n",
              "    30% {\n",
              "      border-color: transparent;\n",
              "      border-left-color: var(--fill-color);\n",
              "      border-top-color: var(--fill-color);\n",
              "      border-right-color: var(--fill-color);\n",
              "    }\n",
              "    40% {\n",
              "      border-color: transparent;\n",
              "      border-right-color: var(--fill-color);\n",
              "      border-top-color: var(--fill-color);\n",
              "    }\n",
              "    60% {\n",
              "      border-color: transparent;\n",
              "      border-right-color: var(--fill-color);\n",
              "    }\n",
              "    80% {\n",
              "      border-color: transparent;\n",
              "      border-right-color: var(--fill-color);\n",
              "      border-bottom-color: var(--fill-color);\n",
              "    }\n",
              "    90% {\n",
              "      border-color: transparent;\n",
              "      border-bottom-color: var(--fill-color);\n",
              "    }\n",
              "  }\n",
              "</style>\n",
              "\n",
              "      <script>\n",
              "        async function quickchart(key) {\n",
              "          const quickchartButtonEl =\n",
              "            document.querySelector('#' + key + ' button');\n",
              "          quickchartButtonEl.disabled = true;  // To prevent multiple clicks.\n",
              "          quickchartButtonEl.classList.add('colab-df-spinner');\n",
              "          try {\n",
              "            const charts = await google.colab.kernel.invokeFunction(\n",
              "                'suggestCharts', [key], {});\n",
              "          } catch (error) {\n",
              "            console.error('Error during call to suggestCharts:', error);\n",
              "          }\n",
              "          quickchartButtonEl.classList.remove('colab-df-spinner');\n",
              "          quickchartButtonEl.classList.add('colab-df-quickchart-complete');\n",
              "        }\n",
              "        (() => {\n",
              "          let quickchartButtonEl =\n",
              "            document.querySelector('#df-5185314e-3457-4207-a6a0-fba5a658d29a button');\n",
              "          quickchartButtonEl.style.display =\n",
              "            google.colab.kernel.accessAllowed ? 'block' : 'none';\n",
              "        })();\n",
              "      </script>\n",
              "    </div>\n",
              "\n",
              "  <div id=\"id_6a751608-2b0a-44fa-bcdd-10b22a6dc837\">\n",
              "    <style>\n",
              "      .colab-df-generate {\n",
              "        background-color: #E8F0FE;\n",
              "        border: none;\n",
              "        border-radius: 50%;\n",
              "        cursor: pointer;\n",
              "        display: none;\n",
              "        fill: #1967D2;\n",
              "        height: 32px;\n",
              "        padding: 0 0 0 0;\n",
              "        width: 32px;\n",
              "      }\n",
              "\n",
              "      .colab-df-generate:hover {\n",
              "        background-color: #E2EBFA;\n",
              "        box-shadow: 0px 1px 2px rgba(60, 64, 67, 0.3), 0px 1px 3px 1px rgba(60, 64, 67, 0.15);\n",
              "        fill: #174EA6;\n",
              "      }\n",
              "\n",
              "      [theme=dark] .colab-df-generate {\n",
              "        background-color: #3B4455;\n",
              "        fill: #D2E3FC;\n",
              "      }\n",
              "\n",
              "      [theme=dark] .colab-df-generate:hover {\n",
              "        background-color: #434B5C;\n",
              "        box-shadow: 0px 1px 3px 1px rgba(0, 0, 0, 0.15);\n",
              "        filter: drop-shadow(0px 1px 2px rgba(0, 0, 0, 0.3));\n",
              "        fill: #FFFFFF;\n",
              "      }\n",
              "    </style>\n",
              "    <button class=\"colab-df-generate\" onclick=\"generateWithVariable('all_data')\"\n",
              "            title=\"Generate code using this dataframe.\"\n",
              "            style=\"display:none;\">\n",
              "\n",
              "  <svg xmlns=\"http://www.w3.org/2000/svg\" height=\"24px\"viewBox=\"0 0 24 24\"\n",
              "       width=\"24px\">\n",
              "    <path d=\"M7,19H8.4L18.45,9,17,7.55,7,17.6ZM5,21V16.75L18.45,3.32a2,2,0,0,1,2.83,0l1.4,1.43a1.91,1.91,0,0,1,.58,1.4,1.91,1.91,0,0,1-.58,1.4L9.25,21ZM18.45,9,17,7.55Zm-12,3A5.31,5.31,0,0,0,4.9,8.1,5.31,5.31,0,0,0,1,6.5,5.31,5.31,0,0,0,4.9,4.9,5.31,5.31,0,0,0,6.5,1,5.31,5.31,0,0,0,8.1,4.9,5.31,5.31,0,0,0,12,6.5,5.46,5.46,0,0,0,6.5,12Z\"/>\n",
              "  </svg>\n",
              "    </button>\n",
              "    <script>\n",
              "      (() => {\n",
              "      const buttonEl =\n",
              "        document.querySelector('#id_6a751608-2b0a-44fa-bcdd-10b22a6dc837 button.colab-df-generate');\n",
              "      buttonEl.style.display =\n",
              "        google.colab.kernel.accessAllowed ? 'block' : 'none';\n",
              "\n",
              "      buttonEl.onclick = () => {\n",
              "        google.colab.notebook.generateWithVariable('all_data');\n",
              "      }\n",
              "      })();\n",
              "    </script>\n",
              "  </div>\n",
              "\n",
              "    </div>\n",
              "  </div>\n"
            ],
            "application/vnd.google.colaboratory.intrinsic+json": {
              "type": "dataframe",
              "variable_name": "all_data",
              "summary": "{\n  \"name\": \"all_data\",\n  \"rows\": 15699,\n  \"fields\": [\n    {\n      \"column\": \"claim\",\n      \"properties\": {\n        \"dtype\": \"string\",\n        \"num_unique_values\": 15699,\n        \"samples\": [\n          \"\\\"Phase 3 trial of Bharat BioTech's COVAXIN to start in Lucknow and Gorakhpur\\\": Dr. Amish Pathak on COVID-19 Today on our IG channel. https://t.co/jyED1trjIl\\n\\n#COVID19 #COVID19India #pandemic\",\n          \"Clarification on the NZ COVID Tracer figures: Number of manual entries per day (7 day average): 16151 Number of manual entries in total: 137385\",\n          \" Keanu Reeves supposedly wrote\\u00a0an inspiring open letter about life and loss that has gone viral online. \"\n        ],\n        \"semantic_type\": \"\",\n        \"description\": \"\"\n      }\n    },\n    {\n      \"column\": \"label\",\n      \"properties\": {\n        \"dtype\": \"category\",\n        \"num_unique_values\": 2,\n        \"samples\": [\n          \"false\",\n          \"true\"\n        ],\n        \"semantic_type\": \"\",\n        \"description\": \"\"\n      }\n    }\n  ]\n}"
            }
          },
          "metadata": {},
          "execution_count": 17
        }
      ]
    },
    {
      "cell_type": "code",
      "source": [
        "# shuffeling dataset\n",
        "final_data = all_data.sample(frac=1, random_state=42).reset_index(drop=True)\n",
        "final_data.label.value_counts(normalize=True)"
      ],
      "metadata": {
        "colab": {
          "base_uri": "https://localhost:8080/",
          "height": 178
        },
        "id": "A6y61sK8PSlj",
        "outputId": "e0b4edba-28f2-4b83-da01-67ff32611142"
      },
      "execution_count": 19,
      "outputs": [
        {
          "output_type": "execute_result",
          "data": {
            "text/plain": [
              "label\n",
              "true     0.57991\n",
              "false    0.42009\n",
              "Name: proportion, dtype: float64"
            ],
            "text/html": [
              "<div>\n",
              "<style scoped>\n",
              "    .dataframe tbody tr th:only-of-type {\n",
              "        vertical-align: middle;\n",
              "    }\n",
              "\n",
              "    .dataframe tbody tr th {\n",
              "        vertical-align: top;\n",
              "    }\n",
              "\n",
              "    .dataframe thead th {\n",
              "        text-align: right;\n",
              "    }\n",
              "</style>\n",
              "<table border=\"1\" class=\"dataframe\">\n",
              "  <thead>\n",
              "    <tr style=\"text-align: right;\">\n",
              "      <th></th>\n",
              "      <th>proportion</th>\n",
              "    </tr>\n",
              "    <tr>\n",
              "      <th>label</th>\n",
              "      <th></th>\n",
              "    </tr>\n",
              "  </thead>\n",
              "  <tbody>\n",
              "    <tr>\n",
              "      <th>true</th>\n",
              "      <td>0.57991</td>\n",
              "    </tr>\n",
              "    <tr>\n",
              "      <th>false</th>\n",
              "      <td>0.42009</td>\n",
              "    </tr>\n",
              "  </tbody>\n",
              "</table>\n",
              "</div><br><label><b>dtype:</b> float64</label>"
            ]
          },
          "metadata": {},
          "execution_count": 19
        }
      ]
    },
    {
      "cell_type": "code",
      "source": [
        "# CSV saving\n",
        "#final_data.to_csv('final_data.csv', index=False)"
      ],
      "metadata": {
        "id": "Z7cgleVd0qTf"
      },
      "execution_count": 18,
      "outputs": []
    },
    {
      "cell_type": "markdown",
      "source": [
        "# EDA"
      ],
      "metadata": {
        "id": "fWcojyX8olhX"
      }
    },
    {
      "cell_type": "markdown",
      "source": [
        "## LABEL DISTRIBUTION PLOT"
      ],
      "metadata": {
        "id": "1TSMh8jgERB0"
      }
    },
    {
      "cell_type": "code",
      "source": [
        "import matplotlib.pyplot as plt\n",
        "import seaborn as sns\n",
        "\n",
        "plt.bar(final_data['label'].value_counts().index, final_data['label'].value_counts(normalize=True).values)\n",
        "plt.title('Label Distribution')\n",
        "plt.xlabel('Label')\n",
        "plt.ylabel('Count')\n",
        "plt.savefig('label_distribution.png')\n",
        "plt.show()"
      ],
      "metadata": {
        "colab": {
          "base_uri": "https://localhost:8080/",
          "height": 472
        },
        "id": "KMEw6UlkL_YZ",
        "outputId": "cee782a2-ba9d-4a27-ab56-3ba7ad66ee44"
      },
      "execution_count": 20,
      "outputs": [
        {
          "output_type": "display_data",
          "data": {
            "text/plain": [
              "<Figure size 640x480 with 1 Axes>"
            ],
            "image/png": "[encoded data removed]"
          },
          "metadata": {}
        }
      ]
    },
    {
      "cell_type": "markdown",
      "source": [
        "## DATA CLEANING"
      ],
      "metadata": {
        "id": "kOQyI25uEbRE"
      }
    },
    {
      "cell_type": "code",
      "source": [
        "import re\n",
        "import string\n",
        "import nltk\n",
        "from nltk.corpus import stopwords\n",
        "from nltk.stem import WordNetLemmatizer\n",
        "\n",
        "nltk.download('stopwords')\n",
        "nltk.download('wordnet')\n",
        "nltk.download('omw-1.4')\n",
        "\n",
        "def clean_text(text):\n",
        "    text = text.lower()\n",
        "    text = re.sub(r\"http\\S+|www\\S+|https\\S+\", '', text)\n",
        "    text = text.translate(str.maketrans('', '', string.punctuation))\n",
        "    tokens = text.split()\n",
        "    tokens = [word for word in tokens if word not in stopwords.words('english')]\n",
        "    lemmatizer = WordNetLemmatizer()\n",
        "    cleaned_tokens = [lemmatizer.lemmatize(word) for word in tokens]\n",
        "    return ' '.join(cleaned_tokens)\n",
        "\n",
        "final_data['clean_claim'] = final_data['claim'].apply(clean_text)"
      ],
      "metadata": {
        "colab": {
          "base_uri": "https://localhost:8080/"
        },
        "id": "wZKWhU8GL_b7",
        "outputId": "efddf292-12fa-4f09-8d61-fcd5932aa4d1"
      },
      "execution_count": 32,
      "outputs": [
        {
          "output_type": "stream",
          "name": "stderr",
          "text": [
            "[nltk_data] Downloading package stopwords to /root/nltk_data...\n",
            "[nltk_data]   Package stopwords is already up-to-date!\n",
            "[nltk_data] Downloading package wordnet to /root/nltk_data...\n",
            "[nltk_data]   Package wordnet is already up-to-date!\n",
            "[nltk_data] Downloading package omw-1.4 to /root/nltk_data...\n",
            "[nltk_data]   Package omw-1.4 is already up-to-date!\n"
          ]
        }
      ]
    },
    {
      "cell_type": "markdown",
      "source": [
        "## AVERAGE LENGTH OF POST/CLAIM"
      ],
      "metadata": {
        "id": "OK3IS2RsE_zz"
      }
    },
    {
      "cell_type": "code",
      "source": [
        "def average_words_per_text(texts):\n",
        "    lengths = [len(str(text).split()) for text in texts]\n",
        "    return sum(lengths) / len(lengths) if lengths else 0\n",
        "\n",
        "avg_words = average_words_per_text(final_data[\"clean_claim\"])\n",
        "print(f\"Average words per post: {avg_words:.2f}\")"
      ],
      "metadata": {
        "id": "fOvg7zf_ywix",
        "colab": {
          "base_uri": "https://localhost:8080/"
        },
        "outputId": "6b14b4e4-4285-4a57-d0f5-481eae5d34c7"
      },
      "execution_count": 33,
      "outputs": [
        {
          "output_type": "stream",
          "name": "stdout",
          "text": [
            "Average words per post: 12.30\n"
          ]
        }
      ]
    },
    {
      "cell_type": "markdown",
      "source": [
        "## TOP COMMON WORDS"
      ],
      "metadata": {
        "id": "k5HIFp3UFTlH"
      }
    },
    {
      "cell_type": "code",
      "source": [
        "from collections import Counter\n",
        "import re\n",
        "\n",
        "def get_top_words_by_label(texts, labels, top_n=20):\n",
        "\n",
        "    true_counter = Counter()\n",
        "    false_counter = Counter()\n",
        "\n",
        "    for text, label in zip(texts, labels):\n",
        "        words = clean_text(text).split()\n",
        "        if label.lower() == \"true\":\n",
        "            true_counter.update(words)\n",
        "        elif label.lower() == \"false\":\n",
        "            false_counter.update(words)\n",
        "\n",
        "    return true_counter.most_common(top_n), false_counter.most_common(top_n)\n",
        "\n",
        "top_true, top_false = get_top_words_by_label(final_data['clean_claim'].tolist(), final_data['label'].tolist())\n",
        "\n",
        "print(\"Top words in TRUE claims:\")\n",
        "print(top_true)\n",
        "\n",
        "print(\"\\nTop words in FALSE claims:\")\n",
        "print(top_false)"
      ],
      "metadata": {
        "id": "5XuIjXNytRKh",
        "colab": {
          "base_uri": "https://localhost:8080/"
        },
        "outputId": "fc8dc514-09ac-45b5-8692-21bd788d3457"
      },
      "execution_count": 34,
      "outputs": [
        {
          "output_type": "stream",
          "name": "stdout",
          "text": [
            "Top words in TRUE claims:\n",
            "[('covid19', 2202), ('case', 2038), ('new', 1282), ('test', 963), ('state', 949), ('death', 879), ('coronavirus', 742), ('number', 690), ('health', 686), ('people', 575), ('u', 567), ('total', 504), ('report', 495), ('say', 477), ('reported', 471), ('confirmed', 467), ('day', 447), ('testing', 447), ('amp', 412), ('study', 408)]\n",
            "\n",
            "Top words in FALSE claims:\n",
            "[('coronavirus', 1416), ('covid19', 1334), ('say', 620), ('new', 480), ('people', 463), ('trump', 380), ('u', 342), ('show', 336), ('health', 329), ('president', 324), ('vaccine', 321), ('virus', 297), ('claim', 291), ('death', 288), ('pandemic', 268), ('state', 267), ('case', 256), ('video', 253), ('test', 246), ('patient', 241)]\n"
          ]
        }
      ]
    },
    {
      "cell_type": "code",
      "source": [
        "import matplotlib.pyplot as plt\n",
        "import numpy as np\n",
        "\n",
        "def plot_top_words_dual_subplot(top_words_false, top_words_true):\n",
        "    words_false, counts_false = zip(*top_words_false)\n",
        "    words_true, counts_true = zip(*top_words_true)\n",
        "\n",
        "    fig, axes = plt.subplots(2, 1, figsize=(10, 10), sharey=True)\n",
        "\n",
        "    # False\n",
        "    axes[0].bar(words_false, counts_false, color='tomato')\n",
        "    axes[0].set_title(\"Top Words in 'False' Claims/Posts\")\n",
        "    axes[0].set_xlabel(\"Words\")\n",
        "    axes[0].set_ylabel(\"Frequency\")\n",
        "    axes[0].tick_params(axis='x', rotation=45)\n",
        "\n",
        "    # True\n",
        "    axes[1].bar(words_true, counts_true, color='seagreen')\n",
        "    axes[1].set_title(\"Top Words in 'True' Claims/Posts\")\n",
        "    axes[1].set_xlabel(\"Words\")\n",
        "    axes[1].tick_params(axis='x', rotation=45)\n",
        "\n",
        "    plt.tight_layout()\n",
        "    plt.savefig(\"top_words_true_vs_false.png\")\n",
        "    plt.show()\n",
        "\n",
        "plot_top_words_dual_subplot(top_false, top_true)"
      ],
      "metadata": {
        "colab": {
          "base_uri": "https://localhost:8080/",
          "height": 1000
        },
        "id": "HRSaMP2Rt2kn",
        "outputId": "97827ccb-4b05-47bb-a804-ded59ed91a1f"
      },
      "execution_count": 35,
      "outputs": [
        {
          "output_type": "display_data",
          "data": {
            "text/plain": [
              "<Figure size 1000x1000 with 2 Axes>"
            ],
            "image/png": "[encoded data removed]"
          },
          "metadata": {}
        }
      ]
    },
    {
      "cell_type": "markdown",
      "source": [
        "# Baseline models"
      ],
      "metadata": {
        "id": "kqlHKFUeHTLW"
      }
    },
    {
      "cell_type": "code",
      "source": [
        "X = final_data['clean_claim']\n",
        "y = final_data['label'].map({'true': 1, 'false': 0})"
      ],
      "metadata": {
        "id": "lbeHfiawQXG-"
      },
      "execution_count": 36,
      "outputs": []
    },
    {
      "cell_type": "code",
      "source": [
        "from sklearn.feature_extraction.text import TfidfVectorizer\n",
        "\n",
        "vectorizer = TfidfVectorizer(stop_words='english')\n",
        "X_tfidf = vectorizer.fit_transform(X)"
      ],
      "metadata": {
        "id": "AWFuYvAzQXPU"
      },
      "execution_count": 37,
      "outputs": []
    },
    {
      "cell_type": "markdown",
      "source": [
        "## Naive Bayes"
      ],
      "metadata": {
        "id": "T7xLeOt1rK4V"
      }
    },
    {
      "cell_type": "code",
      "source": [
        "from sklearn.model_selection import train_test_split\n",
        "from sklearn.naive_bayes import MultinomialNB\n",
        "from sklearn.metrics import classification_report, confusion_matrix\n",
        "\n",
        "X_train, X_test, y_train, y_test = train_test_split(X_tfidf, y, test_size=0.2, random_state=42)\n",
        "\n",
        "# naive bayes\n",
        "modelNB = MultinomialNB()\n",
        "modelNB.fit(X_train, y_train)\n",
        "\n",
        "\n",
        "y_pred_nb = modelNB.predict(X_test)\n",
        "\n",
        "\n",
        "print(classification_report(y_test, y_pred_nb, target_names=[\"False\", \"True\"]))\n",
        "print(\"Confusion Matrix:\\n\", confusion_matrix(y_test, y_pred_nb))"
      ],
      "metadata": {
        "colab": {
          "base_uri": "https://localhost:8080/"
        },
        "id": "n_wHPksaI1PB",
        "outputId": "6f1cc601-ca7b-4370-cb85-33681aa9601d"
      },
      "execution_count": 38,
      "outputs": [
        {
          "output_type": "stream",
          "name": "stdout",
          "text": [
            "              precision    recall  f1-score   support\n",
            "\n",
            "       False       0.80      0.60      0.68      1294\n",
            "        True       0.76      0.89      0.82      1846\n",
            "\n",
            "    accuracy                           0.77      3140\n",
            "   macro avg       0.78      0.75      0.75      3140\n",
            "weighted avg       0.78      0.77      0.77      3140\n",
            "\n",
            "Confusion Matrix:\n",
            " [[ 777  517]\n",
            " [ 199 1647]]\n"
          ]
        }
      ]
    },
    {
      "cell_type": "markdown",
      "source": [
        "## Logistic Regression"
      ],
      "metadata": {
        "id": "aOWWlJwmrPQ3"
      }
    },
    {
      "cell_type": "code",
      "source": [
        "from sklearn.linear_model import LogisticRegression\n",
        "from sklearn.model_selection import train_test_split\n",
        "from sklearn.feature_extraction.text import TfidfVectorizer\n",
        "from sklearn.metrics import classification_report, confusion_matrix\n",
        "\n",
        "# logistic regression\n",
        "modelLR = LogisticRegression(max_iter=1000)\n",
        "modelLR.fit(X_train, y_train)\n",
        "\n",
        "y_pred_lr = modelLR.predict(X_test)\n",
        "\n",
        "print(classification_report(y_test, y_pred_lr, target_names=[\"False\", \"True\"]))\n",
        "print(\"Confusion Matrix:\\n\", confusion_matrix(y_test, y_pred_lr))"
      ],
      "metadata": {
        "colab": {
          "base_uri": "https://localhost:8080/"
        },
        "id": "W-8RWTrkRH-I",
        "outputId": "27a32443-fd6d-433a-fde3-7db90979037f"
      },
      "execution_count": 39,
      "outputs": [
        {
          "output_type": "stream",
          "name": "stdout",
          "text": [
            "              precision    recall  f1-score   support\n",
            "\n",
            "       False       0.78      0.66      0.71      1294\n",
            "        True       0.78      0.87      0.82      1846\n",
            "\n",
            "    accuracy                           0.78      3140\n",
            "   macro avg       0.78      0.76      0.77      3140\n",
            "weighted avg       0.78      0.78      0.78      3140\n",
            "\n",
            "Confusion Matrix:\n",
            " [[ 848  446]\n",
            " [ 238 1608]]\n"
          ]
        }
      ]
    },
    {
      "cell_type": "markdown",
      "source": [
        "## Evaluation plots"
      ],
      "metadata": {
        "id": "JOpZ15MiraAh"
      }
    },
    {
      "cell_type": "code",
      "source": [
        "import matplotlib.pyplot as plt\n",
        "import seaborn as sns\n",
        "import pandas as pd\n",
        "import numpy as np\n",
        "from sklearn.metrics import classification_report, confusion_matrix\n",
        "\n",
        "def plot_evaluation(y_true, y_pred_nb, y_pred_lr):\n",
        "    report_nb = classification_report(y_true, y_pred_nb, output_dict=True, zero_division=0, target_names=[\"False\", \"True\"])\n",
        "    report_lr = classification_report(y_true, y_pred_lr, output_dict=True, zero_division=0, target_names=[\"False\", \"True\"])\n",
        "\n",
        "    df_nb = pd.DataFrame(report_nb).transpose().loc[['False', 'True'], ['precision', 'recall', 'f1-score']]\n",
        "    df_nb['model'] = 'Naive Bayes'\n",
        "\n",
        "    df_lr = pd.DataFrame(report_lr).transpose().loc[['False', 'True'], ['precision', 'recall', 'f1-score']]\n",
        "    df_lr['model'] = 'Logistic Regression'\n",
        "\n",
        "    df_all = pd.concat([df_nb, df_lr]).reset_index().rename(columns={'index': 'label'})\n",
        "\n",
        "    # 🎯 plot F1\n",
        "    plt.figure(figsize=(7, 5))\n",
        "    sns.barplot(data=df_all, x='label', y='f1-score', hue='model', width=0.6)\n",
        "    plt.title('F1 Score per Label')\n",
        "    plt.xlabel('Label')\n",
        "    plt.ylabel('F1 Score')\n",
        "    plt.ylim(0, 1)\n",
        "    plt.tight_layout()\n",
        "    plt.savefig(\"f1_score_comparison.png\")\n",
        "    plt.show()\n",
        "\n",
        "    # 🎯 confusion matrix - naive bayes\n",
        "    cm_nb = confusion_matrix(y_true, y_pred_nb)\n",
        "\n",
        "    plt.figure(figsize=(6, 5))\n",
        "    sns.heatmap(cm_nb, annot=True, fmt='d', cmap='Blues',\n",
        "                xticklabels=['False', 'True'], yticklabels=['False', 'True'])\n",
        "    plt.title('Confusion Matrix - Naive Bayes')\n",
        "    plt.xlabel('Predicted')\n",
        "    plt.ylabel('Actual')\n",
        "    plt.tight_layout()\n",
        "    plt.savefig(\"confusion_naive_bayes.png\")\n",
        "    plt.show()\n",
        "\n",
        "    # 🎯 confusion matrix - naive bayes\n",
        "    cm_lr = confusion_matrix(y_true, y_pred_lr)\n",
        "\n",
        "    plt.figure(figsize=(6, 5))\n",
        "    sns.heatmap(cm_lr, annot=True, fmt='d', cmap='Blues',\n",
        "                xticklabels=['False', 'True'], yticklabels=['False', 'True'])\n",
        "    plt.title('Confusion Matrix - Logistic Regression')\n",
        "    plt.xlabel('Predicted')\n",
        "    plt.ylabel('Actual')\n",
        "    plt.tight_layout()\n",
        "    plt.savefig(\"confusion_matrix_logistic.png\")\n",
        "    plt.show()\n"
      ],
      "metadata": {
        "id": "KMnsZaYETdlI"
      },
      "execution_count": 40,
      "outputs": []
    },
    {
      "cell_type": "code",
      "source": [
        "plot_evaluation(y_test, y_pred_nb, y_pred_lr)"
      ],
      "metadata": {
        "colab": {
          "base_uri": "https://localhost:8080/",
          "height": 1000
        },
        "id": "vn0ukFRs_Bx1",
        "outputId": "ab5351ac-a980-4e04-d22a-85277873fc03"
      },
      "execution_count": 41,
      "outputs": [
        {
          "output_type": "display_data",
          "data": {
            "text/plain": [
              "<Figure size 700x500 with 1 Axes>"
            ],
            "image/png": "[encoded data removed]"
          },
          "metadata": {}
        },
        {
          "output_type": "display_data",
          "data": {
            "text/plain": [
              "<Figure size 600x500 with 2 Axes>"
            ],
            "image/png": "[encoded data removed]"
          },
          "metadata": {}
        },
        {
          "output_type": "display_data",
          "data": {
            "text/plain": [
              "<Figure size 600x500 with 2 Axes>"
            ],
            "image/png": "[encoded data removed]"
          },
          "metadata": {}
        }
      ]
    },
    {
      "cell_type": "code",
      "source": [],
      "metadata": {
        "id": "U8-wAVd2_B0O"
      },
      "execution_count": null,
      "outputs": []
    }
  ]
}